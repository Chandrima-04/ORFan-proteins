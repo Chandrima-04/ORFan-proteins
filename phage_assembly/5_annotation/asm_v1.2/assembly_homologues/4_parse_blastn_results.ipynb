{
 "cells": [
  {
   "cell_type": "code",
   "execution_count": 1,
   "metadata": {
    "collapsed": true
   },
   "outputs": [],
   "source": [
    "import pandas as pd\n",
    "import re\n",
    "from glob import glob\n",
    "import requests\n",
    "from bs4 import BeautifulSoup"
   ]
  },
  {
   "cell_type": "markdown",
   "metadata": {},
   "source": [
    "# Load blast hits"
   ]
  },
  {
   "cell_type": "code",
   "execution_count": 3,
   "metadata": {
    "collapsed": false
   },
   "outputs": [],
   "source": [
    "#Load blastn hits\n",
    "blastn_hits = pd.read_csv(\"blastn_hits.csv\")"
   ]
  },
  {
   "cell_type": "markdown",
   "metadata": {},
   "source": [
    "# 1. Analyze blastn hits\n",
    "\n",
    "## 1.1 Extract best env_nt hits to perform a genome MSA\n",
    "\n",
    "The main goal is to perform an MSA between our D9539 assembly and the similar seqs in the dbs"
   ]
  },
  {
   "cell_type": "code",
   "execution_count": 4,
   "metadata": {
    "collapsed": true
   },
   "outputs": [],
   "source": [
    "#List of sequences to extract\n",
    "seqs_for_msa = blastn_hits[blastn_hits.db == \"env_nt\"].sort_values(by=\"ali_len\",ascending=False).head(n=10)\n",
    "#Export megahit ids to extract directly from fasta : Empty!\n",
    "#seqs_for_msa[seqs_for_msa.db == \"hmp_nuc\"][\"subject_id\"].to_csv(\"d9539_hmp_homologs.txt\",sep=\"\\t\",index=False,header=False)"
   ]
  },
  {
   "cell_type": "markdown",
   "metadata": {},
   "source": [
    "** Obtain fastas for env_nt homologs from eutils **"
   ]
  },
  {
   "cell_type": "code",
   "execution_count": 12,
   "metadata": {
    "collapsed": false
   },
   "outputs": [
    {
     "name": "stdout",
     "output_type": "stream",
     "text": [
      "935523605,934409231,842490291,934040108,931667140,931877178,782230860\n"
     ]
    }
   ],
   "source": [
    "#Use efetch to extract and save to a file the fsta with the sequences\n",
    "gis_to_get = \",\".join(set(str(int(x)) for x in seqs_for_msa[seqs_for_msa.db == \"env_nt\"][\"gi\"]))\n",
    "print(gis_to_get)\n",
    "r = requests.get(\"http://eutils.ncbi.nlm.nih.gov/entrez/eutils/efetch.fcgi?db=nuccore&id={}&rettype=fasta&retmode=text\".format(gis_to_get))\n",
    "with open(\"d9539_env_nt_homologs.fa\",\"w\") as env_nt_fh:\n",
    "    env_nt_fh.write(str(r.content.decode()))"
   ]
  },
  {
   "cell_type": "code",
   "execution_count": 13,
   "metadata": {
    "collapsed": false
   },
   "outputs": [],
   "source": [
    "#Remove whitespace between seqs\n",
    "!sed \"/^$/d\" d9539_env_nt_homologs.fa > d9539_env_nt_homologs.fasta\n",
    "!rm d9539_env_nt_homologs.fa"
   ]
  }
 ],
 "metadata": {
  "kernelspec": {
   "display_name": "Python 3",
   "language": "python",
   "name": "python3"
  },
  "language_info": {
   "codemirror_mode": {
    "name": "ipython",
    "version": 3
   },
   "file_extension": ".py",
   "mimetype": "text/x-python",
   "name": "python",
   "nbconvert_exporter": "python",
   "pygments_lexer": "ipython3",
   "version": "3.5.1"
  }
 },
 "nbformat": 4,
 "nbformat_minor": 0
}

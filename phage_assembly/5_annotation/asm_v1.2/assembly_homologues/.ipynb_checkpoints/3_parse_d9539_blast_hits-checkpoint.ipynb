{
 "cells": [
  {
   "cell_type": "code",
   "execution_count": 1,
   "metadata": {
    "collapsed": false
   },
   "outputs": [
    {
     "name": "stdout",
     "output_type": "stream",
     "text": [
      "2_blast.mak                    d9539_hmp_homologs.txt\r\n",
      "3_parse_d9539_blast_hits.ipynb d9539_metahit_homologs.fasta\r\n",
      "4_parse_blastn_results.ipynb   d9539_metahit_homologs.txt\r\n",
      "\u001b[1m\u001b[36mblastn\u001b[m\u001b[m                         get_metahit_seqs.sh\r\n",
      "d9539_env_nt_homologs.fasta    \u001b[1m\u001b[36mmauve_msa\u001b[m\u001b[m\r\n"
     ]
    }
   ],
   "source": [
    "!ls"
   ]
  },
  {
   "cell_type": "code",
   "execution_count": 2,
   "metadata": {
    "collapsed": true
   },
   "outputs": [],
   "source": [
    "import pandas as pd\n",
    "import re\n",
    "from glob import glob\n",
    "import requests\n",
    "from bs4 import BeautifulSoup"
   ]
  },
  {
   "cell_type": "markdown",
   "metadata": {},
   "source": [
    "# 1. Aggregate all blast results"
   ]
  },
  {
   "cell_type": "code",
   "execution_count": 3,
   "metadata": {
    "collapsed": false
   },
   "outputs": [],
   "source": [
    "blast_file_regex = re.compile(r\"(blast[np])_vs_([a-zA-Z_]+).tsv\")\n",
    "blast_cols = [\"query_id\",\"subject_id\",\"pct_id\",\"ali_len\",\"mism\",\n",
    "              \"gap_open\",\"q_start\",\"q_end\",\"s_start\",\"s_end\",\"e_value\",\"bitscore\"]\n",
    "\n",
    "blast_hits = []\n",
    "for blast_filename in glob(\"blastn/*.tsv\"):\n",
    "    tool_id,db_id = blast_file_regex.search(blast_filename).groups()\n",
    "    blast_hits.append( pd.read_csv(blast_filename,sep=\"\\t\",header=None,names=blast_cols) )\n",
    "    blast_hits[-1][\"tool\"] = tool_id\n",
    "    blast_hits[-1][\"db\"] = db_id"
   ]
  },
  {
   "cell_type": "code",
   "execution_count": 4,
   "metadata": {
    "collapsed": false
   },
   "outputs": [
    {
     "data": {
      "text/html": [
       "<div>\n",
       "<table border=\"1\" class=\"dataframe\">\n",
       "  <thead>\n",
       "    <tr style=\"text-align: right;\">\n",
       "      <th></th>\n",
       "      <th>query_id</th>\n",
       "      <th>subject_id</th>\n",
       "      <th>pct_id</th>\n",
       "      <th>ali_len</th>\n",
       "      <th>mism</th>\n",
       "      <th>gap_open</th>\n",
       "      <th>q_start</th>\n",
       "      <th>q_end</th>\n",
       "      <th>s_start</th>\n",
       "      <th>s_end</th>\n",
       "      <th>e_value</th>\n",
       "      <th>bitscore</th>\n",
       "      <th>tool</th>\n",
       "      <th>db</th>\n",
       "    </tr>\n",
       "  </thead>\n",
       "  <tbody>\n",
       "    <tr>\n",
       "      <th>0</th>\n",
       "      <td>d9539_asm_v1.2</td>\n",
       "      <td>gi|935523605|emb|CDTY01044545.1|</td>\n",
       "      <td>89.62</td>\n",
       "      <td>5270.0</td>\n",
       "      <td>532.0</td>\n",
       "      <td>14.0</td>\n",
       "      <td>1.0</td>\n",
       "      <td>5261.0</td>\n",
       "      <td>2725.0</td>\n",
       "      <td>7988.0</td>\n",
       "      <td>0.0</td>\n",
       "      <td>6687.0</td>\n",
       "      <td>blastn</td>\n",
       "      <td>env_nt</td>\n",
       "    </tr>\n",
       "    <tr>\n",
       "      <th>1</th>\n",
       "      <td>d9539_asm_v1.2</td>\n",
       "      <td>gi|935523605|emb|CDTY01044545.1|</td>\n",
       "      <td>89.29</td>\n",
       "      <td>2726.0</td>\n",
       "      <td>283.0</td>\n",
       "      <td>9.0</td>\n",
       "      <td>3032.0</td>\n",
       "      <td>5751.0</td>\n",
       "      <td>1.0</td>\n",
       "      <td>2723.0</td>\n",
       "      <td>0.0</td>\n",
       "      <td>3408.0</td>\n",
       "      <td>blastn</td>\n",
       "      <td>env_nt</td>\n",
       "    </tr>\n",
       "    <tr>\n",
       "      <th>2</th>\n",
       "      <td>d9539_asm_v1.2</td>\n",
       "      <td>gi|934409231|emb|CDZF01013522.1|</td>\n",
       "      <td>89.14</td>\n",
       "      <td>5332.0</td>\n",
       "      <td>558.0</td>\n",
       "      <td>19.0</td>\n",
       "      <td>1.0</td>\n",
       "      <td>5318.0</td>\n",
       "      <td>5325.0</td>\n",
       "      <td>1.0</td>\n",
       "      <td>0.0</td>\n",
       "      <td>6619.0</td>\n",
       "      <td>blastn</td>\n",
       "      <td>env_nt</td>\n",
       "    </tr>\n",
       "    <tr>\n",
       "      <th>3</th>\n",
       "      <td>d9539_asm_v1.2</td>\n",
       "      <td>gi|934409231|emb|CDZF01013522.1|</td>\n",
       "      <td>88.44</td>\n",
       "      <td>770.0</td>\n",
       "      <td>78.0</td>\n",
       "      <td>11.0</td>\n",
       "      <td>4989.0</td>\n",
       "      <td>5751.0</td>\n",
       "      <td>6092.0</td>\n",
       "      <td>5327.0</td>\n",
       "      <td>0.0</td>\n",
       "      <td>918.0</td>\n",
       "      <td>blastn</td>\n",
       "      <td>env_nt</td>\n",
       "    </tr>\n",
       "    <tr>\n",
       "      <th>4</th>\n",
       "      <td>d9539_asm_v1.2</td>\n",
       "      <td>gi|931877178|emb|CEAD01032396.1|</td>\n",
       "      <td>89.67</td>\n",
       "      <td>4705.0</td>\n",
       "      <td>474.0</td>\n",
       "      <td>11.0</td>\n",
       "      <td>1.0</td>\n",
       "      <td>4699.0</td>\n",
       "      <td>1213.0</td>\n",
       "      <td>5911.0</td>\n",
       "      <td>0.0</td>\n",
       "      <td>5986.0</td>\n",
       "      <td>blastn</td>\n",
       "      <td>env_nt</td>\n",
       "    </tr>\n",
       "  </tbody>\n",
       "</table>\n",
       "</div>"
      ],
      "text/plain": [
       "         query_id                        subject_id  pct_id  ali_len   mism  \\\n",
       "0  d9539_asm_v1.2  gi|935523605|emb|CDTY01044545.1|   89.62   5270.0  532.0   \n",
       "1  d9539_asm_v1.2  gi|935523605|emb|CDTY01044545.1|   89.29   2726.0  283.0   \n",
       "2  d9539_asm_v1.2  gi|934409231|emb|CDZF01013522.1|   89.14   5332.0  558.0   \n",
       "3  d9539_asm_v1.2  gi|934409231|emb|CDZF01013522.1|   88.44    770.0   78.0   \n",
       "4  d9539_asm_v1.2  gi|931877178|emb|CEAD01032396.1|   89.67   4705.0  474.0   \n",
       "\n",
       "   gap_open  q_start   q_end  s_start   s_end  e_value  bitscore    tool  \\\n",
       "0      14.0      1.0  5261.0   2725.0  7988.0      0.0    6687.0  blastn   \n",
       "1       9.0   3032.0  5751.0      1.0  2723.0      0.0    3408.0  blastn   \n",
       "2      19.0      1.0  5318.0   5325.0     1.0      0.0    6619.0  blastn   \n",
       "3      11.0   4989.0  5751.0   6092.0  5327.0      0.0     918.0  blastn   \n",
       "4      11.0      1.0  4699.0   1213.0  5911.0      0.0    5986.0  blastn   \n",
       "\n",
       "       db  \n",
       "0  env_nt  \n",
       "1  env_nt  \n",
       "2  env_nt  \n",
       "3  env_nt  \n",
       "4  env_nt  "
      ]
     },
     "execution_count": 4,
     "metadata": {},
     "output_type": "execute_result"
    }
   ],
   "source": [
    "all_blast_hits = blast_hits[0]\n",
    "for search_hits in blast_hits[1:]:\n",
    "    all_blast_hits = all_blast_hits.append(search_hits)\n",
    "all_blast_hits.head()"
   ]
  },
  {
   "cell_type": "markdown",
   "metadata": {},
   "source": [
    "# 2. Annotate blast results with tax and hit name information extracted from NCBI with eutils"
   ]
  },
  {
   "cell_type": "code",
   "execution_count": 5,
   "metadata": {
    "collapsed": false,
    "scrolled": false
   },
   "outputs": [
    {
     "name": "stdout",
     "output_type": "stream",
     "text": [
      "935523605\n",
      "935523605\n",
      "935523605\n",
      "934409231\n",
      "934409231\n",
      "931877178\n",
      "931877178\n",
      "931667140\n",
      "934040108\n",
      "782230860\n",
      "842490291\n",
      "793554749\n",
      "132430165\n"
     ]
    }
   ],
   "source": [
    "subj_id_regex= re.compile(r\"^gi\\|([0-9]+)\\|\")\n",
    "def check_gi_in_ncbi(row):\n",
    "    description = None\n",
    "    tax_id = None\n",
    "    subj_len = None\n",
    "    gi = None\n",
    "    gi_match = subj_id_regex.match(row[\"subject_id\"])\n",
    "    if gi_match:\n",
    "        ncbi_db = \"nuccore\" if row[\"tool\"] == \"blastn\" else \"protein\"\n",
    "        gi = gi_match.group(1)\n",
    "        r = requests.get(\"http://eutils.ncbi.nlm.nih.gov/entrez/eutils/esummary.fcgi?db={}&id={}\".format(ncbi_db,gi))\n",
    "        if r.status_code == 200:\n",
    "            print(gi)\n",
    "            xml_doc = BeautifulSoup(r.content,\"xml\")\n",
    "            if not xml_doc.find(\"Item\",Name=\"Title\"):\n",
    "                print(r.content)\n",
    "            else:\n",
    "                description = xml_doc.find(\"Item\",Name=\"Title\").text \n",
    "                tax_id = xml_doc.find(\"Item\",Name=\"TaxId\").text \n",
    "                subj_len = xml_doc.find(\"Item\",Name=\"Length\").text \n",
    "    return pd.Series([gi,description,tax_id,subj_len])\n",
    "\n",
    "#Run annotation\n",
    "all_blast_hits[[\"gi\",\"description\",\"tax_id\",\"s_len\"]] = all_blast_hits.apply(check_gi_in_ncbi,axis=1)"
   ]
  },
  {
   "cell_type": "markdown",
   "metadata": {},
   "source": [
    "# 3. Write annotated results out"
   ]
  },
  {
   "cell_type": "code",
   "execution_count": 6,
   "metadata": {
    "collapsed": false
   },
   "outputs": [],
   "source": [
    "all_blast_hits.sort_values(by=[\"query_id\",\"bitscore\"],ascending=False).to_csv(\"blastn_hits.csv\",index=False)"
   ]
  },
  {
   "cell_type": "code",
   "execution_count": null,
   "metadata": {
    "collapsed": true
   },
   "outputs": [],
   "source": []
  }
 ],
 "metadata": {
  "kernelspec": {
   "display_name": "Python 3",
   "language": "python",
   "name": "python3"
  },
  "language_info": {
   "codemirror_mode": {
    "name": "ipython",
    "version": 3
   },
   "file_extension": ".py",
   "mimetype": "text/x-python",
   "name": "python",
   "nbconvert_exporter": "python",
   "pygments_lexer": "ipython3",
   "version": "3.5.1"
  }
 },
 "nbformat": 4,
 "nbformat_minor": 0
}

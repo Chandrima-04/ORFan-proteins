{
 "cells": [
  {
   "cell_type": "code",
   "execution_count": 1,
   "metadata": {
    "collapsed": false
   },
   "outputs": [
    {
     "name": "stdout",
     "output_type": "stream",
     "text": [
      "1_find_orfs.mak                         2_run_blast.sh\r\n",
      "\u001b[1m\u001b[36m1_orf\u001b[m\u001b[m                                   3_aggregate_blast_hits.ipynb\r\n",
      "\u001b[1m\u001b[36m2_blast\u001b[m\u001b[m                                 \u001b[1m\u001b[36m3_filtered_orfs\u001b[m\u001b[m\r\n",
      "2_blast.mak                             4_select_reliable_orfs.ipynb\r\n",
      "\u001b[1m\u001b[36m2_hmmscan\u001b[m\u001b[m                               5_extract_reliable_orf_hmmer_hits.ipynb\r\n",
      "2_hmmscan.mak                           \u001b[1m\u001b[36mlog\u001b[m\u001b[m\r\n"
     ]
    }
   ],
   "source": [
    "!ls"
   ]
  },
  {
   "cell_type": "code",
   "execution_count": 2,
   "metadata": {
    "collapsed": true
   },
   "outputs": [],
   "source": [
    "import pandas as pd\n",
    "import re\n",
    "from glob import glob\n",
    "import requests\n",
    "from bs4 import BeautifulSoup"
   ]
  },
  {
   "cell_type": "markdown",
   "metadata": {},
   "source": [
    "# 1. Aggregate all blast results"
   ]
  },
  {
   "cell_type": "code",
   "execution_count": 5,
   "metadata": {
    "collapsed": false
   },
   "outputs": [],
   "source": [
    "blast_file_regex = re.compile(r\"(blast[np])_vs_([a-zA-Z0-9_]+).tsv\")\n",
    "blast_cols = [\"query_id\",\"subject_id\",\"pct_id\",\"ali_len\",\"mism\",\n",
    "              \"gap_open\",\"q_start\",\"q_end\",\"s_start\",\"s_end\",\n",
    "              \"e_value\",\"bitscore\",\"q_len\",\"s_len\",\"s_gi\",\n",
    "             \"s_taxids\",\"s_scinames\",\"s_names\",\"q_cov\",\"s_description\"\n",
    "             ]\n",
    "\n",
    "#blast_cols = \"qseqid sseqid pident length mismatch gapopen qstart qend sstart send evalue bitscore qlen slen sgi staxids sscinames scomnames qcovs stitle\""
   ]
  },
  {
   "cell_type": "code",
   "execution_count": 6,
   "metadata": {
    "collapsed": false
   },
   "outputs": [],
   "source": [
    "blast_hits = []\n",
    "for blast_filename in glob(\"2_blast/*.tsv\"):\n",
    "    tool_id,db_id = blast_file_regex.search(blast_filename).groups()\n",
    "    blast_hits.append( pd.read_csv(blast_filename,sep=\"\\t\",header=None,names=blast_cols) )\n",
    "    blast_hits[-1][\"tool\"] = tool_id\n",
    "    blast_hits[-1][\"db\"] = db_id"
   ]
  },
  {
   "cell_type": "code",
   "execution_count": 7,
   "metadata": {
    "collapsed": false
   },
   "outputs": [
    {
     "name": "stdout",
     "output_type": "stream",
     "text": [
      "(431, 22)\n"
     ]
    }
   ],
   "source": [
    "all_blast_hits = blast_hits[0]\n",
    "for search_hits in blast_hits[1:]:\n",
    "    all_blast_hits = all_blast_hits.append(search_hits)\n",
    "print(all_blast_hits.shape)"
   ]
  },
  {
   "cell_type": "code",
   "execution_count": 8,
   "metadata": {
    "collapsed": false
   },
   "outputs": [
    {
     "data": {
      "text/html": [
       "<div>\n",
       "<table border=\"1\" class=\"dataframe\">\n",
       "  <thead>\n",
       "    <tr style=\"text-align: right;\">\n",
       "      <th></th>\n",
       "      <th>query_id</th>\n",
       "      <th>subject_id</th>\n",
       "      <th>pct_id</th>\n",
       "      <th>ali_len</th>\n",
       "      <th>mism</th>\n",
       "      <th>gap_open</th>\n",
       "      <th>q_start</th>\n",
       "      <th>q_end</th>\n",
       "      <th>s_start</th>\n",
       "      <th>s_end</th>\n",
       "      <th>...</th>\n",
       "      <th>q_len</th>\n",
       "      <th>s_len</th>\n",
       "      <th>s_gi</th>\n",
       "      <th>s_taxids</th>\n",
       "      <th>s_scinames</th>\n",
       "      <th>s_names</th>\n",
       "      <th>q_cov</th>\n",
       "      <th>s_description</th>\n",
       "      <th>tool</th>\n",
       "      <th>db</th>\n",
       "    </tr>\n",
       "  </thead>\n",
       "  <tbody>\n",
       "    <tr>\n",
       "      <th>0</th>\n",
       "      <td>d9539_asm_v1.2_4</td>\n",
       "      <td>gi|402685296|gb|EJX08051.1|</td>\n",
       "      <td>36.111</td>\n",
       "      <td>36</td>\n",
       "      <td>23</td>\n",
       "      <td>0</td>\n",
       "      <td>16</td>\n",
       "      <td>51</td>\n",
       "      <td>147</td>\n",
       "      <td>182</td>\n",
       "      <td>...</td>\n",
       "      <td>52</td>\n",
       "      <td>416</td>\n",
       "      <td>402685296</td>\n",
       "      <td>749906</td>\n",
       "      <td>NaN</td>\n",
       "      <td>NaN</td>\n",
       "      <td>69</td>\n",
       "      <td>glycosyl transferase group 1 [gut metagenome]</td>\n",
       "      <td>blastp</td>\n",
       "      <td>env_nr</td>\n",
       "    </tr>\n",
       "    <tr>\n",
       "      <th>1</th>\n",
       "      <td>d9539_asm_v1.2_5</td>\n",
       "      <td>gi|140773177|gb|ECN40753.1|</td>\n",
       "      <td>30.508</td>\n",
       "      <td>59</td>\n",
       "      <td>32</td>\n",
       "      <td>2</td>\n",
       "      <td>1</td>\n",
       "      <td>51</td>\n",
       "      <td>124</td>\n",
       "      <td>181</td>\n",
       "      <td>...</td>\n",
       "      <td>58</td>\n",
       "      <td>206</td>\n",
       "      <td>140773177</td>\n",
       "      <td>408172</td>\n",
       "      <td>NaN</td>\n",
       "      <td>NaN</td>\n",
       "      <td>88</td>\n",
       "      <td>hypothetical protein GOS_6058719, partial [mar...</td>\n",
       "      <td>blastp</td>\n",
       "      <td>env_nr</td>\n",
       "    </tr>\n",
       "    <tr>\n",
       "      <th>2</th>\n",
       "      <td>d9539_asm_v1.2_5</td>\n",
       "      <td>gi|139039289|gb|ECC98867.1|</td>\n",
       "      <td>34.884</td>\n",
       "      <td>43</td>\n",
       "      <td>20</td>\n",
       "      <td>1</td>\n",
       "      <td>1</td>\n",
       "      <td>35</td>\n",
       "      <td>129</td>\n",
       "      <td>171</td>\n",
       "      <td>...</td>\n",
       "      <td>58</td>\n",
       "      <td>174</td>\n",
       "      <td>139039289</td>\n",
       "      <td>408172</td>\n",
       "      <td>NaN</td>\n",
       "      <td>NaN</td>\n",
       "      <td>60</td>\n",
       "      <td>hypothetical protein GOS_5221334, partial [mar...</td>\n",
       "      <td>blastp</td>\n",
       "      <td>env_nr</td>\n",
       "    </tr>\n",
       "    <tr>\n",
       "      <th>3</th>\n",
       "      <td>d9539_asm_v1.2_5</td>\n",
       "      <td>gi|135943891|gb|EBK87411.1|</td>\n",
       "      <td>28.814</td>\n",
       "      <td>59</td>\n",
       "      <td>33</td>\n",
       "      <td>2</td>\n",
       "      <td>1</td>\n",
       "      <td>51</td>\n",
       "      <td>124</td>\n",
       "      <td>181</td>\n",
       "      <td>...</td>\n",
       "      <td>58</td>\n",
       "      <td>193</td>\n",
       "      <td>135943891</td>\n",
       "      <td>408172</td>\n",
       "      <td>NaN</td>\n",
       "      <td>NaN</td>\n",
       "      <td>88</td>\n",
       "      <td>hypothetical protein GOS_8661086, partial [mar...</td>\n",
       "      <td>blastp</td>\n",
       "      <td>env_nr</td>\n",
       "    </tr>\n",
       "    <tr>\n",
       "      <th>4</th>\n",
       "      <td>d9539_asm_v1.2_5</td>\n",
       "      <td>gi|143562029|gb|EDF64666.1|</td>\n",
       "      <td>28.814</td>\n",
       "      <td>59</td>\n",
       "      <td>33</td>\n",
       "      <td>2</td>\n",
       "      <td>1</td>\n",
       "      <td>51</td>\n",
       "      <td>90</td>\n",
       "      <td>147</td>\n",
       "      <td>...</td>\n",
       "      <td>58</td>\n",
       "      <td>216</td>\n",
       "      <td>143562029</td>\n",
       "      <td>408172</td>\n",
       "      <td>NaN</td>\n",
       "      <td>NaN</td>\n",
       "      <td>88</td>\n",
       "      <td>hypothetical protein GOS_918582, partial [mari...</td>\n",
       "      <td>blastp</td>\n",
       "      <td>env_nr</td>\n",
       "    </tr>\n",
       "  </tbody>\n",
       "</table>\n",
       "<p>5 rows × 22 columns</p>\n",
       "</div>"
      ],
      "text/plain": [
       "           query_id                   subject_id  pct_id  ali_len  mism  \\\n",
       "0  d9539_asm_v1.2_4  gi|402685296|gb|EJX08051.1|  36.111       36    23   \n",
       "1  d9539_asm_v1.2_5  gi|140773177|gb|ECN40753.1|  30.508       59    32   \n",
       "2  d9539_asm_v1.2_5  gi|139039289|gb|ECC98867.1|  34.884       43    20   \n",
       "3  d9539_asm_v1.2_5  gi|135943891|gb|EBK87411.1|  28.814       59    33   \n",
       "4  d9539_asm_v1.2_5  gi|143562029|gb|EDF64666.1|  28.814       59    33   \n",
       "\n",
       "   gap_open  q_start  q_end  s_start  s_end   ...    q_len  s_len       s_gi  \\\n",
       "0         0       16     51      147    182   ...       52    416  402685296   \n",
       "1         2        1     51      124    181   ...       58    206  140773177   \n",
       "2         1        1     35      129    171   ...       58    174  139039289   \n",
       "3         2        1     51      124    181   ...       58    193  135943891   \n",
       "4         2        1     51       90    147   ...       58    216  143562029   \n",
       "\n",
       "   s_taxids  s_scinames s_names q_cov  \\\n",
       "0    749906         NaN     NaN    69   \n",
       "1    408172         NaN     NaN    88   \n",
       "2    408172         NaN     NaN    60   \n",
       "3    408172         NaN     NaN    88   \n",
       "4    408172         NaN     NaN    88   \n",
       "\n",
       "                                       s_description    tool      db  \n",
       "0      glycosyl transferase group 1 [gut metagenome]  blastp  env_nr  \n",
       "1  hypothetical protein GOS_6058719, partial [mar...  blastp  env_nr  \n",
       "2  hypothetical protein GOS_5221334, partial [mar...  blastp  env_nr  \n",
       "3  hypothetical protein GOS_8661086, partial [mar...  blastp  env_nr  \n",
       "4  hypothetical protein GOS_918582, partial [mari...  blastp  env_nr  \n",
       "\n",
       "[5 rows x 22 columns]"
      ]
     },
     "execution_count": 8,
     "metadata": {},
     "output_type": "execute_result"
    }
   ],
   "source": [
    "all_blast_hits.head()"
   ]
  },
  {
   "cell_type": "markdown",
   "metadata": {},
   "source": [
    "# 2. Write annotated results out"
   ]
  },
  {
   "cell_type": "code",
   "execution_count": 10,
   "metadata": {
    "collapsed": false
   },
   "outputs": [],
   "source": [
    "all_blast_hits.sort_values(by=[\"query_id\",\"bitscore\"],ascending=False).to_csv(\"2_blastp_hits.csv\",index=False)"
   ]
  },
  {
   "cell_type": "markdown",
   "metadata": {},
   "source": [
    "# Old steps, not used anymore\n",
    "\n",
    "### Annotate blast results with tax and hit name information extracted from NCBI with eutils"
   ]
  },
  {
   "cell_type": "raw",
   "metadata": {
    "collapsed": false,
    "scrolled": false
   },
   "source": [
    "subj_id_regex= re.compile(r\"^gi\\|([0-9]+)\\|\")\n",
    "def check_gi_in_ncbi(row):\n",
    "    description = None\n",
    "    tax_id = None\n",
    "    subj_len = None\n",
    "    gi = None\n",
    "    gi_match = subj_id_regex.match(row[\"subject_id\"])\n",
    "    if gi_match:\n",
    "        ncbi_db = \"nuccore\" if row[\"tool\"] == \"blastn\" else \"protein\"\n",
    "        gi = gi_match.group(1)\n",
    "        r = requests.get(\"http://eutils.ncbi.nlm.nih.gov/entrez/eutils/esummary.fcgi?db={}&id={}\".format(ncbi_db,gi))\n",
    "        if r.status_code == 200:\n",
    "            print(gi)\n",
    "            xml_doc = BeautifulSoup(r.content,\"xml\")\n",
    "            if not xml_doc.find(\"Item\",Name=\"Title\"):\n",
    "                print(r.content)\n",
    "            else:\n",
    "                description = xml_doc.find(\"Item\",Name=\"Title\").text \n",
    "                tax_id = xml_doc.find(\"Item\",Name=\"TaxId\").text \n",
    "                subj_len = xml_doc.find(\"Item\",Name=\"Length\").text \n",
    "    return pd.Series([gi,description,tax_id,subj_len])\n",
    "\n",
    "#Run annotation\n",
    "all_blast_hits[[\"gi\",\"description\",\"tax_id\",\"s_len\"]] = all_blast_hits.apply(check_gi_in_ncbi,axis=1)"
   ]
  }
 ],
 "metadata": {
  "kernelspec": {
   "display_name": "Python 3",
   "language": "python",
   "name": "python3"
  },
  "language_info": {
   "codemirror_mode": {
    "name": "ipython",
    "version": 3
   },
   "file_extension": ".py",
   "mimetype": "text/x-python",
   "name": "python",
   "nbconvert_exporter": "python",
   "pygments_lexer": "ipython3",
   "version": "3.5.1"
  }
 },
 "nbformat": 4,
 "nbformat_minor": 0
}

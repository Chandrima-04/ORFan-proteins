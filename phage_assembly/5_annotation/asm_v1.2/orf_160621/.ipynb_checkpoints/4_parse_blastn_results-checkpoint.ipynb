{
 "cells": [
  {
   "cell_type": "code",
   "execution_count": 1,
   "metadata": {
    "collapsed": true
   },
   "outputs": [],
   "source": [
    "import pandas as pd\n",
    "import re\n",
    "from glob import glob\n",
    "import requests\n",
    "from bs4 import BeautifulSoup"
   ]
  },
  {
   "cell_type": "markdown",
   "metadata": {},
   "source": [
    "# Load blast hits"
   ]
  },
  {
   "cell_type": "code",
   "execution_count": 2,
   "metadata": {
    "collapsed": true
   },
   "outputs": [],
   "source": [
    "#Load blast hits\n",
    "all_blast_hits = pd.read_csv(\"all_blast_hits.csv\")\n",
    "#Separate blastn from blastp hits\n",
    "blastn_hits = all_blast_hits[all_blast_hits.tool == \"blastn\"]\n",
    "blastp_hits = all_blast_hits[all_blast_hits.tool == \"blastp\"]"
   ]
  },
  {
   "cell_type": "markdown",
   "metadata": {},
   "source": [
    "# 1. Analyze blastn hits\n",
    "\n",
    "## 1.1 Extract best env_nt hits to perform a genome MSA\n",
    "\n",
    "The main goal is to perform an MSA between our D9539 assembly and the similar seqs in the dbs"
   ]
  },
  {
   "cell_type": "code",
   "execution_count": 3,
   "metadata": {
    "collapsed": true
   },
   "outputs": [],
   "source": [
    "#List of sequences to extract\n",
    "seqs_for_msa = blastn_hits[blastn_hits.db == \"env_nt\"].sort_values(by=\"ali_len\",ascending=False).head(n=10)\n",
    "#Export megahit ids to extract directly from fasta : Empty!\n",
    "#seqs_for_msa[seqs_for_msa.db == \"hmp_nuc\"][\"subject_id\"].to_csv(\"d9539_hmp_homologs.txt\",sep=\"\\t\",index=False,header=False)"
   ]
  },
  {
   "cell_type": "markdown",
   "metadata": {},
   "source": [
    "** Obtain fastas for env_nt homologs from eutils **"
   ]
  },
  {
   "cell_type": "code",
   "execution_count": 4,
   "metadata": {
    "collapsed": false
   },
   "outputs": [],
   "source": [
    "#Use efetch to extract and save to a file the fsta with the sequences\n",
    "gis_to_get = \",\".join(set(str(x) for x in seqs_for_msa[seqs_for_msa.db == \"env_nt\"][\"gi\"]))\n",
    "r = requests.get(\"http://eutils.ncbi.nlm.nih.gov/entrez/eutils/efetch.fcgi?db=nuccore&id={}&rettype=fasta&retmode=text\".format(gis_to_get))\n",
    "with open(\"3_assembly_msa/d9539_env_nt_homologs.fa\",\"w\") as env_nt_fh:\n",
    "    env_nt_fh.write(str(r.content.decode()))"
   ]
  },
  {
   "cell_type": "code",
   "execution_count": 5,
   "metadata": {
    "collapsed": true
   },
   "outputs": [],
   "source": [
    "#Remove whitespace between seqs\n",
    "!sed \"/^$/d\" 3_assembly_msa/d9539_env_nt_homologs.fa > 3_assembly_msa/d9539_env_nt_homologs.fasta\n",
    "!rm 3_assembly_msa/d9539_env_nt_homologs.fa"
   ]
  },
  {
   "cell_type": "markdown",
   "metadata": {},
   "source": [
    "# 2. Process blastp results\n",
    "\n",
    "## 2.1 Extract ORF stats from fasta file"
   ]
  },
  {
   "cell_type": "code",
   "execution_count": 6,
   "metadata": {
    "collapsed": false
   },
   "outputs": [
    {
     "data": {
      "text/html": [
       "<div>\n",
       "<table border=\"1\" class=\"dataframe\">\n",
       "  <thead>\n",
       "    <tr style=\"text-align: right;\">\n",
       "      <th></th>\n",
       "      <th>q_id</th>\n",
       "      <th>q_len</th>\n",
       "      <th>q_cds_start</th>\n",
       "      <th>q_cds_end</th>\n",
       "      <th>strand</th>\n",
       "    </tr>\n",
       "  </thead>\n",
       "  <tbody>\n",
       "    <tr>\n",
       "      <th>0</th>\n",
       "      <td>ctg_cut_pos_2072_1</td>\n",
       "      <td>27</td>\n",
       "      <td>25</td>\n",
       "      <td>105</td>\n",
       "      <td>+</td>\n",
       "    </tr>\n",
       "    <tr>\n",
       "      <th>1</th>\n",
       "      <td>ctg_cut_pos_2072_2</td>\n",
       "      <td>10</td>\n",
       "      <td>98</td>\n",
       "      <td>127</td>\n",
       "      <td>+</td>\n",
       "    </tr>\n",
       "    <tr>\n",
       "      <th>2</th>\n",
       "      <td>ctg_cut_pos_2072_3</td>\n",
       "      <td>36</td>\n",
       "      <td>130</td>\n",
       "      <td>237</td>\n",
       "      <td>+</td>\n",
       "    </tr>\n",
       "    <tr>\n",
       "      <th>3</th>\n",
       "      <td>ctg_cut_pos_2072_4</td>\n",
       "      <td>52</td>\n",
       "      <td>105</td>\n",
       "      <td>260</td>\n",
       "      <td>+</td>\n",
       "    </tr>\n",
       "    <tr>\n",
       "      <th>4</th>\n",
       "      <td>ctg_cut_pos_2072_5</td>\n",
       "      <td>58</td>\n",
       "      <td>215</td>\n",
       "      <td>388</td>\n",
       "      <td>+</td>\n",
       "    </tr>\n",
       "  </tbody>\n",
       "</table>\n",
       "</div>"
      ],
      "text/plain": [
       "                 q_id  q_len  q_cds_start  q_cds_end strand\n",
       "0  ctg_cut_pos_2072_1     27           25        105      +\n",
       "1  ctg_cut_pos_2072_2     10           98        127      +\n",
       "2  ctg_cut_pos_2072_3     36          130        237      +\n",
       "3  ctg_cut_pos_2072_4     52          105        260      +\n",
       "4  ctg_cut_pos_2072_5     58          215        388      +"
      ]
     },
     "execution_count": 6,
     "metadata": {},
     "output_type": "execute_result"
    }
   ],
   "source": [
    "#Assumes the Fasta file comes with the header format of EMBOSS getorf\n",
    "fh = open(\"1_orfs/d9539_asm_v1.2_emboss_orf1.fa\")\n",
    "header_regex = re.compile(r\">(.+_[0-9]+?) \\[([0-9]+) - ([0-9]+)\\] \")\n",
    "orf_stats = []\n",
    "for line in fh:\n",
    "    header_match = header_regex.match(line)\n",
    "    if header_match:\n",
    "        is_reverse = line.rstrip(\" \\n\").endswith(\"(REVERSE SENSE)\")\n",
    "        q_id = header_match.group(1)\n",
    "        #Position in contig\n",
    "        q_cds_start = int(header_match.group(2) if not is_reverse else header_match.group(3))\n",
    "        q_cds_end = int(header_match.group(3) if not is_reverse else header_match.group(2))\n",
    "        #Length of orf in aminoacids\n",
    "        q_len = (q_cds_end - q_cds_start + 1) / 3\n",
    "        orf_stats.append( pd.Series(data=[q_id,q_len,q_cds_start,q_cds_end,(\"-\" if is_reverse else \"+\")],\n",
    "                                     index=[\"q_id\",\"q_len\",\"q_cds_start\",\"q_cds_end\",\"strand\"]))\n",
    "        \n",
    "orf_stats_df = pd.DataFrame(orf_stats)\n",
    "orf_stats_df.head()"
   ]
  },
  {
   "cell_type": "code",
   "execution_count": 7,
   "metadata": {
    "collapsed": true
   },
   "outputs": [],
   "source": [
    "#Write orf stats to fasta\n",
    "orf_stats_df.to_csv(\"orf_stats.csv\",index=False)"
   ]
  },
  {
   "cell_type": "markdown",
   "metadata": {},
   "source": [
    "## 2.2 Annotate blast hits with orf stats "
   ]
  },
  {
   "cell_type": "code",
   "execution_count": 8,
   "metadata": {
    "collapsed": false
   },
   "outputs": [
    {
     "data": {
      "text/html": [
       "<div>\n",
       "<table border=\"1\" class=\"dataframe\">\n",
       "  <thead>\n",
       "    <tr style=\"text-align: right;\">\n",
       "      <th></th>\n",
       "      <th>query_id</th>\n",
       "      <th>subject_id</th>\n",
       "      <th>pct_id</th>\n",
       "      <th>ali_len</th>\n",
       "      <th>mism</th>\n",
       "      <th>gap_open</th>\n",
       "      <th>q_start</th>\n",
       "      <th>q_end</th>\n",
       "      <th>s_start</th>\n",
       "      <th>s_end</th>\n",
       "      <th>...</th>\n",
       "      <th>gi</th>\n",
       "      <th>description</th>\n",
       "      <th>tax_id</th>\n",
       "      <th>s_len</th>\n",
       "      <th>q_id</th>\n",
       "      <th>q_len</th>\n",
       "      <th>q_cds_start</th>\n",
       "      <th>q_cds_end</th>\n",
       "      <th>strand</th>\n",
       "      <th>q_cov</th>\n",
       "    </tr>\n",
       "  </thead>\n",
       "  <tbody>\n",
       "    <tr>\n",
       "      <th>98</th>\n",
       "      <td>ctg_cut_pos_2072_29</td>\n",
       "      <td>GL0047061_MH0039_[Complete]_[mRNA]_locus=scaff...</td>\n",
       "      <td>93.04</td>\n",
       "      <td>647</td>\n",
       "      <td>45</td>\n",
       "      <td>0</td>\n",
       "      <td>1</td>\n",
       "      <td>647</td>\n",
       "      <td>1</td>\n",
       "      <td>647</td>\n",
       "      <td>...</td>\n",
       "      <td>NaN</td>\n",
       "      <td>NaN</td>\n",
       "      <td>NaN</td>\n",
       "      <td>NaN</td>\n",
       "      <td>ctg_cut_pos_2072_29</td>\n",
       "      <td>647</td>\n",
       "      <td>3429</td>\n",
       "      <td>5369</td>\n",
       "      <td>+</td>\n",
       "      <td>1.000000</td>\n",
       "    </tr>\n",
       "    <tr>\n",
       "      <th>99</th>\n",
       "      <td>ctg_cut_pos_2072_29</td>\n",
       "      <td>GL0107162_V1_[Complete]_[mRNA]_locus=scaffold7...</td>\n",
       "      <td>87.81</td>\n",
       "      <td>648</td>\n",
       "      <td>78</td>\n",
       "      <td>1</td>\n",
       "      <td>1</td>\n",
       "      <td>647</td>\n",
       "      <td>1</td>\n",
       "      <td>648</td>\n",
       "      <td>...</td>\n",
       "      <td>NaN</td>\n",
       "      <td>NaN</td>\n",
       "      <td>NaN</td>\n",
       "      <td>NaN</td>\n",
       "      <td>ctg_cut_pos_2072_29</td>\n",
       "      <td>647</td>\n",
       "      <td>3429</td>\n",
       "      <td>5369</td>\n",
       "      <td>+</td>\n",
       "      <td>1.000000</td>\n",
       "    </tr>\n",
       "    <tr>\n",
       "      <th>100</th>\n",
       "      <td>ctg_cut_pos_2072_29</td>\n",
       "      <td>GL0033034_MH0077_[Lack_both_end]_[mRNA]_locus=...</td>\n",
       "      <td>86.33</td>\n",
       "      <td>439</td>\n",
       "      <td>59</td>\n",
       "      <td>1</td>\n",
       "      <td>170</td>\n",
       "      <td>607</td>\n",
       "      <td>1</td>\n",
       "      <td>439</td>\n",
       "      <td>...</td>\n",
       "      <td>NaN</td>\n",
       "      <td>NaN</td>\n",
       "      <td>NaN</td>\n",
       "      <td>NaN</td>\n",
       "      <td>ctg_cut_pos_2072_29</td>\n",
       "      <td>647</td>\n",
       "      <td>3429</td>\n",
       "      <td>5369</td>\n",
       "      <td>+</td>\n",
       "      <td>0.676971</td>\n",
       "    </tr>\n",
       "    <tr>\n",
       "      <th>220</th>\n",
       "      <td>ctg_cut_pos_2072_11</td>\n",
       "      <td>GL0047057_MH0039_[Complete]_[mRNA]_locus=scaff...</td>\n",
       "      <td>93.11</td>\n",
       "      <td>421</td>\n",
       "      <td>29</td>\n",
       "      <td>0</td>\n",
       "      <td>1</td>\n",
       "      <td>421</td>\n",
       "      <td>1</td>\n",
       "      <td>421</td>\n",
       "      <td>...</td>\n",
       "      <td>NaN</td>\n",
       "      <td>NaN</td>\n",
       "      <td>NaN</td>\n",
       "      <td>NaN</td>\n",
       "      <td>ctg_cut_pos_2072_11</td>\n",
       "      <td>421</td>\n",
       "      <td>393</td>\n",
       "      <td>1655</td>\n",
       "      <td>+</td>\n",
       "      <td>1.000000</td>\n",
       "    </tr>\n",
       "    <tr>\n",
       "      <th>221</th>\n",
       "      <td>ctg_cut_pos_2072_11</td>\n",
       "      <td>GL0107158_V1_[Complete]_[mRNA]_locus=scaffold7...</td>\n",
       "      <td>91.45</td>\n",
       "      <td>421</td>\n",
       "      <td>36</td>\n",
       "      <td>0</td>\n",
       "      <td>1</td>\n",
       "      <td>421</td>\n",
       "      <td>1</td>\n",
       "      <td>421</td>\n",
       "      <td>...</td>\n",
       "      <td>NaN</td>\n",
       "      <td>NaN</td>\n",
       "      <td>NaN</td>\n",
       "      <td>NaN</td>\n",
       "      <td>ctg_cut_pos_2072_11</td>\n",
       "      <td>421</td>\n",
       "      <td>393</td>\n",
       "      <td>1655</td>\n",
       "      <td>+</td>\n",
       "      <td>1.000000</td>\n",
       "    </tr>\n",
       "  </tbody>\n",
       "</table>\n",
       "<p>5 rows × 24 columns</p>\n",
       "</div>"
      ],
      "text/plain": [
       "                query_id                                         subject_id  \\\n",
       "98   ctg_cut_pos_2072_29  GL0047061_MH0039_[Complete]_[mRNA]_locus=scaff...   \n",
       "99   ctg_cut_pos_2072_29  GL0107162_V1_[Complete]_[mRNA]_locus=scaffold7...   \n",
       "100  ctg_cut_pos_2072_29  GL0033034_MH0077_[Lack_both_end]_[mRNA]_locus=...   \n",
       "220  ctg_cut_pos_2072_11  GL0047057_MH0039_[Complete]_[mRNA]_locus=scaff...   \n",
       "221  ctg_cut_pos_2072_11  GL0107158_V1_[Complete]_[mRNA]_locus=scaffold7...   \n",
       "\n",
       "     pct_id  ali_len  mism  gap_open  q_start  q_end  s_start  s_end  \\\n",
       "98    93.04      647    45         0        1    647        1    647   \n",
       "99    87.81      648    78         1        1    647        1    648   \n",
       "100   86.33      439    59         1      170    607        1    439   \n",
       "220   93.11      421    29         0        1    421        1    421   \n",
       "221   91.45      421    36         0        1    421        1    421   \n",
       "\n",
       "       ...     gi  description tax_id s_len                 q_id q_len  \\\n",
       "98     ...    NaN          NaN    NaN   NaN  ctg_cut_pos_2072_29   647   \n",
       "99     ...    NaN          NaN    NaN   NaN  ctg_cut_pos_2072_29   647   \n",
       "100    ...    NaN          NaN    NaN   NaN  ctg_cut_pos_2072_29   647   \n",
       "220    ...    NaN          NaN    NaN   NaN  ctg_cut_pos_2072_11   421   \n",
       "221    ...    NaN          NaN    NaN   NaN  ctg_cut_pos_2072_11   421   \n",
       "\n",
       "     q_cds_start  q_cds_end strand     q_cov  \n",
       "98          3429       5369      +  1.000000  \n",
       "99          3429       5369      +  1.000000  \n",
       "100         3429       5369      +  0.676971  \n",
       "220          393       1655      +  1.000000  \n",
       "221          393       1655      +  1.000000  \n",
       "\n",
       "[5 rows x 24 columns]"
      ]
     },
     "execution_count": 8,
     "metadata": {},
     "output_type": "execute_result"
    }
   ],
   "source": [
    "blastp_hits_annot = blastp_hits.merge(orf_stats_df,left_on=\"query_id\",right_on=\"q_id\")\n",
    "#Add query coverage calculation\n",
    "blastp_hits_annot[\"q_cov\"] = (blastp_hits_annot[\"q_end\"] - blastp_hits_annot[\"q_start\"] + 1 ) / blastp_hits_annot[\"q_len\"]\n",
    "blastp_hits_annot.sort_values(by=\"bitscore\",ascending=False).head()"
   ]
  },
  {
   "cell_type": "markdown",
   "metadata": {},
   "source": [
    "## 2.3 Extract best hit for each ORF ( q_cov > 0.8 and pct_id > 30% and e-value < 1)"
   ]
  },
  {
   "cell_type": "code",
   "execution_count": 9,
   "metadata": {
    "collapsed": true
   },
   "outputs": [],
   "source": [
    "! mkdir -p 4_msa_prots"
   ]
  },
  {
   "cell_type": "code",
   "execution_count": 12,
   "metadata": {
    "collapsed": false
   },
   "outputs": [
    {
     "data": {
      "text/html": [
       "<div>\n",
       "<table border=\"1\" class=\"dataframe\">\n",
       "  <thead>\n",
       "    <tr style=\"text-align: right;\">\n",
       "      <th></th>\n",
       "      <th>query_id</th>\n",
       "      <th>db</th>\n",
       "      <th>subject_id</th>\n",
       "      <th>pct_id</th>\n",
       "      <th>q_cov</th>\n",
       "      <th>q_len</th>\n",
       "      <th>bitscore</th>\n",
       "      <th>e_value</th>\n",
       "      <th>strand</th>\n",
       "      <th>q_cds_start</th>\n",
       "      <th>q_cds_end</th>\n",
       "    </tr>\n",
       "  </thead>\n",
       "  <tbody>\n",
       "    <tr>\n",
       "      <th>4</th>\n",
       "      <td>ctg_cut_pos_2072_5</td>\n",
       "      <td>metahit_pep</td>\n",
       "      <td>GL0012681_MH0069_[Lack_3'-end]_[mRNA]_locus=C6...</td>\n",
       "      <td>50.00</td>\n",
       "      <td>0.827586</td>\n",
       "      <td>58</td>\n",
       "      <td>55.5</td>\n",
       "      <td>8.000000e-10</td>\n",
       "      <td>+</td>\n",
       "      <td>215</td>\n",
       "      <td>388</td>\n",
       "    </tr>\n",
       "    <tr>\n",
       "      <th>220</th>\n",
       "      <td>ctg_cut_pos_2072_11</td>\n",
       "      <td>metahit_pep</td>\n",
       "      <td>GL0047057_MH0039_[Complete]_[mRNA]_locus=scaff...</td>\n",
       "      <td>93.11</td>\n",
       "      <td>1.000000</td>\n",
       "      <td>421</td>\n",
       "      <td>790.0</td>\n",
       "      <td>0.000000e+00</td>\n",
       "      <td>+</td>\n",
       "      <td>393</td>\n",
       "      <td>1655</td>\n",
       "    </tr>\n",
       "    <tr>\n",
       "      <th>200</th>\n",
       "      <td>ctg_cut_pos_2072_14</td>\n",
       "      <td>metahit_pep</td>\n",
       "      <td>GL0047932_O2_[Complete]_[mRNA]_locus=scaffold3...</td>\n",
       "      <td>66.47</td>\n",
       "      <td>0.994253</td>\n",
       "      <td>174</td>\n",
       "      <td>226.0</td>\n",
       "      <td>3.000000e-73</td>\n",
       "      <td>+</td>\n",
       "      <td>1603</td>\n",
       "      <td>2124</td>\n",
       "    </tr>\n",
       "    <tr>\n",
       "      <th>190</th>\n",
       "      <td>ctg_cut_pos_2072_16</td>\n",
       "      <td>metahit_pep</td>\n",
       "      <td>GL0027811_MH0033_[Complete]_[mRNA]_locus=C3777...</td>\n",
       "      <td>77.14</td>\n",
       "      <td>1.000000</td>\n",
       "      <td>70</td>\n",
       "      <td>111.0</td>\n",
       "      <td>3.000000e-31</td>\n",
       "      <td>+</td>\n",
       "      <td>2179</td>\n",
       "      <td>2388</td>\n",
       "    </tr>\n",
       "    <tr>\n",
       "      <th>143</th>\n",
       "      <td>ctg_cut_pos_2072_22</td>\n",
       "      <td>metahit_pep</td>\n",
       "      <td>GL0027812_MH0033_[Complete]_[mRNA]_locus=C3777...</td>\n",
       "      <td>91.92</td>\n",
       "      <td>0.925208</td>\n",
       "      <td>361</td>\n",
       "      <td>637.0</td>\n",
       "      <td>0.000000e+00</td>\n",
       "      <td>+</td>\n",
       "      <td>2351</td>\n",
       "      <td>3433</td>\n",
       "    </tr>\n",
       "    <tr>\n",
       "      <th>98</th>\n",
       "      <td>ctg_cut_pos_2072_29</td>\n",
       "      <td>metahit_pep</td>\n",
       "      <td>GL0047061_MH0039_[Complete]_[mRNA]_locus=scaff...</td>\n",
       "      <td>93.04</td>\n",
       "      <td>1.000000</td>\n",
       "      <td>647</td>\n",
       "      <td>1251.0</td>\n",
       "      <td>0.000000e+00</td>\n",
       "      <td>+</td>\n",
       "      <td>3429</td>\n",
       "      <td>5369</td>\n",
       "    </tr>\n",
       "    <tr>\n",
       "      <th>76</th>\n",
       "      <td>ctg_cut_pos_2072_30</td>\n",
       "      <td>metahit_pep</td>\n",
       "      <td>GL0127673_MH0014_[Complete]_[mRNA]_locus=scaff...</td>\n",
       "      <td>96.91</td>\n",
       "      <td>1.000000</td>\n",
       "      <td>97</td>\n",
       "      <td>187.0</td>\n",
       "      <td>3.000000e-60</td>\n",
       "      <td>+</td>\n",
       "      <td>5374</td>\n",
       "      <td>5664</td>\n",
       "    </tr>\n",
       "  </tbody>\n",
       "</table>\n",
       "</div>"
      ],
      "text/plain": [
       "                query_id           db  \\\n",
       "4     ctg_cut_pos_2072_5  metahit_pep   \n",
       "220  ctg_cut_pos_2072_11  metahit_pep   \n",
       "200  ctg_cut_pos_2072_14  metahit_pep   \n",
       "190  ctg_cut_pos_2072_16  metahit_pep   \n",
       "143  ctg_cut_pos_2072_22  metahit_pep   \n",
       "98   ctg_cut_pos_2072_29  metahit_pep   \n",
       "76   ctg_cut_pos_2072_30  metahit_pep   \n",
       "\n",
       "                                            subject_id  pct_id     q_cov  \\\n",
       "4    GL0012681_MH0069_[Lack_3'-end]_[mRNA]_locus=C6...   50.00  0.827586   \n",
       "220  GL0047057_MH0039_[Complete]_[mRNA]_locus=scaff...   93.11  1.000000   \n",
       "200  GL0047932_O2_[Complete]_[mRNA]_locus=scaffold3...   66.47  0.994253   \n",
       "190  GL0027811_MH0033_[Complete]_[mRNA]_locus=C3777...   77.14  1.000000   \n",
       "143  GL0027812_MH0033_[Complete]_[mRNA]_locus=C3777...   91.92  0.925208   \n",
       "98   GL0047061_MH0039_[Complete]_[mRNA]_locus=scaff...   93.04  1.000000   \n",
       "76   GL0127673_MH0014_[Complete]_[mRNA]_locus=scaff...   96.91  1.000000   \n",
       "\n",
       "     q_len  bitscore       e_value strand  q_cds_start  q_cds_end  \n",
       "4       58      55.5  8.000000e-10      +          215        388  \n",
       "220    421     790.0  0.000000e+00      +          393       1655  \n",
       "200    174     226.0  3.000000e-73      +         1603       2124  \n",
       "190     70     111.0  3.000000e-31      +         2179       2388  \n",
       "143    361     637.0  0.000000e+00      +         2351       3433  \n",
       "98     647    1251.0  0.000000e+00      +         3429       5369  \n",
       "76      97     187.0  3.000000e-60      +         5374       5664  "
      ]
     },
     "execution_count": 12,
     "metadata": {},
     "output_type": "execute_result"
    }
   ],
   "source": [
    "#Get best hit (highest bitscore) for each ORF\n",
    "gb = blastp_hits_annot[ (blastp_hits_annot.q_cov > 0.8) & (blastp_hits_annot.pct_id > 30) & (blastp_hits_annot.e_value < 1) ].groupby(\"query_id\")\n",
    "reliable_orfs = pd.DataFrame( hits.ix[hits.bitscore.idxmax()] for q_id,hits in gb )[[\"query_id\",\"db\",\"subject_id\",\"pct_id\",\"q_cov\",\"q_len\",\n",
    "                                                                                      \"bitscore\",\"e_value\",\"strand\",\"q_cds_start\",\"q_cds_end\"]]\n",
    "reliable_orfs.sort_values(by=\"q_cds_start\",ascending=True).to_csv(\"4_msa_prots/filtered_orfs_by_hits.csv\",index=False)\n",
    "reliable_orfs.sort_values(by=\"q_cds_start\",ascending=True)"
   ]
  },
  {
   "cell_type": "markdown",
   "metadata": {},
   "source": [
    "## 5.4 Extract all  hits for filtered ORF list ( q_cov > 0.8 and pct_id > 30% )"
   ]
  },
  {
   "cell_type": "raw",
   "metadata": {},
   "source": [
    "gb = blastp_hits_annot[ (blastp_hits_annot.q_cov > 0.8) & (blastp_hits_annot.pct_id > 30) ].groupby(\"query_id\")\n",
    "for q_id,hits in gb:\n",
    "    for db in [\"metahit_pep\",\"hmp_pep\",\"env_nr\",\"nr\"]:\n",
    "        try:\n",
    "            os.mkdir(\"4_msa_prots/{}\".format(q_id))\n",
    "        except:\n",
    "            pass\n",
    "        hits_to_write = hits[hits.db == db][\"subject_id\"].unique()\n",
    "        if hits_to_write.shape != (0,):\n",
    "            hits_to_write.tofile(\"4_msa_prots/{0}/{0}_{1}.txt\".format(q_id,db),sep=\"\\n\")"
   ]
  },
  {
   "cell_type": "code",
   "execution_count": null,
   "metadata": {
    "collapsed": true
   },
   "outputs": [],
   "source": [
    "glob(\"2_hmmscan/*.tbl\")"
   ]
  }
 ],
 "metadata": {
  "kernelspec": {
   "display_name": "Python 3",
   "language": "python",
   "name": "python3"
  },
  "language_info": {
   "codemirror_mode": {
    "name": "ipython",
    "version": 3
   },
   "file_extension": ".py",
   "mimetype": "text/x-python",
   "name": "python",
   "nbconvert_exporter": "python",
   "pygments_lexer": "ipython3",
   "version": "3.5.1"
  }
 },
 "nbformat": 4,
 "nbformat_minor": 0
}

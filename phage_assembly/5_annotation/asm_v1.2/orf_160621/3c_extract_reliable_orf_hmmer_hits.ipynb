{
 "cells": [
  {
   "cell_type": "code",
   "execution_count": 1,
   "metadata": {
    "collapsed": true
   },
   "outputs": [],
   "source": [
    "import pandas as pd\n",
    "import re\n",
    "from glob import glob"
   ]
  },
  {
   "cell_type": "markdown",
   "metadata": {},
   "source": [
    "# 1. Load filtered ORF list"
   ]
  },
  {
   "cell_type": "code",
   "execution_count": 2,
   "metadata": {
    "collapsed": false
   },
   "outputs": [
    {
     "data": {
      "text/plain": [
       "['d9539_asm_v1.2_1',\n",
       " 'd9539_asm_v1.2_3',\n",
       " 'd9539_asm_v1.2_5',\n",
       " 'd9539_asm_v1.2_11',\n",
       " 'd9539_asm_v1.2_14',\n",
       " 'd9539_asm_v1.2_16',\n",
       " 'd9539_asm_v1.2_22',\n",
       " 'd9539_asm_v1.2_29',\n",
       " 'd9539_asm_v1.2_30']"
      ]
     },
     "execution_count": 2,
     "metadata": {},
     "output_type": "execute_result"
    }
   ],
   "source": [
    "with open(\"3_filtered_orfs/filt_orf_list.txt\") as fh:\n",
    "    filtered_orfs = fh.read().split(\"\\n\")[:-1]\n",
    "filtered_orfs"
   ]
  },
  {
   "cell_type": "markdown",
   "metadata": {},
   "source": [
    "# 2. Parse hmmer output"
   ]
  },
  {
   "cell_type": "code",
   "execution_count": 3,
   "metadata": {
    "collapsed": true
   },
   "outputs": [],
   "source": [
    "tbl_header = [\"s_id\",\"s_accession\",\"q_id\",\"q_accession\" ,\n",
    "              \"e_value\",\"bitscore\",\"bias\", \"best_dmn_e_value\",\"best_dmn_score\",\"best_dmn_bias\",\n",
    "              \"dne_exp\",\"dne_reg\",\"dne_clu\",\"dne_ov\", \"dne_env\", \n",
    "              \"dne_dom\", \"dne_rep\", \"dne_inc\", \"description\"]\n",
    "\n",
    "domtbl_header = [\"s_id\",\"s_accession\",\"s_len\",\"q_id\",\"q_accession\" ,\n",
    "                 \"q_len\",\"e_value\",\"bitscore\" ,\"bias\" ,\"dmn_number\",\n",
    "                 \"dmn_total\",\"dmn_c_evalue\",\"dmn_i_evalue\",\"dmn_score\",\"dmn_bias\",\n",
    "                 \"s_start\",\"s_end\",\"ali_start\",\"ali_end\",\"env_start\",\"env_end\",\n",
    "                 \"acc\",\"description\"]"
   ]
  },
  {
   "cell_type": "code",
   "execution_count": 4,
   "metadata": {
    "collapsed": false
   },
   "outputs": [],
   "source": [
    "def hmmer_parser(filename,header=None,domtbl=False):\n",
    "    col_number = 19 if not domtbl else 23\n",
    "    data_lines = []\n",
    "    with open(filename) as fh:\n",
    "        for line in fh:\n",
    "            line = line.rstrip(\"\\n\")\n",
    "            if line.startswith(\"#\") or line == \"\":\n",
    "                continue\n",
    "            data_lines.append( re.split(r\" +\",line,maxsplit=col_number-1) ) \n",
    "    return pd.DataFrame.from_records( data_lines, columns=header) "
   ]
  },
  {
   "cell_type": "code",
   "execution_count": 5,
   "metadata": {
    "collapsed": false
   },
   "outputs": [],
   "source": [
    "pfam_dom = hmmer_parser(\"2_hmmscan/d9539_asm_v1.2_orf_hmmscan_PfamA.domtbl\",header=domtbl_header,domtbl=True)\n",
    "pfam_dom[\"db\"] = \"pfam\"\n",
    "vfam_dom = hmmer_parser(\"2_hmmscan/d9539_asm_v1.2_orf_hmmscan_vFamA.domtbl\",header=domtbl_header,domtbl=True)\n",
    "vfam_dom[\"db\"] = \"vfam\"\n",
    "all_dom = pd.concat([pfam_dom,vfam_dom])"
   ]
  },
  {
   "cell_type": "code",
   "execution_count": 6,
   "metadata": {
    "collapsed": false,
    "scrolled": false
   },
   "outputs": [],
   "source": [
    "pfam_tbl = hmmer_parser(\"2_hmmscan/d9539_asm_v1.2_orf_hmmscan_PfamA.tbl\",header=tbl_header)\n",
    "pfam_tbl[\"db\"] = \"pfam\"\n",
    "vfam_tbl = hmmer_parser(\"2_hmmscan/d9539_asm_v1.2_orf_hmmscan_vFamA.tbl\",header=tbl_header)\n",
    "vfam_tbl[\"db\"] = \"vfam\"\n",
    "all_tbl = pd.concat([pfam_tbl,vfam_tbl])"
   ]
  },
  {
   "cell_type": "code",
   "execution_count": 7,
   "metadata": {
    "collapsed": false
   },
   "outputs": [],
   "source": [
    "#Make columns numeric\n",
    "for col in [\"e_value\",\"bitscore\",\"bias\",\"acc\"] + [x for x in all_dom.columns if (\"dmn_\" in x or \"start\" in x or \"end\" in x )] : \n",
    "    all_dom[col] = pd.to_numeric(all_dom[col])\n",
    "    \n",
    "for col in [\"e_value\",\"bitscore\",\"bias\"] + [x for x in all_tbl.columns if (\"best_dmn\" in x or \"dne_\" in x )] : \n",
    "    all_tbl[col] = pd.to_numeric(all_tbl[col])   "
   ]
  },
  {
   "cell_type": "markdown",
   "metadata": {},
   "source": [
    "# 3. Keep hits only for filtered ORFs"
   ]
  },
  {
   "cell_type": "code",
   "execution_count": 8,
   "metadata": {
    "collapsed": false
   },
   "outputs": [],
   "source": [
    "filt_tbl = all_tbl[all_tbl[\"q_id\"].apply(lambda x: x in filtered_orfs)]\n",
    "filt_dom = all_dom[all_dom[\"q_id\"].apply(lambda x: x in filtered_orfs)]"
   ]
  },
  {
   "cell_type": "code",
   "execution_count": 9,
   "metadata": {
    "collapsed": false
   },
   "outputs": [
    {
     "data": {
      "text/html": [
       "<div>\n",
       "<table border=\"1\" class=\"dataframe\">\n",
       "  <thead>\n",
       "    <tr style=\"text-align: right;\">\n",
       "      <th></th>\n",
       "      <th>s_id</th>\n",
       "      <th>s_accession</th>\n",
       "      <th>s_len</th>\n",
       "      <th>q_id</th>\n",
       "      <th>q_accession</th>\n",
       "      <th>q_len</th>\n",
       "      <th>e_value</th>\n",
       "      <th>bitscore</th>\n",
       "      <th>bias</th>\n",
       "      <th>dmn_number</th>\n",
       "      <th>...</th>\n",
       "      <th>dmn_bias</th>\n",
       "      <th>s_start</th>\n",
       "      <th>s_end</th>\n",
       "      <th>ali_start</th>\n",
       "      <th>ali_end</th>\n",
       "      <th>env_start</th>\n",
       "      <th>env_end</th>\n",
       "      <th>acc</th>\n",
       "      <th>description</th>\n",
       "      <th>db</th>\n",
       "    </tr>\n",
       "  </thead>\n",
       "  <tbody>\n",
       "    <tr>\n",
       "      <th>8</th>\n",
       "      <td>Phage_F</td>\n",
       "      <td>PF02305.14</td>\n",
       "      <td>510</td>\n",
       "      <td>d9539_asm_v1.2_29</td>\n",
       "      <td>-</td>\n",
       "      <td>647</td>\n",
       "      <td>3.400000e-08</td>\n",
       "      <td>32.6</td>\n",
       "      <td>0.1</td>\n",
       "      <td>1</td>\n",
       "      <td>...</td>\n",
       "      <td>0.1</td>\n",
       "      <td>25</td>\n",
       "      <td>114</td>\n",
       "      <td>29</td>\n",
       "      <td>117</td>\n",
       "      <td>13</td>\n",
       "      <td>141</td>\n",
       "      <td>0.83</td>\n",
       "      <td>Capsid protein (F protein)</td>\n",
       "      <td>pfam</td>\n",
       "    </tr>\n",
       "    <tr>\n",
       "      <th>9</th>\n",
       "      <td>Phage_F</td>\n",
       "      <td>PF02305.14</td>\n",
       "      <td>510</td>\n",
       "      <td>d9539_asm_v1.2_29</td>\n",
       "      <td>-</td>\n",
       "      <td>647</td>\n",
       "      <td>3.400000e-08</td>\n",
       "      <td>32.6</td>\n",
       "      <td>0.1</td>\n",
       "      <td>2</td>\n",
       "      <td>...</td>\n",
       "      <td>0.0</td>\n",
       "      <td>255</td>\n",
       "      <td>441</td>\n",
       "      <td>375</td>\n",
       "      <td>564</td>\n",
       "      <td>324</td>\n",
       "      <td>632</td>\n",
       "      <td>0.82</td>\n",
       "      <td>Capsid protein (F protein)</td>\n",
       "      <td>pfam</td>\n",
       "    </tr>\n",
       "    <tr>\n",
       "      <th>10</th>\n",
       "      <td>Big_4</td>\n",
       "      <td>PF07532.8</td>\n",
       "      <td>59</td>\n",
       "      <td>d9539_asm_v1.2_29</td>\n",
       "      <td>-</td>\n",
       "      <td>647</td>\n",
       "      <td>1.300000e+00</td>\n",
       "      <td>8.7</td>\n",
       "      <td>4.4</td>\n",
       "      <td>1</td>\n",
       "      <td>...</td>\n",
       "      <td>0.5</td>\n",
       "      <td>36</td>\n",
       "      <td>52</td>\n",
       "      <td>188</td>\n",
       "      <td>205</td>\n",
       "      <td>187</td>\n",
       "      <td>206</td>\n",
       "      <td>0.92</td>\n",
       "      <td>Bacterial Ig-like domain (group 4)</td>\n",
       "      <td>pfam</td>\n",
       "    </tr>\n",
       "    <tr>\n",
       "      <th>11</th>\n",
       "      <td>Big_4</td>\n",
       "      <td>PF07532.8</td>\n",
       "      <td>59</td>\n",
       "      <td>d9539_asm_v1.2_29</td>\n",
       "      <td>-</td>\n",
       "      <td>647</td>\n",
       "      <td>1.300000e+00</td>\n",
       "      <td>8.7</td>\n",
       "      <td>4.4</td>\n",
       "      <td>2</td>\n",
       "      <td>...</td>\n",
       "      <td>0.2</td>\n",
       "      <td>31</td>\n",
       "      <td>56</td>\n",
       "      <td>319</td>\n",
       "      <td>344</td>\n",
       "      <td>309</td>\n",
       "      <td>346</td>\n",
       "      <td>0.85</td>\n",
       "      <td>Bacterial Ig-like domain (group 4)</td>\n",
       "      <td>pfam</td>\n",
       "    </tr>\n",
       "    <tr>\n",
       "      <th>6</th>\n",
       "      <td>vFam_4031</td>\n",
       "      <td>-</td>\n",
       "      <td>188</td>\n",
       "      <td>d9539_asm_v1.2_14</td>\n",
       "      <td>-</td>\n",
       "      <td>174</td>\n",
       "      <td>1.500000e-02</td>\n",
       "      <td>13.2</td>\n",
       "      <td>0.2</td>\n",
       "      <td>1</td>\n",
       "      <td>...</td>\n",
       "      <td>0.4</td>\n",
       "      <td>124</td>\n",
       "      <td>177</td>\n",
       "      <td>19</td>\n",
       "      <td>68</td>\n",
       "      <td>9</td>\n",
       "      <td>76</td>\n",
       "      <td>0.72</td>\n",
       "      <td>-</td>\n",
       "      <td>vfam</td>\n",
       "    </tr>\n",
       "    <tr>\n",
       "      <th>7</th>\n",
       "      <td>vFam_4031</td>\n",
       "      <td>-</td>\n",
       "      <td>188</td>\n",
       "      <td>d9539_asm_v1.2_14</td>\n",
       "      <td>-</td>\n",
       "      <td>174</td>\n",
       "      <td>1.500000e-02</td>\n",
       "      <td>13.2</td>\n",
       "      <td>0.2</td>\n",
       "      <td>2</td>\n",
       "      <td>...</td>\n",
       "      <td>0.0</td>\n",
       "      <td>95</td>\n",
       "      <td>130</td>\n",
       "      <td>75</td>\n",
       "      <td>110</td>\n",
       "      <td>60</td>\n",
       "      <td>117</td>\n",
       "      <td>0.81</td>\n",
       "      <td>-</td>\n",
       "      <td>vfam</td>\n",
       "    </tr>\n",
       "  </tbody>\n",
       "</table>\n",
       "<p>6 rows × 24 columns</p>\n",
       "</div>"
      ],
      "text/plain": [
       "         s_id s_accession s_len               q_id q_accession q_len  \\\n",
       "8     Phage_F  PF02305.14   510  d9539_asm_v1.2_29           -   647   \n",
       "9     Phage_F  PF02305.14   510  d9539_asm_v1.2_29           -   647   \n",
       "10      Big_4   PF07532.8    59  d9539_asm_v1.2_29           -   647   \n",
       "11      Big_4   PF07532.8    59  d9539_asm_v1.2_29           -   647   \n",
       "6   vFam_4031           -   188  d9539_asm_v1.2_14           -   174   \n",
       "7   vFam_4031           -   188  d9539_asm_v1.2_14           -   174   \n",
       "\n",
       "         e_value  bitscore  bias  dmn_number  ...   dmn_bias  s_start  s_end  \\\n",
       "8   3.400000e-08      32.6   0.1           1  ...        0.1       25    114   \n",
       "9   3.400000e-08      32.6   0.1           2  ...        0.0      255    441   \n",
       "10  1.300000e+00       8.7   4.4           1  ...        0.5       36     52   \n",
       "11  1.300000e+00       8.7   4.4           2  ...        0.2       31     56   \n",
       "6   1.500000e-02      13.2   0.2           1  ...        0.4      124    177   \n",
       "7   1.500000e-02      13.2   0.2           2  ...        0.0       95    130   \n",
       "\n",
       "    ali_start  ali_end  env_start  env_end   acc  \\\n",
       "8          29      117         13      141  0.83   \n",
       "9         375      564        324      632  0.82   \n",
       "10        188      205        187      206  0.92   \n",
       "11        319      344        309      346  0.85   \n",
       "6          19       68          9       76  0.72   \n",
       "7          75      110         60      117  0.81   \n",
       "\n",
       "                           description    db  \n",
       "8           Capsid protein (F protein)  pfam  \n",
       "9           Capsid protein (F protein)  pfam  \n",
       "10  Bacterial Ig-like domain (group 4)  pfam  \n",
       "11  Bacterial Ig-like domain (group 4)  pfam  \n",
       "6                                    -  vfam  \n",
       "7                                    -  vfam  \n",
       "\n",
       "[6 rows x 24 columns]"
      ]
     },
     "execution_count": 9,
     "metadata": {},
     "output_type": "execute_result"
    }
   ],
   "source": [
    "filt_dom"
   ]
  },
  {
   "cell_type": "code",
   "execution_count": 10,
   "metadata": {
    "collapsed": true
   },
   "outputs": [],
   "source": [
    "filt_tbl.to_csv(\"3_filtered_orfs/d9539_asm_v1.2_orf_filt_hmmsearch_tbl.tsv\",index=False,sep=\"\\t\",quotechar=\"'\")\n",
    "filt_dom.to_csv(\"3_filtered_orfs/d9539_asm_v1.2_orf_filt_hmmsearch_dom.tsv\",index=False,sep=\"\\t\",quotechar=\"'\")"
   ]
  },
  {
   "cell_type": "raw",
   "metadata": {
    "collapsed": true
   },
   "source": [
    "#filter hits\n",
    "gb = all_hmmer_hits[ (all_hmmer_hits.e_value < 1e-3) & (all_hmmer_hits.best_dmn_e_value < 1) ].groupby([\"cluster\",\"db\"])\n",
    "reliable_fam_hits = pd.DataFrame( hits.ix[hits.bitscore.idxmax()] for _,hits in gb )[[\"cluster\",\"db\",\"tool\",\"query_id\",\"subject_id\",\n",
    "                                                                                   \"bitscore\",\"e_value\",\"s_description\",\"best_dmn_e_value\"]]\n",
    "\n",
    "sorted_fam_hits = pd.concat( hits.sort_values(by=\"bitscore\",ascending=False) for _,hits in reliable_fam_hits.groupby(\"cluster\") )\n",
    "sorted_fam_hits.head()"
   ]
  },
  {
   "cell_type": "code",
   "execution_count": null,
   "metadata": {
    "collapsed": true
   },
   "outputs": [],
   "source": []
  }
 ],
 "metadata": {
  "kernelspec": {
   "display_name": "Python 3",
   "language": "python",
   "name": "python3"
  },
  "language_info": {
   "codemirror_mode": {
    "name": "ipython",
    "version": 3
   },
   "file_extension": ".py",
   "mimetype": "text/x-python",
   "name": "python",
   "nbconvert_exporter": "python",
   "pygments_lexer": "ipython3",
   "version": "3.5.1"
  }
 },
 "nbformat": 4,
 "nbformat_minor": 0
}

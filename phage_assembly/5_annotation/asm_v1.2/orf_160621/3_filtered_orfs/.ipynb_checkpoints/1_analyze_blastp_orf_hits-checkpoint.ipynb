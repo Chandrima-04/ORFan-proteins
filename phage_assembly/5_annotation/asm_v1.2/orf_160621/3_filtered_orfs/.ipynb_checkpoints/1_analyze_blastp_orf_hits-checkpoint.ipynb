{
 "cells": [
  {
   "cell_type": "code",
   "execution_count": 1,
   "metadata": {
    "collapsed": true
   },
   "outputs": [],
   "source": [
    "import pandas as pd\n",
    "import re"
   ]
  },
  {
   "cell_type": "code",
   "execution_count": 2,
   "metadata": {
    "collapsed": true
   },
   "outputs": [],
   "source": [
    "! mkdir -p out/"
   ]
  },
  {
   "cell_type": "code",
   "execution_count": 3,
   "metadata": {
    "collapsed": false
   },
   "outputs": [
    {
     "name": "stdout",
     "output_type": "stream",
     "text": [
      "(200, 28)\n",
      "(6, 23)\n"
     ]
    }
   ],
   "source": [
    "blast_hits = pd.DataFrame.from_csv(\"d9539_asm_v1.2_orf_filt_blastp.csv\")\n",
    "print(blast_hits.shape)\n",
    "hmmer_hits = pd.DataFrame.from_csv(\"d9539_asm_v1.2_orf_filt_hmmsearch_dom.csv\")\n",
    "print(hmmer_hits.shape)"
   ]
  },
  {
   "cell_type": "markdown",
   "metadata": {},
   "source": [
    "## 1. Analyze nr and hmp_pep hits"
   ]
  },
  {
   "cell_type": "code",
   "execution_count": 5,
   "metadata": {
    "collapsed": false
   },
   "outputs": [
    {
     "name": "stdout",
     "output_type": "stream",
     "text": [
      "Duplicate hits\n",
      "              query_id        subject_id       db\n",
      "25    d9539_asm_v1.2_5   HMPREF9136_2685  hmp_pep\n",
      "175  d9539_asm_v1.2_29  HMPREF1059_03257  hmp_pep\n",
      "186  d9539_asm_v1.2_29   HMPREF9141_0985  hmp_pep\n",
      "192  d9539_asm_v1.2_29      BACEGG_02721  hmp_pep\n",
      "194  d9539_asm_v1.2_29  HMPREF1018_02255  hmp_pep\n",
      "196  d9539_asm_v1.2_29    BACCOPRO_03325  hmp_pep\n",
      "221  d9539_asm_v1.2_22  HMPREF1059_03256  hmp_pep\n",
      "238  d9539_asm_v1.2_22   HMPREF9141_0984  hmp_pep\n",
      "240  d9539_asm_v1.2_22  HMPREF0991_01395  hmp_pep\n",
      "294  d9539_asm_v1.2_11      BACEGG_02723  hmp_pep\n",
      "301  d9539_asm_v1.2_11   HMPREF0645_1833  hmp_pep\n",
      "306  d9539_asm_v1.2_11   HMPREF9141_0987  hmp_pep\n",
      "309  d9539_asm_v1.2_11   HMPREF9145_2738  hmp_pep\n",
      "311  d9539_asm_v1.2_11   HMPREF0860_1608  hmp_pep\n"
     ]
    }
   ],
   "source": [
    "other_blastp_hits = blast_hits[ (blast_hits.db == \"nr\") | (blast_hits.db == \"hmp_pep\")]\n",
    "other_blastp_hits = other_blastp_hits.drop([\"tool\",\"q_id\",\"mism\",\"q_cov_calc\",\"s_scinames\",\"s_names\",\"s_gi\",\"s_taxids\"],1)\n",
    "#hmp database seesm to have duplicated seqs. Remove duplicated hits\n",
    "print(\"Duplicate hits\")\n",
    "print(other_blastp_hits[other_blastp_hits.duplicated()][[\"query_id\",\"subject_id\",\"db\"]])\n",
    "other_blastp_hits = other_blastp_hits.drop_duplicates()"
   ]
  },
  {
   "cell_type": "markdown",
   "metadata": {},
   "source": [
    "# 2. Get blast  hits for nr & hmp, getting the best hit for each ORF and any other hit within 5 bits of the best score for the ORF"
   ]
  },
  {
   "cell_type": "code",
   "execution_count": 6,
   "metadata": {
    "collapsed": false,
    "scrolled": true
   },
   "outputs": [
    {
     "name": "stdout",
     "output_type": "stream",
     "text": [
      "query_id           db     \n",
      "d9539_asm_v1.2_11  hmp_pep    1\n",
      "                   nr         2\n",
      "d9539_asm_v1.2_22  hmp_pep    1\n",
      "                   nr         1\n",
      "d9539_asm_v1.2_29  hmp_pep    1\n",
      "                   nr         2\n",
      "d9539_asm_v1.2_30  nr         3\n",
      "Name: subject_id, dtype: int64\n"
     ]
    },
    {
     "data": {
      "text/html": [
       "<div>\n",
       "<table border=\"1\" class=\"dataframe\">\n",
       "  <thead>\n",
       "    <tr style=\"text-align: right;\">\n",
       "      <th></th>\n",
       "      <th>query_id</th>\n",
       "      <th>db</th>\n",
       "      <th>s_description</th>\n",
       "      <th>pct_id</th>\n",
       "      <th>q_cov</th>\n",
       "      <th>s_description</th>\n",
       "      <th>q_len</th>\n",
       "      <th>s_len</th>\n",
       "    </tr>\n",
       "  </thead>\n",
       "  <tbody>\n",
       "    <tr>\n",
       "      <th>293</th>\n",
       "      <td>d9539_asm_v1.2_11</td>\n",
       "      <td>hmp_pep</td>\n",
       "      <td>BACEGG_02723 hypothetical protein [Bacteroides...</td>\n",
       "      <td>40.323</td>\n",
       "      <td>15</td>\n",
       "      <td>BACEGG_02723 hypothetical protein [Bacteroides...</td>\n",
       "      <td>421</td>\n",
       "      <td>368</td>\n",
       "    </tr>\n",
       "    <tr>\n",
       "      <th>292</th>\n",
       "      <td>d9539_asm_v1.2_11</td>\n",
       "      <td>nr</td>\n",
       "      <td>hypothetical protein [Eel River basin pequenov...</td>\n",
       "      <td>27.404</td>\n",
       "      <td>48</td>\n",
       "      <td>hypothetical protein [Eel River basin pequenov...</td>\n",
       "      <td>421</td>\n",
       "      <td>277</td>\n",
       "    </tr>\n",
       "    <tr>\n",
       "      <th>295</th>\n",
       "      <td>d9539_asm_v1.2_11</td>\n",
       "      <td>nr</td>\n",
       "      <td>hypothetical protein [Bacteroides eggerthii]</td>\n",
       "      <td>40.323</td>\n",
       "      <td>15</td>\n",
       "      <td>hypothetical protein [Bacteroides eggerthii]</td>\n",
       "      <td>421</td>\n",
       "      <td>368</td>\n",
       "    </tr>\n",
       "    <tr>\n",
       "      <th>220</th>\n",
       "      <td>d9539_asm_v1.2_22</td>\n",
       "      <td>hmp_pep</td>\n",
       "      <td>HMPREF1059_03256 hypothetical protein [Parabac...</td>\n",
       "      <td>28.931</td>\n",
       "      <td>40</td>\n",
       "      <td>HMPREF1059_03256 hypothetical protein [Parabac...</td>\n",
       "      <td>361</td>\n",
       "      <td>284</td>\n",
       "    </tr>\n",
       "    <tr>\n",
       "      <th>215</th>\n",
       "      <td>d9539_asm_v1.2_22</td>\n",
       "      <td>nr</td>\n",
       "      <td>putative replication initiation protein [Alist...</td>\n",
       "      <td>27.386</td>\n",
       "      <td>61</td>\n",
       "      <td>putative replication initiation protein [Alist...</td>\n",
       "      <td>361</td>\n",
       "      <td>320</td>\n",
       "    </tr>\n",
       "    <tr>\n",
       "      <th>174</th>\n",
       "      <td>d9539_asm_v1.2_29</td>\n",
       "      <td>hmp_pep</td>\n",
       "      <td>HMPREF1059_03257 hypothetical protein [Parabac...</td>\n",
       "      <td>26.214</td>\n",
       "      <td>31</td>\n",
       "      <td>HMPREF1059_03257 hypothetical protein [Parabac...</td>\n",
       "      <td>647</td>\n",
       "      <td>538</td>\n",
       "    </tr>\n",
       "    <tr>\n",
       "      <th>167</th>\n",
       "      <td>d9539_asm_v1.2_29</td>\n",
       "      <td>nr</td>\n",
       "      <td>putative major capsid protein [Eel River basin...</td>\n",
       "      <td>28.796</td>\n",
       "      <td>29</td>\n",
       "      <td>putative major capsid protein [Eel River basin...</td>\n",
       "      <td>647</td>\n",
       "      <td>523</td>\n",
       "    </tr>\n",
       "    <tr>\n",
       "      <th>168</th>\n",
       "      <td>d9539_asm_v1.2_29</td>\n",
       "      <td>nr</td>\n",
       "      <td>putative uncharacterized protein [Alistipes fi...</td>\n",
       "      <td>31.746</td>\n",
       "      <td>27</td>\n",
       "      <td>putative uncharacterized protein [Alistipes fi...</td>\n",
       "      <td>647</td>\n",
       "      <td>338</td>\n",
       "    </tr>\n",
       "    <tr>\n",
       "      <th>134</th>\n",
       "      <td>d9539_asm_v1.2_30</td>\n",
       "      <td>nr</td>\n",
       "      <td>hypothetical protein [Ruegeria sp. ANG-S4]</td>\n",
       "      <td>29.545</td>\n",
       "      <td>87</td>\n",
       "      <td>hypothetical protein [Ruegeria sp. ANG-S4]</td>\n",
       "      <td>97</td>\n",
       "      <td>308</td>\n",
       "    </tr>\n",
       "    <tr>\n",
       "      <th>135</th>\n",
       "      <td>d9539_asm_v1.2_30</td>\n",
       "      <td>nr</td>\n",
       "      <td>OPT family small oligopeptide transporter, par...</td>\n",
       "      <td>37.313</td>\n",
       "      <td>64</td>\n",
       "      <td>OPT family small oligopeptide transporter, par...</td>\n",
       "      <td>97</td>\n",
       "      <td>725</td>\n",
       "    </tr>\n",
       "    <tr>\n",
       "      <th>136</th>\n",
       "      <td>d9539_asm_v1.2_30</td>\n",
       "      <td>nr</td>\n",
       "      <td>cysteinyl-tRNA synthetase [Chlamydia trachomatis]</td>\n",
       "      <td>31.522</td>\n",
       "      <td>93</td>\n",
       "      <td>cysteinyl-tRNA synthetase [Chlamydia trachomatis]</td>\n",
       "      <td>97</td>\n",
       "      <td>531</td>\n",
       "    </tr>\n",
       "  </tbody>\n",
       "</table>\n",
       "</div>"
      ],
      "text/plain": [
       "              query_id       db  \\\n",
       "293  d9539_asm_v1.2_11  hmp_pep   \n",
       "292  d9539_asm_v1.2_11       nr   \n",
       "295  d9539_asm_v1.2_11       nr   \n",
       "220  d9539_asm_v1.2_22  hmp_pep   \n",
       "215  d9539_asm_v1.2_22       nr   \n",
       "174  d9539_asm_v1.2_29  hmp_pep   \n",
       "167  d9539_asm_v1.2_29       nr   \n",
       "168  d9539_asm_v1.2_29       nr   \n",
       "134  d9539_asm_v1.2_30       nr   \n",
       "135  d9539_asm_v1.2_30       nr   \n",
       "136  d9539_asm_v1.2_30       nr   \n",
       "\n",
       "                                         s_description  pct_id  q_cov  \\\n",
       "293  BACEGG_02723 hypothetical protein [Bacteroides...  40.323     15   \n",
       "292  hypothetical protein [Eel River basin pequenov...  27.404     48   \n",
       "295       hypothetical protein [Bacteroides eggerthii]  40.323     15   \n",
       "220  HMPREF1059_03256 hypothetical protein [Parabac...  28.931     40   \n",
       "215  putative replication initiation protein [Alist...  27.386     61   \n",
       "174  HMPREF1059_03257 hypothetical protein [Parabac...  26.214     31   \n",
       "167  putative major capsid protein [Eel River basin...  28.796     29   \n",
       "168  putative uncharacterized protein [Alistipes fi...  31.746     27   \n",
       "134         hypothetical protein [Ruegeria sp. ANG-S4]  29.545     87   \n",
       "135  OPT family small oligopeptide transporter, par...  37.313     64   \n",
       "136  cysteinyl-tRNA synthetase [Chlamydia trachomatis]  31.522     93   \n",
       "\n",
       "                                         s_description  q_len  s_len  \n",
       "293  BACEGG_02723 hypothetical protein [Bacteroides...    421    368  \n",
       "292  hypothetical protein [Eel River basin pequenov...    421    277  \n",
       "295       hypothetical protein [Bacteroides eggerthii]    421    368  \n",
       "220  HMPREF1059_03256 hypothetical protein [Parabac...    361    284  \n",
       "215  putative replication initiation protein [Alist...    361    320  \n",
       "174  HMPREF1059_03257 hypothetical protein [Parabac...    647    538  \n",
       "167  putative major capsid protein [Eel River basin...    647    523  \n",
       "168  putative uncharacterized protein [Alistipes fi...    647    338  \n",
       "134         hypothetical protein [Ruegeria sp. ANG-S4]     97    308  \n",
       "135  OPT family small oligopeptide transporter, par...     97    725  \n",
       "136  cysteinyl-tRNA synthetase [Chlamydia trachomatis]     97    531  "
      ]
     },
     "execution_count": 6,
     "metadata": {},
     "output_type": "execute_result"
    }
   ],
   "source": [
    "other_blastp_hits_filt = other_blastp_hits[other_blastp_hits.e_value < 1]\n",
    "\n",
    "filtered_hits = []\n",
    "for _,hits in other_blastp_hits_filt.groupby([\"query_id\",\"db\"]):\n",
    "    top_bitscore_hit = hits.ix[hits[\"bitscore\"].idxmax()]\n",
    "    filtered_hits.append ( hits[hits[\"bitscore\"] > top_bitscore_hit[\"bitscore\"] - 5 ])\n",
    "                                        \n",
    "\n",
    "filtered_hits_df = pd.concat(filtered_hits)\n",
    "print(filtered_hits_df.groupby([\"query_id\",\"db\"])[\"subject_id\"].count())\n",
    "best_blast_hits = filtered_hits_df[[\"query_id\",\"db\",\"s_description\",\"pct_id\",\"q_cov\",\"s_description\",\"q_len\",\"s_len\"]]\n",
    "best_blast_hits.to_csv(\"out/filt_orf_best_blast_hits.csv\",index=False)\n",
    "best_blast_hits"
   ]
  },
  {
   "cell_type": "markdown",
   "metadata": {},
   "source": [
    "# 2. Analyze env_nr hits"
   ]
  },
  {
   "cell_type": "code",
   "execution_count": 7,
   "metadata": {
    "collapsed": false
   },
   "outputs": [
    {
     "data": {
      "text/plain": [
       "169    marine metagenome]\n",
       "Name: s_description, dtype: object"
      ]
     },
     "execution_count": 7,
     "metadata": {},
     "output_type": "execute_result"
    }
   ],
   "source": [
    "env_nr_hits = blast_hits[ (blast_hits.db == \"env_nr\") & (blast_hits.e_value < 1) ]\n",
    "env_nr_hits[\"s_description\"].apply(lambda x: x.split(\"[\")[1]).drop_duplicates()"
   ]
  },
  {
   "cell_type": "markdown",
   "metadata": {},
   "source": [
    "Considering all hits are from marine metagenomes in env_nr, just keep the one with highest bitscore"
   ]
  },
  {
   "cell_type": "code",
   "execution_count": 8,
   "metadata": {
    "collapsed": false
   },
   "outputs": [
    {
     "data": {
      "text/html": [
       "<div>\n",
       "<table border=\"1\" class=\"dataframe\">\n",
       "  <thead>\n",
       "    <tr style=\"text-align: right;\">\n",
       "      <th></th>\n",
       "      <th>query_id</th>\n",
       "      <th>subject_id</th>\n",
       "      <th>pct_id</th>\n",
       "      <th>ali_len</th>\n",
       "      <th>e_value</th>\n",
       "      <th>bitscore</th>\n",
       "      <th>q_len</th>\n",
       "      <th>s_len</th>\n",
       "      <th>s_gi</th>\n",
       "      <th>s_taxids</th>\n",
       "      <th>q_cov</th>\n",
       "      <th>s_description</th>\n",
       "      <th>db</th>\n",
       "      <th>orf_len</th>\n",
       "      <th>q_cds_start</th>\n",
       "      <th>q_cds_end</th>\n",
       "      <th>strand</th>\n",
       "      <th>q_cov_calc</th>\n",
       "    </tr>\n",
       "  </thead>\n",
       "  <tbody>\n",
       "    <tr>\n",
       "      <th>312</th>\n",
       "      <td>d9539_asm_v1.2_11</td>\n",
       "      <td>gi|135497532|gb|EBI02878.1|</td>\n",
       "      <td>29.752</td>\n",
       "      <td>121</td>\n",
       "      <td>9.000000e-01</td>\n",
       "      <td>36.2</td>\n",
       "      <td>421</td>\n",
       "      <td>126</td>\n",
       "      <td>135497532</td>\n",
       "      <td>408172.0</td>\n",
       "      <td>29</td>\n",
       "      <td>hypothetical protein GOS_9161653, partial [mar...</td>\n",
       "      <td>env_nr</td>\n",
       "      <td>421.0</td>\n",
       "      <td>393</td>\n",
       "      <td>1655</td>\n",
       "      <td>+</td>\n",
       "      <td>28.741093</td>\n",
       "    </tr>\n",
       "    <tr>\n",
       "      <th>272</th>\n",
       "      <td>d9539_asm_v1.2_14</td>\n",
       "      <td>gi|138220043|gb|EBY50077.1|</td>\n",
       "      <td>32.222</td>\n",
       "      <td>90</td>\n",
       "      <td>7.100000e-01</td>\n",
       "      <td>36.2</td>\n",
       "      <td>174</td>\n",
       "      <td>315</td>\n",
       "      <td>138220043</td>\n",
       "      <td>408172.0</td>\n",
       "      <td>51</td>\n",
       "      <td>hypothetical protein GOS_5591846, partial [mar...</td>\n",
       "      <td>env_nr</td>\n",
       "      <td>174.0</td>\n",
       "      <td>1603</td>\n",
       "      <td>2124</td>\n",
       "      <td>+</td>\n",
       "      <td>51.149425</td>\n",
       "    </tr>\n",
       "    <tr>\n",
       "      <th>225</th>\n",
       "      <td>d9539_asm_v1.2_22</td>\n",
       "      <td>gi|142009119|gb|ECU79481.1|</td>\n",
       "      <td>25.000</td>\n",
       "      <td>252</td>\n",
       "      <td>3.000000e-07</td>\n",
       "      <td>57.8</td>\n",
       "      <td>361</td>\n",
       "      <td>295</td>\n",
       "      <td>142009119</td>\n",
       "      <td>408172.0</td>\n",
       "      <td>64</td>\n",
       "      <td>hypothetical protein GOS_10492, partial [marin...</td>\n",
       "      <td>env_nr</td>\n",
       "      <td>361.0</td>\n",
       "      <td>2351</td>\n",
       "      <td>3433</td>\n",
       "      <td>+</td>\n",
       "      <td>63.711911</td>\n",
       "    </tr>\n",
       "    <tr>\n",
       "      <th>169</th>\n",
       "      <td>d9539_asm_v1.2_29</td>\n",
       "      <td>gi|142008696|gb|ECU79166.1|</td>\n",
       "      <td>24.706</td>\n",
       "      <td>255</td>\n",
       "      <td>6.490000e-08</td>\n",
       "      <td>62.0</td>\n",
       "      <td>647</td>\n",
       "      <td>505</td>\n",
       "      <td>142008696</td>\n",
       "      <td>408172.0</td>\n",
       "      <td>39</td>\n",
       "      <td>hypothetical protein GOS_10803 [marine metagen...</td>\n",
       "      <td>env_nr</td>\n",
       "      <td>647.0</td>\n",
       "      <td>3429</td>\n",
       "      <td>5369</td>\n",
       "      <td>+</td>\n",
       "      <td>38.639876</td>\n",
       "    </tr>\n",
       "  </tbody>\n",
       "</table>\n",
       "</div>"
      ],
      "text/plain": [
       "              query_id                   subject_id  pct_id  ali_len  \\\n",
       "312  d9539_asm_v1.2_11  gi|135497532|gb|EBI02878.1|  29.752      121   \n",
       "272  d9539_asm_v1.2_14  gi|138220043|gb|EBY50077.1|  32.222       90   \n",
       "225  d9539_asm_v1.2_22  gi|142009119|gb|ECU79481.1|  25.000      252   \n",
       "169  d9539_asm_v1.2_29  gi|142008696|gb|ECU79166.1|  24.706      255   \n",
       "\n",
       "          e_value  bitscore  q_len  s_len       s_gi  s_taxids  q_cov  \\\n",
       "312  9.000000e-01      36.2    421    126  135497532  408172.0     29   \n",
       "272  7.100000e-01      36.2    174    315  138220043  408172.0     51   \n",
       "225  3.000000e-07      57.8    361    295  142009119  408172.0     64   \n",
       "169  6.490000e-08      62.0    647    505  142008696  408172.0     39   \n",
       "\n",
       "                                         s_description      db  orf_len  \\\n",
       "312  hypothetical protein GOS_9161653, partial [mar...  env_nr    421.0   \n",
       "272  hypothetical protein GOS_5591846, partial [mar...  env_nr    174.0   \n",
       "225  hypothetical protein GOS_10492, partial [marin...  env_nr    361.0   \n",
       "169  hypothetical protein GOS_10803 [marine metagen...  env_nr    647.0   \n",
       "\n",
       "     q_cds_start  q_cds_end strand  q_cov_calc  \n",
       "312          393       1655      +   28.741093  \n",
       "272         1603       2124      +   51.149425  \n",
       "225         2351       3433      +   63.711911  \n",
       "169         3429       5369      +   38.639876  "
      ]
     },
     "execution_count": 8,
     "metadata": {},
     "output_type": "execute_result"
    }
   ],
   "source": [
    "env_nr_hits_filt = pd.DataFrame(hits.ix[hits.bitscore.idxmax()] for _,hits in env_nr_hits.groupby(\"query_id\")).sort_values(by=\"q_cds_start\")\n",
    "env_nr_hits_filt.drop([\"q_start\",\"q_end\",\"s_start\",\"s_end\",\"q_id\",\"s_names\",\"s_scinames\",\"tool\",\"mism\",\"gap_open\"],axis=1)"
   ]
  },
  {
   "cell_type": "markdown",
   "metadata": {},
   "source": [
    "# 3. Analyse MetaHIT hits"
   ]
  },
  {
   "cell_type": "code",
   "execution_count": 22,
   "metadata": {
    "collapsed": false
   },
   "outputs": [
    {
     "name": "stdout",
     "output_type": "stream",
     "text": [
      "(81, 16)\n"
     ]
    }
   ],
   "source": [
    "metahit_2014 = blast_hits[blast_hits.db == \"metahit_2014_pep\"]\n",
    "metahit_2014 = metahit_2014.drop([\"q_start\",\"q_end\",\"s_start\",\"s_end\",\"q_id\",\"s_names\",\"s_scinames\",\"s_gi\",\"s_taxids\",\"tool\",\"mism\",\"gap_open\"],axis=1)\n",
    "print(metahit_2014.shape)"
   ]
  },
  {
   "cell_type": "markdown",
   "metadata": {},
   "source": [
    "## a. Load MetaHIT 2014 annotation"
   ]
  },
  {
   "cell_type": "code",
   "execution_count": 13,
   "metadata": {
    "collapsed": false
   },
   "outputs": [
    {
     "name": "stdout",
     "output_type": "stream",
     "text": [
      "(9879896, 14)\n"
     ]
    },
    {
     "data": {
      "text/html": [
       "<div>\n",
       "<table border=\"1\" class=\"dataframe\">\n",
       "  <thead>\n",
       "    <tr style=\"text-align: right;\">\n",
       "      <th></th>\n",
       "      <th>gene_id</th>\n",
       "      <th>gene_name</th>\n",
       "      <th>gene_length</th>\n",
       "      <th>gene_completness</th>\n",
       "      <th>cohort_origin</th>\n",
       "      <th>phylum</th>\n",
       "      <th>genus</th>\n",
       "      <th>kegg</th>\n",
       "      <th>eggNOG</th>\n",
       "      <th>sample_freq</th>\n",
       "      <th>individual_freq</th>\n",
       "      <th>kegg_categories</th>\n",
       "      <th>eggnog_fx_categories</th>\n",
       "      <th>cohort_assembled</th>\n",
       "    </tr>\n",
       "  </thead>\n",
       "  <tbody>\n",
       "    <tr>\n",
       "      <th>0</th>\n",
       "      <td>1</td>\n",
       "      <td>T2D-6A_GL0083352</td>\n",
       "      <td>88230</td>\n",
       "      <td>Complete</td>\n",
       "      <td>CHN</td>\n",
       "      <td>unknown</td>\n",
       "      <td>unknown</td>\n",
       "      <td>K01824</td>\n",
       "      <td>COG5184</td>\n",
       "      <td>0.224152</td>\n",
       "      <td>0.236449</td>\n",
       "      <td>Lipid Metabolism</td>\n",
       "      <td>Cell cycle control, cell division, chromosome ...</td>\n",
       "      <td>EUR;CHN;USA</td>\n",
       "    </tr>\n",
       "    <tr>\n",
       "      <th>1</th>\n",
       "      <td>2</td>\n",
       "      <td>V1.UC4-5_GL0154511</td>\n",
       "      <td>88086</td>\n",
       "      <td>Complete</td>\n",
       "      <td>EUR</td>\n",
       "      <td>unknown</td>\n",
       "      <td>unknown</td>\n",
       "      <td>K01824</td>\n",
       "      <td>COG5184</td>\n",
       "      <td>0.352802</td>\n",
       "      <td>0.351402</td>\n",
       "      <td>Lipid Metabolism</td>\n",
       "      <td>Cell cycle control, cell division, chromosome ...</td>\n",
       "      <td>EUR;CHN;USA</td>\n",
       "    </tr>\n",
       "    <tr>\n",
       "      <th>2</th>\n",
       "      <td>3</td>\n",
       "      <td>MH0198_GL0136826</td>\n",
       "      <td>67464</td>\n",
       "      <td>Lack 5'-end</td>\n",
       "      <td>EUR</td>\n",
       "      <td>unknown</td>\n",
       "      <td>unknown</td>\n",
       "      <td>K01824</td>\n",
       "      <td>COG5184</td>\n",
       "      <td>0.281768</td>\n",
       "      <td>0.293458</td>\n",
       "      <td>Lipid Metabolism</td>\n",
       "      <td>Cell cycle control, cell division, chromosome ...</td>\n",
       "      <td>EUR;CHN</td>\n",
       "    </tr>\n",
       "    <tr>\n",
       "      <th>3</th>\n",
       "      <td>4</td>\n",
       "      <td>V1.FI28_GL0106390</td>\n",
       "      <td>45267</td>\n",
       "      <td>Complete</td>\n",
       "      <td>EUR</td>\n",
       "      <td>unknown</td>\n",
       "      <td>unknown</td>\n",
       "      <td>K03924</td>\n",
       "      <td>NOG12793</td>\n",
       "      <td>0.278611</td>\n",
       "      <td>0.267290</td>\n",
       "      <td>Metabolism</td>\n",
       "      <td>Function unknown</td>\n",
       "      <td>EUR;USA</td>\n",
       "    </tr>\n",
       "    <tr>\n",
       "      <th>4</th>\n",
       "      <td>5</td>\n",
       "      <td>MH0318_GL0144550</td>\n",
       "      <td>42243</td>\n",
       "      <td>Complete</td>\n",
       "      <td>EUR</td>\n",
       "      <td>unknown</td>\n",
       "      <td>unknown</td>\n",
       "      <td>K13730</td>\n",
       "      <td>COG4886</td>\n",
       "      <td>0.001579</td>\n",
       "      <td>0.001869</td>\n",
       "      <td>Infectious Diseases</td>\n",
       "      <td>Function unknown</td>\n",
       "      <td>EUR</td>\n",
       "    </tr>\n",
       "  </tbody>\n",
       "</table>\n",
       "</div>"
      ],
      "text/plain": [
       "   gene_id           gene_name  gene_length gene_completness cohort_origin  \\\n",
       "0        1    T2D-6A_GL0083352        88230         Complete           CHN   \n",
       "1        2  V1.UC4-5_GL0154511        88086         Complete           EUR   \n",
       "2        3    MH0198_GL0136826        67464      Lack 5'-end           EUR   \n",
       "3        4   V1.FI28_GL0106390        45267         Complete           EUR   \n",
       "4        5    MH0318_GL0144550        42243         Complete           EUR   \n",
       "\n",
       "    phylum    genus    kegg    eggNOG  sample_freq  individual_freq  \\\n",
       "0  unknown  unknown  K01824   COG5184     0.224152         0.236449   \n",
       "1  unknown  unknown  K01824   COG5184     0.352802         0.351402   \n",
       "2  unknown  unknown  K01824   COG5184     0.281768         0.293458   \n",
       "3  unknown  unknown  K03924  NOG12793     0.278611         0.267290   \n",
       "4  unknown  unknown  K13730   COG4886     0.001579         0.001869   \n",
       "\n",
       "       kegg_categories                               eggnog_fx_categories  \\\n",
       "0     Lipid Metabolism  Cell cycle control, cell division, chromosome ...   \n",
       "1     Lipid Metabolism  Cell cycle control, cell division, chromosome ...   \n",
       "2     Lipid Metabolism  Cell cycle control, cell division, chromosome ...   \n",
       "3           Metabolism                                   Function unknown   \n",
       "4  Infectious Diseases                                   Function unknown   \n",
       "\n",
       "  cohort_assembled  \n",
       "0      EUR;CHN;USA  \n",
       "1      EUR;CHN;USA  \n",
       "2          EUR;CHN  \n",
       "3          EUR;USA  \n",
       "4              EUR  "
      ]
     },
     "execution_count": 13,
     "metadata": {},
     "output_type": "execute_result"
    }
   ],
   "source": [
    "metahit_2014_cols = [\"gene_id\",\"gene_name\",\"gene_length\",\"gene_completness\",\n",
    "                     \"cohort_origin\",\"phylum\",\"genus\",\"kegg\",\"eggNOG\",\n",
    "                    \"sample_freq\",\"individual_freq\",\"kegg_categories\",\"eggnog_fx_categories\",\"cohort_assembled\"]\n",
    "\n",
    "metahit_2014_annot = pd.read_csv(\"~/tmp/metahit_reanalysis/IGC.annotation_OF.summary\",sep=\"\\t\",header=None,names=metahit_2014_cols)\n",
    "\n",
    "print(metahit_2014_annot.shape)\n",
    "metahit_2014_annot.head()"
   ]
  },
  {
   "cell_type": "markdown",
   "metadata": {},
   "source": [
    "## b. Annotate hits"
   ]
  },
  {
   "cell_type": "code",
   "execution_count": 14,
   "metadata": {
    "collapsed": false
   },
   "outputs": [
    {
     "name": "stdout",
     "output_type": "stream",
     "text": [
      "(81, 30)\n"
     ]
    },
    {
     "data": {
      "text/html": [
       "<div>\n",
       "<table border=\"1\" class=\"dataframe\">\n",
       "  <thead>\n",
       "    <tr style=\"text-align: right;\">\n",
       "      <th></th>\n",
       "      <th>query_id</th>\n",
       "      <th>subject_id</th>\n",
       "      <th>pct_id</th>\n",
       "      <th>ali_len</th>\n",
       "      <th>e_value</th>\n",
       "      <th>bitscore</th>\n",
       "      <th>q_len</th>\n",
       "      <th>s_len</th>\n",
       "      <th>q_cov</th>\n",
       "      <th>s_description</th>\n",
       "      <th>...</th>\n",
       "      <th>cohort_origin</th>\n",
       "      <th>phylum</th>\n",
       "      <th>genus</th>\n",
       "      <th>kegg</th>\n",
       "      <th>eggNOG</th>\n",
       "      <th>sample_freq</th>\n",
       "      <th>individual_freq</th>\n",
       "      <th>kegg_categories</th>\n",
       "      <th>eggnog_fx_categories</th>\n",
       "      <th>cohort_assembled</th>\n",
       "    </tr>\n",
       "  </thead>\n",
       "  <tbody>\n",
       "    <tr>\n",
       "      <th>0</th>\n",
       "      <td>d9539_asm_v1.2_5</td>\n",
       "      <td>MH0409_GL0061975</td>\n",
       "      <td>91.379</td>\n",
       "      <td>58</td>\n",
       "      <td>1.220000e-31</td>\n",
       "      <td>113.0</td>\n",
       "      <td>58</td>\n",
       "      <td>86</td>\n",
       "      <td>100</td>\n",
       "      <td>MH0409_GL0061975  [gene]  locus=scaffold117357...</td>\n",
       "      <td>...</td>\n",
       "      <td>EUR</td>\n",
       "      <td>unknown</td>\n",
       "      <td>unknown</td>\n",
       "      <td>unknown</td>\n",
       "      <td>unknown</td>\n",
       "      <td>0.005525</td>\n",
       "      <td>0.005607</td>\n",
       "      <td>unknown</td>\n",
       "      <td>unknown</td>\n",
       "      <td>EUR</td>\n",
       "    </tr>\n",
       "    <tr>\n",
       "      <th>1</th>\n",
       "      <td>d9539_asm_v1.2_5</td>\n",
       "      <td>675950834-stool1_revised_C814893_1_gene71376</td>\n",
       "      <td>89.655</td>\n",
       "      <td>58</td>\n",
       "      <td>1.970000e-31</td>\n",
       "      <td>112.0</td>\n",
       "      <td>58</td>\n",
       "      <td>58</td>\n",
       "      <td>100</td>\n",
       "      <td>675950834-stool1_revised_C814893_1_gene71376 s...</td>\n",
       "      <td>...</td>\n",
       "      <td>USA</td>\n",
       "      <td>unknown</td>\n",
       "      <td>unknown</td>\n",
       "      <td>unknown</td>\n",
       "      <td>unknown</td>\n",
       "      <td>0.018942</td>\n",
       "      <td>0.014953</td>\n",
       "      <td>unknown</td>\n",
       "      <td>unknown</td>\n",
       "      <td>USA</td>\n",
       "    </tr>\n",
       "    <tr>\n",
       "      <th>2</th>\n",
       "      <td>d9539_asm_v1.2_5</td>\n",
       "      <td>MH0105_GL0047475</td>\n",
       "      <td>89.655</td>\n",
       "      <td>58</td>\n",
       "      <td>2.880000e-31</td>\n",
       "      <td>112.0</td>\n",
       "      <td>58</td>\n",
       "      <td>86</td>\n",
       "      <td>100</td>\n",
       "      <td>MH0105_GL0047475  [gene]  locus=scaffold1014_1...</td>\n",
       "      <td>...</td>\n",
       "      <td>EUR</td>\n",
       "      <td>unknown</td>\n",
       "      <td>unknown</td>\n",
       "      <td>unknown</td>\n",
       "      <td>unknown</td>\n",
       "      <td>0.007103</td>\n",
       "      <td>0.008411</td>\n",
       "      <td>unknown</td>\n",
       "      <td>unknown</td>\n",
       "      <td>EUR</td>\n",
       "    </tr>\n",
       "    <tr>\n",
       "      <th>3</th>\n",
       "      <td>d9539_asm_v1.2_5</td>\n",
       "      <td>MH0203_GL0004312</td>\n",
       "      <td>89.655</td>\n",
       "      <td>58</td>\n",
       "      <td>3.250000e-31</td>\n",
       "      <td>112.0</td>\n",
       "      <td>58</td>\n",
       "      <td>86</td>\n",
       "      <td>100</td>\n",
       "      <td>MH0203_GL0004312  [gene]  locus=C2075218_1:153...</td>\n",
       "      <td>...</td>\n",
       "      <td>EUR</td>\n",
       "      <td>unknown</td>\n",
       "      <td>unknown</td>\n",
       "      <td>unknown</td>\n",
       "      <td>unknown</td>\n",
       "      <td>0.007893</td>\n",
       "      <td>0.009346</td>\n",
       "      <td>unknown</td>\n",
       "      <td>unknown</td>\n",
       "      <td>EUR</td>\n",
       "    </tr>\n",
       "    <tr>\n",
       "      <th>4</th>\n",
       "      <td>d9539_asm_v1.2_5</td>\n",
       "      <td>MH0033_GL0005948</td>\n",
       "      <td>89.655</td>\n",
       "      <td>58</td>\n",
       "      <td>4.350000e-31</td>\n",
       "      <td>112.0</td>\n",
       "      <td>58</td>\n",
       "      <td>86</td>\n",
       "      <td>100</td>\n",
       "      <td>MH0033_GL0005948  [gene]  locus=scaffold47970_...</td>\n",
       "      <td>...</td>\n",
       "      <td>EUR</td>\n",
       "      <td>unknown</td>\n",
       "      <td>unknown</td>\n",
       "      <td>unknown</td>\n",
       "      <td>unknown</td>\n",
       "      <td>0.011050</td>\n",
       "      <td>0.012150</td>\n",
       "      <td>unknown</td>\n",
       "      <td>unknown</td>\n",
       "      <td>EUR</td>\n",
       "    </tr>\n",
       "  </tbody>\n",
       "</table>\n",
       "<p>5 rows × 30 columns</p>\n",
       "</div>"
      ],
      "text/plain": [
       "           query_id                                    subject_id  pct_id  \\\n",
       "0  d9539_asm_v1.2_5                              MH0409_GL0061975  91.379   \n",
       "1  d9539_asm_v1.2_5  675950834-stool1_revised_C814893_1_gene71376  89.655   \n",
       "2  d9539_asm_v1.2_5                              MH0105_GL0047475  89.655   \n",
       "3  d9539_asm_v1.2_5                              MH0203_GL0004312  89.655   \n",
       "4  d9539_asm_v1.2_5                              MH0033_GL0005948  89.655   \n",
       "\n",
       "   ali_len       e_value  bitscore  q_len  s_len  q_cov  \\\n",
       "0       58  1.220000e-31     113.0     58     86    100   \n",
       "1       58  1.970000e-31     112.0     58     58    100   \n",
       "2       58  2.880000e-31     112.0     58     86    100   \n",
       "3       58  3.250000e-31     112.0     58     86    100   \n",
       "4       58  4.350000e-31     112.0     58     86    100   \n",
       "\n",
       "                                       s_description       ...         \\\n",
       "0  MH0409_GL0061975  [gene]  locus=scaffold117357...       ...          \n",
       "1  675950834-stool1_revised_C814893_1_gene71376 s...       ...          \n",
       "2  MH0105_GL0047475  [gene]  locus=scaffold1014_1...       ...          \n",
       "3  MH0203_GL0004312  [gene]  locus=C2075218_1:153...       ...          \n",
       "4  MH0033_GL0005948  [gene]  locus=scaffold47970_...       ...          \n",
       "\n",
       "  cohort_origin   phylum    genus     kegg   eggNOG  sample_freq  \\\n",
       "0           EUR  unknown  unknown  unknown  unknown     0.005525   \n",
       "1           USA  unknown  unknown  unknown  unknown     0.018942   \n",
       "2           EUR  unknown  unknown  unknown  unknown     0.007103   \n",
       "3           EUR  unknown  unknown  unknown  unknown     0.007893   \n",
       "4           EUR  unknown  unknown  unknown  unknown     0.011050   \n",
       "\n",
       "   individual_freq kegg_categories  eggnog_fx_categories cohort_assembled  \n",
       "0         0.005607         unknown               unknown              EUR  \n",
       "1         0.014953         unknown               unknown              USA  \n",
       "2         0.008411         unknown               unknown              EUR  \n",
       "3         0.009346         unknown               unknown              EUR  \n",
       "4         0.012150         unknown               unknown              EUR  \n",
       "\n",
       "[5 rows x 30 columns]"
      ]
     },
     "execution_count": 14,
     "metadata": {},
     "output_type": "execute_result"
    }
   ],
   "source": [
    "#MetaHIT 2014\n",
    "metahit_2014_df = pd.merge(metahit_2014, metahit_2014_annot, left_on=\"subject_id\", right_on=\"gene_name\",how=\"left\")\n",
    "print(metahit_2014_df.shape)\n",
    "metahit_2014_df.head()"
   ]
  },
  {
   "cell_type": "markdown",
   "metadata": {},
   "source": [
    "## c. Tax annotation\n",
    "\n",
    "No results"
   ]
  },
  {
   "cell_type": "code",
   "execution_count": 17,
   "metadata": {
    "collapsed": false
   },
   "outputs": [
    {
     "name": "stdout",
     "output_type": "stream",
     "text": [
      "(81, 30)\n",
      "(0, 30)\n",
      "(0, 30)\n"
     ]
    }
   ],
   "source": [
    "print(metahit_2014_df.shape)\n",
    "print(metahit_2014_df[ metahit_2014_df.phylum != \"unknown\" ].shape)\n",
    "print(metahit_2014_df[ metahit_2014_df.genus != \"unknown\" ].shape)"
   ]
  },
  {
   "cell_type": "markdown",
   "metadata": {},
   "source": [
    "## d. KEGG"
   ]
  },
  {
   "cell_type": "code",
   "execution_count": 20,
   "metadata": {
    "collapsed": false
   },
   "outputs": [
    {
     "data": {
      "text/html": [
       "<div>\n",
       "<table border=\"1\" class=\"dataframe\">\n",
       "  <thead>\n",
       "    <tr style=\"text-align: right;\">\n",
       "      <th></th>\n",
       "      <th>query_id</th>\n",
       "      <th>db</th>\n",
       "      <th>kegg</th>\n",
       "      <th>kegg_categories</th>\n",
       "    </tr>\n",
       "  </thead>\n",
       "  <tbody>\n",
       "    <tr>\n",
       "      <th>28</th>\n",
       "      <td>d9539_asm_v1.2_3</td>\n",
       "      <td>metahit_2014_pep</td>\n",
       "      <td>K00936</td>\n",
       "      <td>Metabolism</td>\n",
       "    </tr>\n",
       "    <tr>\n",
       "      <th>29</th>\n",
       "      <td>d9539_asm_v1.2_3</td>\n",
       "      <td>metahit_2014_pep</td>\n",
       "      <td>K02058</td>\n",
       "      <td>Membrane Transport</td>\n",
       "    </tr>\n",
       "  </tbody>\n",
       "</table>\n",
       "</div>"
      ],
      "text/plain": [
       "            query_id                db    kegg     kegg_categories\n",
       "28  d9539_asm_v1.2_3  metahit_2014_pep  K00936          Metabolism\n",
       "29  d9539_asm_v1.2_3  metahit_2014_pep  K02058  Membrane Transport"
      ]
     },
     "execution_count": 20,
     "metadata": {},
     "output_type": "execute_result"
    }
   ],
   "source": [
    "metahit_2014_df[metahit_2014_df.kegg != \"unknown\"][[\"query_id\",\"db\",\"kegg\",\"kegg_categories\"]].drop_duplicates()"
   ]
  },
  {
   "cell_type": "markdown",
   "metadata": {},
   "source": [
    "## e. eggNOG"
   ]
  },
  {
   "cell_type": "code",
   "execution_count": 21,
   "metadata": {
    "collapsed": false
   },
   "outputs": [
    {
     "data": {
      "text/html": [
       "<div>\n",
       "<table border=\"1\" class=\"dataframe\">\n",
       "  <thead>\n",
       "    <tr style=\"text-align: right;\">\n",
       "      <th></th>\n",
       "      <th>query_id</th>\n",
       "      <th>db</th>\n",
       "      <th>eggNOG</th>\n",
       "      <th>eggnog_fx_categories</th>\n",
       "    </tr>\n",
       "  </thead>\n",
       "  <tbody>\n",
       "    <tr>\n",
       "      <th>28</th>\n",
       "      <td>d9539_asm_v1.2_3</td>\n",
       "      <td>metahit_2014_pep</td>\n",
       "      <td>COG0642</td>\n",
       "      <td>Signal transduction mechanisms</td>\n",
       "    </tr>\n",
       "    <tr>\n",
       "      <th>29</th>\n",
       "      <td>d9539_asm_v1.2_3</td>\n",
       "      <td>metahit_2014_pep</td>\n",
       "      <td>COG1879</td>\n",
       "      <td>Carbohydrate transport and metabolism</td>\n",
       "    </tr>\n",
       "  </tbody>\n",
       "</table>\n",
       "</div>"
      ],
      "text/plain": [
       "            query_id                db   eggNOG  \\\n",
       "28  d9539_asm_v1.2_3  metahit_2014_pep  COG0642   \n",
       "29  d9539_asm_v1.2_3  metahit_2014_pep  COG1879   \n",
       "\n",
       "                     eggnog_fx_categories  \n",
       "28         Signal transduction mechanisms  \n",
       "29  Carbohydrate transport and metabolism  "
      ]
     },
     "execution_count": 21,
     "metadata": {},
     "output_type": "execute_result"
    }
   ],
   "source": [
    "metahit_2014_df[metahit_2014_df.eggNOG != \"unknown\"][[\"query_id\",\"db\",\"eggNOG\",\"eggnog_fx_categories\"]].drop_duplicates()"
   ]
  },
  {
   "cell_type": "markdown",
   "metadata": {},
   "source": [
    "## f. Max observed freqs of ORFs 'homologues' in MetaHIT samples"
   ]
  },
  {
   "cell_type": "code",
   "execution_count": 23,
   "metadata": {
    "collapsed": false
   },
   "outputs": [
    {
     "data": {
      "text/html": [
       "<div>\n",
       "<table border=\"1\" class=\"dataframe\">\n",
       "  <thead>\n",
       "    <tr style=\"text-align: right;\">\n",
       "      <th></th>\n",
       "      <th>query_id</th>\n",
       "      <th>individual_freq</th>\n",
       "      <th>sample_freq</th>\n",
       "    </tr>\n",
       "  </thead>\n",
       "  <tbody>\n",
       "    <tr>\n",
       "      <th>0</th>\n",
       "      <td>d9539_asm_v1.2_1</td>\n",
       "      <td>0.035514</td>\n",
       "      <td>0.037885</td>\n",
       "    </tr>\n",
       "    <tr>\n",
       "      <th>1</th>\n",
       "      <td>d9539_asm_v1.2_11</td>\n",
       "      <td>0.018692</td>\n",
       "      <td>0.022099</td>\n",
       "    </tr>\n",
       "    <tr>\n",
       "      <th>2</th>\n",
       "      <td>d9539_asm_v1.2_14</td>\n",
       "      <td>0.014953</td>\n",
       "      <td>0.019732</td>\n",
       "    </tr>\n",
       "    <tr>\n",
       "      <th>3</th>\n",
       "      <td>d9539_asm_v1.2_16</td>\n",
       "      <td>0.006542</td>\n",
       "      <td>0.007103</td>\n",
       "    </tr>\n",
       "    <tr>\n",
       "      <th>4</th>\n",
       "      <td>d9539_asm_v1.2_22</td>\n",
       "      <td>0.043925</td>\n",
       "      <td>0.052092</td>\n",
       "    </tr>\n",
       "    <tr>\n",
       "      <th>5</th>\n",
       "      <td>d9539_asm_v1.2_29</td>\n",
       "      <td>0.009346</td>\n",
       "      <td>0.011050</td>\n",
       "    </tr>\n",
       "    <tr>\n",
       "      <th>6</th>\n",
       "      <td>d9539_asm_v1.2_3</td>\n",
       "      <td>0.066355</td>\n",
       "      <td>0.063141</td>\n",
       "    </tr>\n",
       "    <tr>\n",
       "      <th>7</th>\n",
       "      <td>d9539_asm_v1.2_30</td>\n",
       "      <td>0.037383</td>\n",
       "      <td>0.037885</td>\n",
       "    </tr>\n",
       "    <tr>\n",
       "      <th>8</th>\n",
       "      <td>d9539_asm_v1.2_5</td>\n",
       "      <td>0.024299</td>\n",
       "      <td>0.024467</td>\n",
       "    </tr>\n",
       "  </tbody>\n",
       "</table>\n",
       "</div>"
      ],
      "text/plain": [
       "            query_id  individual_freq  sample_freq\n",
       "0   d9539_asm_v1.2_1         0.035514     0.037885\n",
       "1  d9539_asm_v1.2_11         0.018692     0.022099\n",
       "2  d9539_asm_v1.2_14         0.014953     0.019732\n",
       "3  d9539_asm_v1.2_16         0.006542     0.007103\n",
       "4  d9539_asm_v1.2_22         0.043925     0.052092\n",
       "5  d9539_asm_v1.2_29         0.009346     0.011050\n",
       "6   d9539_asm_v1.2_3         0.066355     0.063141\n",
       "7  d9539_asm_v1.2_30         0.037383     0.037885\n",
       "8   d9539_asm_v1.2_5         0.024299     0.024467"
      ]
     },
     "execution_count": 23,
     "metadata": {},
     "output_type": "execute_result"
    }
   ],
   "source": [
    "gb = metahit_2014_df[[\"query_id\",\"individual_freq\"]].groupby(\"query_id\")\n",
    "max_individual_freq = pd.DataFrame([ df.ix[ df.individual_freq.idxmax() ] for _,df in gb ] )\n",
    "\n",
    "gb = metahit_2014_df[[\"query_id\",\"sample_freq\"]].groupby(\"query_id\")\n",
    "max_sample_freq = pd.DataFrame([ df.ix[ df.sample_freq.idxmax() ] for _,df in gb ] )\n",
    "\n",
    "pd.merge(max_individual_freq,max_sample_freq,on=\"query_id\",how=\"outer\")"
   ]
  },
  {
   "cell_type": "markdown",
   "metadata": {},
   "source": [
    "## f. Write out best MetaHIT hit for each ORF"
   ]
  },
  {
   "cell_type": "code",
   "execution_count": 24,
   "metadata": {
    "collapsed": true
   },
   "outputs": [],
   "source": [
    "metahit_df = pd.DataFrame(hits.ix[hits.bitscore.idxmax()] for _,hits in metahit_hits.groupby(\"query_id\")).sort_values(by=\"q_cds_start\")\n",
    "metahit_df[[\"query_id\",\"pct_id\",\"q_cov\"]]\n",
    "metahit_df[[\"query_id\",\"pct_id\",\"q_cov\"]].to_csv(\"out/filt_orf_best_metahit_hits.csv\",index=False)"
   ]
  },
  {
   "cell_type": "code",
   "execution_count": null,
   "metadata": {
    "collapsed": true
   },
   "outputs": [],
   "source": []
  }
 ],
 "metadata": {
  "kernelspec": {
   "display_name": "Python 3",
   "language": "python",
   "name": "python3"
  },
  "language_info": {
   "codemirror_mode": {
    "name": "ipython",
    "version": 3
   },
   "file_extension": ".py",
   "mimetype": "text/x-python",
   "name": "python",
   "nbconvert_exporter": "python",
   "pygments_lexer": "ipython3",
   "version": "3.5.1"
  }
 },
 "nbformat": 4,
 "nbformat_minor": 0
}

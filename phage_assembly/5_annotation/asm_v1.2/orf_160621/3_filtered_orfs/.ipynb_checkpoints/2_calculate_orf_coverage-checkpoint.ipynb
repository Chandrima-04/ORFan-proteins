{
 "cells": [
  {
   "cell_type": "code",
   "execution_count": 1,
   "metadata": {
    "collapsed": false
   },
   "outputs": [],
   "source": [
    "import pandas as pd\n",
    "import bitarray"
   ]
  },
  {
   "cell_type": "markdown",
   "metadata": {},
   "source": [
    "# 1. Read genome length"
   ]
  },
  {
   "cell_type": "code",
   "execution_count": 2,
   "metadata": {
    "collapsed": false
   },
   "outputs": [
    {
     "name": "stdout",
     "output_type": "stream",
     "text": [
      "5752\n"
     ]
    }
   ],
   "source": [
    "with open( \"../../d9539_asm_v1.2.fa\") as fh:\n",
    "    genome = fh.readlines()[1:]\n",
    "    genome = \"\".join(genome).replace(\"\\n\",\"\")\n",
    "    genome_length = len(genome)\n",
    "    print(genome_length)"
   ]
  },
  {
   "cell_type": "markdown",
   "metadata": {},
   "source": [
    "# 2. Read annotation"
   ]
  },
  {
   "cell_type": "code",
   "execution_count": 3,
   "metadata": {
    "collapsed": false
   },
   "outputs": [
    {
     "data": {
      "text/plain": [
       "[(24, 104),\n",
       " (129, 236),\n",
       " (214, 387),\n",
       " (392, 1654),\n",
       " (1602, 2123),\n",
       " (2178, 2387),\n",
       " (2350, 3432),\n",
       " (3428, 5368),\n",
       " (5373, 5663)]"
      ]
     },
     "execution_count": 3,
     "metadata": {},
     "output_type": "execute_result"
    }
   ],
   "source": [
    "cds_intervals = pd.read_csv(\"filt_orf_stats.csv\")[[\"q_cds_start\",\"q_cds_end\"]]\n",
    "#Transform intervals from 1-based coord to 0-based coord\n",
    "cds_intervals = cds_intervals.apply(lambda row: (row[0]-1,row[1]-1),axis=1).tolist()\n",
    "cds_intervals"
   ]
  },
  {
   "cell_type": "markdown",
   "metadata": {},
   "source": [
    "# 3. Calculate coverage"
   ]
  },
  {
   "cell_type": "code",
   "execution_count": 4,
   "metadata": {
    "collapsed": true
   },
   "outputs": [],
   "source": [
    "genome_pos = bitarray.bitarray(genome_length)\n",
    "genome_pos.setall(False)"
   ]
  },
  {
   "cell_type": "code",
   "execution_count": 5,
   "metadata": {
    "collapsed": true
   },
   "outputs": [],
   "source": [
    "for pair in cds_intervals:\n",
    "    genome_pos[pair[0]:(pair[1]+1)] = True"
   ]
  },
  {
   "cell_type": "code",
   "execution_count": 6,
   "metadata": {
    "collapsed": false
   },
   "outputs": [
    {
     "name": "stdout",
     "output_type": "stream",
     "text": [
      "Coverage: 96.557719054242%\n"
     ]
    }
   ],
   "source": [
    "#Coverage\n",
    "cov = 100.0 * sum(genome_pos) / genome_length\n",
    "print(\"Coverage: {}%\".format( cov ) )"
   ]
  },
  {
   "cell_type": "code",
   "execution_count": null,
   "metadata": {
    "collapsed": true
   },
   "outputs": [],
   "source": []
  }
 ],
 "metadata": {
  "kernelspec": {
   "display_name": "Python 3",
   "language": "python",
   "name": "python3"
  },
  "language_info": {
   "codemirror_mode": {
    "name": "ipython",
    "version": 3
   },
   "file_extension": ".py",
   "mimetype": "text/x-python",
   "name": "python",
   "nbconvert_exporter": "python",
   "pygments_lexer": "ipython3",
   "version": "3.5.1"
  }
 },
 "nbformat": 4,
 "nbformat_minor": 0
}

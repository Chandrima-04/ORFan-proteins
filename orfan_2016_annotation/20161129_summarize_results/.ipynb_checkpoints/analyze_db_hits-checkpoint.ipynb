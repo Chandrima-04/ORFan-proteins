{
 "cells": [
  {
   "cell_type": "code",
   "execution_count": 1,
   "metadata": {
    "collapsed": true
   },
   "outputs": [],
   "source": [
    "%matplotlib inline"
   ]
  },
  {
   "cell_type": "code",
   "execution_count": 2,
   "metadata": {
    "collapsed": true
   },
   "outputs": [],
   "source": [
    "import pandas as pd\n",
    "import re\n",
    "import itertools\n",
    "import matplotlib_venn"
   ]
  },
  {
   "cell_type": "code",
   "execution_count": 3,
   "metadata": {
    "collapsed": false
   },
   "outputs": [
    {
     "name": "stdout",
     "output_type": "stream",
     "text": [
      "(66, 11)\n",
      "(29, 9)\n"
     ]
    }
   ],
   "source": [
    "#Load blast best hits\n",
    "filt_blast_hits = pd.read_csv(\"filtered_blast_hits.csv\")\n",
    "print(filt_blast_hits.shape)\n",
    "#Load hmmer best hits\n",
    "filt_hmmer_hits = pd.read_csv(\"filtered_hmmer_hits.csv\")\n",
    "print(filt_hmmer_hits.shape)\n",
    "\n",
    "all_filt_hits = pd.concat([filt_blast_hits,filt_hmmer_hits],axis=0)\n",
    "#Load cluster stats\n",
    "clusters = pd.read_csv(\"cluster_stats.csv\")"
   ]
  },
  {
   "cell_type": "code",
   "execution_count": 4,
   "metadata": {
    "collapsed": false
   },
   "outputs": [
    {
     "name": "stdout",
     "output_type": "stream",
     "text": [
      "(95, 12)\n"
     ]
    },
    {
     "data": {
      "text/html": [
       "<div>\n",
       "<table border=\"1\" class=\"dataframe\">\n",
       "  <thead>\n",
       "    <tr style=\"text-align: right;\">\n",
       "      <th></th>\n",
       "      <th>best_dmn_e_value</th>\n",
       "      <th>bitscore</th>\n",
       "      <th>cluster</th>\n",
       "      <th>db</th>\n",
       "      <th>e_value</th>\n",
       "      <th>pct_id</th>\n",
       "      <th>q_cov</th>\n",
       "      <th>q_len</th>\n",
       "      <th>query_id</th>\n",
       "      <th>s_description</th>\n",
       "      <th>subject_id</th>\n",
       "      <th>tool</th>\n",
       "    </tr>\n",
       "  </thead>\n",
       "  <tbody>\n",
       "    <tr>\n",
       "      <th>0</th>\n",
       "      <td>NaN</td>\n",
       "      <td>479.0</td>\n",
       "      <td>1073</td>\n",
       "      <td>env_nt</td>\n",
       "      <td>1.000000e-131</td>\n",
       "      <td>98.180</td>\n",
       "      <td>99.0</td>\n",
       "      <td>276.0</td>\n",
       "      <td>GB3LKKR01A150I</td>\n",
       "      <td>gut metagenome genome assembly P2E0-k21-2014-0...</td>\n",
       "      <td>gi|936108378|emb|CEAB01076172.1|</td>\n",
       "      <td>blastn</td>\n",
       "    </tr>\n",
       "    <tr>\n",
       "      <th>1</th>\n",
       "      <td>NaN</td>\n",
       "      <td>444.0</td>\n",
       "      <td>1073</td>\n",
       "      <td>metahit_cds</td>\n",
       "      <td>1.010000e-122</td>\n",
       "      <td>95.971</td>\n",
       "      <td>96.0</td>\n",
       "      <td>285.0</td>\n",
       "      <td>contig07331</td>\n",
       "      <td>GL0080651_MH0011_[Complete]_[mRNA]_locus=scaff...</td>\n",
       "      <td>GL0080651_MH0011_[Complete]_[mRNA]_locus=scaff...</td>\n",
       "      <td>blastn</td>\n",
       "    </tr>\n",
       "    <tr>\n",
       "      <th>2</th>\n",
       "      <td>NaN</td>\n",
       "      <td>159.0</td>\n",
       "      <td>1073</td>\n",
       "      <td>metahit_pep</td>\n",
       "      <td>3.240000e-48</td>\n",
       "      <td>97.727</td>\n",
       "      <td>96.0</td>\n",
       "      <td>92.0</td>\n",
       "      <td>contig07331</td>\n",
       "      <td>GL0080651_MH0011_[Complete]_[mRNA]_locus=scaff...</td>\n",
       "      <td>GL0080651_MH0011_[Complete]_[mRNA]_locus=scaff...</td>\n",
       "      <td>blastp</td>\n",
       "    </tr>\n",
       "    <tr>\n",
       "      <th>3</th>\n",
       "      <td>NaN</td>\n",
       "      <td>165.0</td>\n",
       "      <td>113b</td>\n",
       "      <td>metahit_cds</td>\n",
       "      <td>2.240000e-39</td>\n",
       "      <td>98.913</td>\n",
       "      <td>100.0</td>\n",
       "      <td>92.0</td>\n",
       "      <td>GB3LKKR01C5IFF</td>\n",
       "      <td>GL0006538_MH0023_[Complete]_[mRNA]_locus=C1324...</td>\n",
       "      <td>GL0006538_MH0023_[Complete]_[mRNA]_locus=C1324...</td>\n",
       "      <td>blastn</td>\n",
       "    </tr>\n",
       "    <tr>\n",
       "      <th>4</th>\n",
       "      <td>NaN</td>\n",
       "      <td>100.0</td>\n",
       "      <td>113b</td>\n",
       "      <td>env_nt</td>\n",
       "      <td>3.000000e-18</td>\n",
       "      <td>87.360</td>\n",
       "      <td>89.0</td>\n",
       "      <td>98.0</td>\n",
       "      <td>GB3LKKR02F10X4</td>\n",
       "      <td>Gut metagenome Scaffold6187_1, whole genome sh...</td>\n",
       "      <td>gi|557595202|gb|AVOA01007617.1|</td>\n",
       "      <td>blastn</td>\n",
       "    </tr>\n",
       "  </tbody>\n",
       "</table>\n",
       "</div>"
      ],
      "text/plain": [
       "   best_dmn_e_value  bitscore cluster           db        e_value  pct_id  \\\n",
       "0               NaN     479.0    1073       env_nt  1.000000e-131  98.180   \n",
       "1               NaN     444.0    1073  metahit_cds  1.010000e-122  95.971   \n",
       "2               NaN     159.0    1073  metahit_pep   3.240000e-48  97.727   \n",
       "3               NaN     165.0    113b  metahit_cds   2.240000e-39  98.913   \n",
       "4               NaN     100.0    113b       env_nt   3.000000e-18  87.360   \n",
       "\n",
       "   q_cov  q_len        query_id  \\\n",
       "0   99.0  276.0  GB3LKKR01A150I   \n",
       "1   96.0  285.0     contig07331   \n",
       "2   96.0   92.0     contig07331   \n",
       "3  100.0   92.0  GB3LKKR01C5IFF   \n",
       "4   89.0   98.0  GB3LKKR02F10X4   \n",
       "\n",
       "                                       s_description  \\\n",
       "0  gut metagenome genome assembly P2E0-k21-2014-0...   \n",
       "1  GL0080651_MH0011_[Complete]_[mRNA]_locus=scaff...   \n",
       "2  GL0080651_MH0011_[Complete]_[mRNA]_locus=scaff...   \n",
       "3  GL0006538_MH0023_[Complete]_[mRNA]_locus=C1324...   \n",
       "4  Gut metagenome Scaffold6187_1, whole genome sh...   \n",
       "\n",
       "                                          subject_id    tool  \n",
       "0                   gi|936108378|emb|CEAB01076172.1|  blastn  \n",
       "1  GL0080651_MH0011_[Complete]_[mRNA]_locus=scaff...  blastn  \n",
       "2  GL0080651_MH0011_[Complete]_[mRNA]_locus=scaff...  blastp  \n",
       "3  GL0006538_MH0023_[Complete]_[mRNA]_locus=C1324...  blastn  \n",
       "4                    gi|557595202|gb|AVOA01007617.1|  blastn  "
      ]
     },
     "execution_count": 4,
     "metadata": {},
     "output_type": "execute_result"
    }
   ],
   "source": [
    "print(all_filt_hits.shape)\n",
    "all_filt_hits.head()"
   ]
  },
  {
   "cell_type": "code",
   "execution_count": 5,
   "metadata": {
    "collapsed": false
   },
   "outputs": [
    {
     "name": "stdout",
     "output_type": "stream",
     "text": [
      "(32, 23)\n"
     ]
    },
    {
     "data": {
      "text/html": [
       "<div>\n",
       "<table border=\"1\" class=\"dataframe\">\n",
       "  <thead>\n",
       "    <tr style=\"text-align: right;\">\n",
       "      <th></th>\n",
       "      <th>Cluster</th>\n",
       "      <th># nr seqs</th>\n",
       "      <th># raw seqs</th>\n",
       "      <th>Score</th>\n",
       "      <th>log RNAcode score</th>\n",
       "      <th>P</th>\n",
       "      <th>ORF length (aa)</th>\n",
       "      <th>log ORF length</th>\n",
       "      <th>complexity</th>\n",
       "      <th>min</th>\n",
       "      <th>...</th>\n",
       "      <th>min.1</th>\n",
       "      <th>avg.1</th>\n",
       "      <th>max.1</th>\n",
       "      <th># seqs with max length</th>\n",
       "      <th>composite score</th>\n",
       "      <th>DNA alignment</th>\n",
       "      <th>protein alignment</th>\n",
       "      <th>RNAcode figure</th>\n",
       "      <th>cluster_id</th>\n",
       "      <th>sample_origin</th>\n",
       "    </tr>\n",
       "  </thead>\n",
       "  <tbody>\n",
       "    <tr>\n",
       "      <th>0</th>\n",
       "      <td>1217</td>\n",
       "      <td>6</td>\n",
       "      <td>6</td>\n",
       "      <td>41.974</td>\n",
       "      <td>1.62</td>\n",
       "      <td>7.704e–10</td>\n",
       "      <td>91</td>\n",
       "      <td>1.96</td>\n",
       "      <td>hi</td>\n",
       "      <td>3.79</td>\n",
       "      <td>...</td>\n",
       "      <td>38</td>\n",
       "      <td>73.67</td>\n",
       "      <td>87</td>\n",
       "      <td>2</td>\n",
       "      <td>7.57</td>\n",
       "      <td>&lt;a href=\"all_nt_aln/cluster1217_DNA.aln.txt\"&gt;D...</td>\n",
       "      <td>&lt;a href=\"all_aa_aln/cluster1217_AA.aln.txt\"&gt;AA...</td>\n",
       "      <td>&lt;a href=\"rnacode_all/cluster1217_eps/hss-0.eps...</td>\n",
       "      <td>1217</td>\n",
       "      <td>feces</td>\n",
       "    </tr>\n",
       "    <tr>\n",
       "      <th>1</th>\n",
       "      <td>339b</td>\n",
       "      <td>7</td>\n",
       "      <td>11</td>\n",
       "      <td>33.153</td>\n",
       "      <td>1.52</td>\n",
       "      <td>1.069e–06</td>\n",
       "      <td>110</td>\n",
       "      <td>2.04</td>\n",
       "      <td>hi</td>\n",
       "      <td>3.89</td>\n",
       "      <td>...</td>\n",
       "      <td>63</td>\n",
       "      <td>79.14</td>\n",
       "      <td>106</td>\n",
       "      <td>2</td>\n",
       "      <td>7.52</td>\n",
       "      <td>&lt;a href=\"all_nt_aln/cluster339b_DNA.aln.txt\"&gt;D...</td>\n",
       "      <td>&lt;a href=\"all_aa_aln/cluster339b_AA.aln.txt\"&gt;AA...</td>\n",
       "      <td>&lt;a href=\"rnacode_all/cluster339b_eps/hss-0.eps...</td>\n",
       "      <td>339b</td>\n",
       "      <td>feces</td>\n",
       "    </tr>\n",
       "    <tr>\n",
       "      <th>2</th>\n",
       "      <td>211b</td>\n",
       "      <td>7</td>\n",
       "      <td>22</td>\n",
       "      <td>42.949</td>\n",
       "      <td>1.63</td>\n",
       "      <td>3.364e–14</td>\n",
       "      <td>80</td>\n",
       "      <td>1.90</td>\n",
       "      <td>hi</td>\n",
       "      <td>3.72</td>\n",
       "      <td>...</td>\n",
       "      <td>31</td>\n",
       "      <td>62.00</td>\n",
       "      <td>73</td>\n",
       "      <td>2</td>\n",
       "      <td>7.49</td>\n",
       "      <td>&lt;a href=\"all_nt_aln/cluster211b_DNA.aln.txt\"&gt;D...</td>\n",
       "      <td>&lt;a href=\"all_aa_aln/cluster211b_AA.aln.txt\"&gt;AA...</td>\n",
       "      <td>&lt;a href=\"rnacode_all/cluster211b_eps/hss-0.eps...</td>\n",
       "      <td>211b</td>\n",
       "      <td>feces</td>\n",
       "    </tr>\n",
       "    <tr>\n",
       "      <th>3</th>\n",
       "      <td>562</td>\n",
       "      <td>7</td>\n",
       "      <td>9</td>\n",
       "      <td>39.417</td>\n",
       "      <td>1.60</td>\n",
       "      <td>4.592e–07</td>\n",
       "      <td>61</td>\n",
       "      <td>1.79</td>\n",
       "      <td>hi</td>\n",
       "      <td>3.78</td>\n",
       "      <td>...</td>\n",
       "      <td>29</td>\n",
       "      <td>49.57</td>\n",
       "      <td>59</td>\n",
       "      <td>8</td>\n",
       "      <td>7.39</td>\n",
       "      <td>&lt;a href=\"all_nt_aln/cluster562_DNA.aln.txt\"&gt;DN...</td>\n",
       "      <td>&lt;a href=\"all_aa_aln/cluster562_AA.aln.txt\"&gt;AA&lt;/a&gt;</td>\n",
       "      <td>&lt;a href=\"rnacode_all/cluster562_eps/hss-0.eps\"...</td>\n",
       "      <td>562</td>\n",
       "      <td>CSF,serum</td>\n",
       "    </tr>\n",
       "    <tr>\n",
       "      <th>4</th>\n",
       "      <td>297a</td>\n",
       "      <td>5</td>\n",
       "      <td>14</td>\n",
       "      <td>26.891</td>\n",
       "      <td>1.43</td>\n",
       "      <td>0.001</td>\n",
       "      <td>106</td>\n",
       "      <td>2.03</td>\n",
       "      <td>hi</td>\n",
       "      <td>3.90</td>\n",
       "      <td>...</td>\n",
       "      <td>59</td>\n",
       "      <td>96.60</td>\n",
       "      <td>106</td>\n",
       "      <td>8</td>\n",
       "      <td>7.38</td>\n",
       "      <td>&lt;a href=\"all_nt_aln/cluster297a_DNA.aln.txt\"&gt;D...</td>\n",
       "      <td>&lt;a href=\"all_aa_aln/cluster297a_AA.aln.txt\"&gt;AA...</td>\n",
       "      <td>&lt;a href=\"rnacode_all/cluster297a_eps/hss-0.eps...</td>\n",
       "      <td>297a</td>\n",
       "      <td>feces</td>\n",
       "    </tr>\n",
       "  </tbody>\n",
       "</table>\n",
       "<p>5 rows × 23 columns</p>\n",
       "</div>"
      ],
      "text/plain": [
       "  Cluster  # nr seqs  # raw seqs   Score  log RNAcode score          P  \\\n",
       "0    1217          6           6  41.974               1.62  7.704e–10   \n",
       "1    339b          7          11  33.153               1.52  1.069e–06   \n",
       "2    211b          7          22  42.949               1.63  3.364e–14   \n",
       "3     562          7           9  39.417               1.60  4.592e–07   \n",
       "4    297a          5          14  26.891               1.43      0.001   \n",
       "\n",
       "   ORF length (aa)  log ORF length complexity   min      ...       min.1  \\\n",
       "0               91            1.96         hi  3.79      ...          38   \n",
       "1              110            2.04         hi  3.89      ...          63   \n",
       "2               80            1.90         hi  3.72      ...          31   \n",
       "3               61            1.79         hi  3.78      ...          29   \n",
       "4              106            2.03         hi  3.90      ...          59   \n",
       "\n",
       "   avg.1  max.1  # seqs with max length  composite score  \\\n",
       "0  73.67     87                       2             7.57   \n",
       "1  79.14    106                       2             7.52   \n",
       "2  62.00     73                       2             7.49   \n",
       "3  49.57     59                       8             7.39   \n",
       "4  96.60    106                       8             7.38   \n",
       "\n",
       "                                       DNA alignment  \\\n",
       "0  <a href=\"all_nt_aln/cluster1217_DNA.aln.txt\">D...   \n",
       "1  <a href=\"all_nt_aln/cluster339b_DNA.aln.txt\">D...   \n",
       "2  <a href=\"all_nt_aln/cluster211b_DNA.aln.txt\">D...   \n",
       "3  <a href=\"all_nt_aln/cluster562_DNA.aln.txt\">DN...   \n",
       "4  <a href=\"all_nt_aln/cluster297a_DNA.aln.txt\">D...   \n",
       "\n",
       "                                   protein alignment  \\\n",
       "0  <a href=\"all_aa_aln/cluster1217_AA.aln.txt\">AA...   \n",
       "1  <a href=\"all_aa_aln/cluster339b_AA.aln.txt\">AA...   \n",
       "2  <a href=\"all_aa_aln/cluster211b_AA.aln.txt\">AA...   \n",
       "3  <a href=\"all_aa_aln/cluster562_AA.aln.txt\">AA</a>   \n",
       "4  <a href=\"all_aa_aln/cluster297a_AA.aln.txt\">AA...   \n",
       "\n",
       "                                      RNAcode figure cluster_id sample_origin  \n",
       "0  <a href=\"rnacode_all/cluster1217_eps/hss-0.eps...       1217         feces  \n",
       "1  <a href=\"rnacode_all/cluster339b_eps/hss-0.eps...       339b         feces  \n",
       "2  <a href=\"rnacode_all/cluster211b_eps/hss-0.eps...       211b         feces  \n",
       "3  <a href=\"rnacode_all/cluster562_eps/hss-0.eps\"...        562     CSF,serum  \n",
       "4  <a href=\"rnacode_all/cluster297a_eps/hss-0.eps...       297a         feces  \n",
       "\n",
       "[5 rows x 23 columns]"
      ]
     },
     "execution_count": 5,
     "metadata": {},
     "output_type": "execute_result"
    }
   ],
   "source": [
    "print(clusters.shape)\n",
    "clusters.head()"
   ]
  },
  {
   "cell_type": "markdown",
   "metadata": {},
   "source": [
    "# Stats"
   ]
  },
  {
   "cell_type": "markdown",
   "metadata": {},
   "source": [
    "## Hits per cluster"
   ]
  },
  {
   "cell_type": "code",
   "execution_count": 8,
   "metadata": {
    "collapsed": false
   },
   "outputs": [
    {
     "name": "stdout",
     "output_type": "stream",
     "text": [
      "Cluster families with no annotation: 3\n"
     ]
    }
   ],
   "source": [
    "tmp = [(cluster,hits.shape[0],\";\".join(hits.db)) for cluster,hits in ( all_filt_hits[[\"cluster\",\"db\"]].drop_duplicates().groupby(\"cluster\") )]\n",
    "hits_x_cluster = pd.DataFrame.from_records(tmp,columns=[\"cluster\",\"db_hit_count\",\"dbs\"])\n",
    "print(\"Cluster families with no annotation: {}\".format(clusters.shape[0]-hits_x_cluster.shape[0]))\n",
    "hits_x_cluster = hits_x_cluster.merge(clusters,left_on=\"cluster\",right_on=\"Cluster\")[[\"cluster\",\"db_hit_count\",\"dbs\",\"sample_origin\"]]\n",
    "hits_x_cluster.sort_values(by=\"db_hit_count\",ascending=False).head()\n",
    "hits_x_cluster.to_csv(\"hits_per_cluster.csv\",index=False)"
   ]
  },
  {
   "cell_type": "markdown",
   "metadata": {},
   "source": [
    "## Hits per database"
   ]
  },
  {
   "cell_type": "code",
   "execution_count": 7,
   "metadata": {
    "collapsed": false
   },
   "outputs": [
    {
     "data": {
      "text/html": [
       "<div>\n",
       "<table border=\"1\" class=\"dataframe\">\n",
       "  <thead>\n",
       "    <tr style=\"text-align: right;\">\n",
       "      <th></th>\n",
       "      <th>cluster</th>\n",
       "    </tr>\n",
       "    <tr>\n",
       "      <th>db</th>\n",
       "      <th></th>\n",
       "    </tr>\n",
       "  </thead>\n",
       "  <tbody>\n",
       "    <tr>\n",
       "      <th>env_nr</th>\n",
       "      <td>2</td>\n",
       "    </tr>\n",
       "    <tr>\n",
       "      <th>env_nt</th>\n",
       "      <td>26</td>\n",
       "    </tr>\n",
       "    <tr>\n",
       "      <th>hmp_pep</th>\n",
       "      <td>1</td>\n",
       "    </tr>\n",
       "    <tr>\n",
       "      <th>metahit_cds</th>\n",
       "      <td>18</td>\n",
       "    </tr>\n",
       "    <tr>\n",
       "      <th>metahit_pep</th>\n",
       "      <td>22</td>\n",
       "    </tr>\n",
       "    <tr>\n",
       "      <th>nr</th>\n",
       "      <td>4</td>\n",
       "    </tr>\n",
       "  </tbody>\n",
       "</table>\n",
       "</div>"
      ],
      "text/plain": [
       "             cluster\n",
       "db                  \n",
       "env_nr             2\n",
       "env_nt            26\n",
       "hmp_pep            1\n",
       "metahit_cds       18\n",
       "metahit_pep       22\n",
       "nr                 4"
      ]
     },
     "execution_count": 7,
     "metadata": {},
     "output_type": "execute_result"
    }
   ],
   "source": [
    "all_filt_hits[[\"cluster\",\"db\"]].drop_duplicates().groupby(\"db\").count()"
   ]
  },
  {
   "cell_type": "code",
   "execution_count": 23,
   "metadata": {
    "collapsed": false
   },
   "outputs": [],
   "source": [
    "metahit_cds_list = set(all_filt_hits[all_filt_hits.db == \"metahit_cds\"][\"cluster\"].drop_duplicates().tolist())\n",
    "metahit_pep_list = set(all_filt_hits[all_filt_hits.db == \"metahit_pep\"][\"cluster\"].drop_duplicates().tolist())\n",
    "env_nt_list = set(all_filt_hits[all_filt_hits.db == \"env_nt\"][\"cluster\"].drop_duplicates().tolist())"
   ]
  },
  {
   "cell_type": "code",
   "execution_count": 31,
   "metadata": {
    "collapsed": false
   },
   "outputs": [
    {
     "name": "stdout",
     "output_type": "stream",
     "text": [
      "241a\n",
      "540\n",
      "1073\n",
      "348\n",
      "211b\n",
      "457\n",
      "612a\n",
      "339b\n",
      "182a\n",
      "211a\n",
      "532\n",
      "258\n",
      "321b\n",
      "1217\n",
      "297a\n",
      "406b\n",
      "589\n",
      "787b\n",
      "182b\n",
      "179b\n",
      "297b\n",
      "179a\n",
      "241b\n",
      "502\n",
      "375a\n",
      "113b\n"
     ]
    }
   ],
   "source": [
    "for x in env_nt_list:\n",
    "    print(x)"
   ]
  },
  {
   "cell_type": "code",
   "execution_count": null,
   "metadata": {
    "collapsed": true
   },
   "outputs": [],
   "source": []
  }
 ],
 "metadata": {
  "kernelspec": {
   "display_name": "Python 3",
   "language": "python",
   "name": "python3"
  },
  "language_info": {
   "codemirror_mode": {
    "name": "ipython",
    "version": 3
   },
   "file_extension": ".py",
   "mimetype": "text/x-python",
   "name": "python",
   "nbconvert_exporter": "python",
   "pygments_lexer": "ipython3",
   "version": "3.5.1"
  }
 },
 "nbformat": 4,
 "nbformat_minor": 0
}

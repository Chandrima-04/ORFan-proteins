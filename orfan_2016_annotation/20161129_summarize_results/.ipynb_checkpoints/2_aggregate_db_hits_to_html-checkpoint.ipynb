{
 "cells": [
  {
   "cell_type": "code",
   "execution_count": 1,
   "metadata": {
    "collapsed": false
   },
   "outputs": [],
   "source": [
    "import glob\n",
    "import re\n",
    "from collections import defaultdict\n",
    "from bs4 import BeautifulSoup\n",
    "import pandas as pd"
   ]
  },
  {
   "cell_type": "code",
   "execution_count": 2,
   "metadata": {
    "collapsed": false
   },
   "outputs": [],
   "source": [
    "filename_regex = re.compile(r\"cluster(.+?)_(?P<tool>.+?)_vs_(?P<db>.+)\\.tsv\")\n",
    "e_value_threshold = 0.001"
   ]
  },
  {
   "cell_type": "code",
   "execution_count": 3,
   "metadata": {
    "collapsed": false,
    "scrolled": true
   },
   "outputs": [],
   "source": [
    "def parse_blast_results(folder):\n",
    "    blast_results = {}\n",
    "    for tsv_file in glob.glob(\"{}/*.tsv\".format(folder)):\n",
    "        cluster,tool,db = filename_regex.search(tsv_file).groups()\n",
    "        min_eval = 3\n",
    "        #Parse blast tabular results and get smaller e-value of all seqs in a cluster\n",
    "        with open(tsv_file, \"r\" ) as tsv_fh:\n",
    "            for line in tsv_fh:\n",
    "                min_eval = min(min_eval, float(line.split(\"\\t\")[10])  )\n",
    "        #Store \n",
    "        blast_results[cluster] = ( (min_eval if min_eval <= e_value_threshold else \"-\",\n",
    "                                    tsv_file.replace(\".tsv\",\".html\")))\n",
    "    return blast_results"
   ]
  },
  {
   "cell_type": "code",
   "execution_count": 4,
   "metadata": {
    "collapsed": true
   },
   "outputs": [],
   "source": [
    "def parse_hmmer_results(folder):\n",
    "    hmmer_results = {}\n",
    "    for tsv_file in glob.glob(\"{}/*.tsv\".format(folder)):\n",
    "        cluster,tool,db = filename_regex.search(tsv_file).groups()\n",
    "        min_eval = 3\n",
    "        #Parse hmmer fixed col results and get smaller e-value of all seqs in a cluster\n",
    "        with open(tsv_file, \"r\" ) as tsv_fh:\n",
    "            for line in tsv_fh:\n",
    "                if not line.startswith(\"#\") and len(line) > 1:\n",
    "                    min_eval = min(min_eval, float(re.split(\" +\",line,maxsplit=9)[7])  )\n",
    "        #Store \n",
    "        hmmer_results[cluster] = ( (min_eval if min_eval <= e_value_threshold else \"-\",\n",
    "                                    tsv_file.replace(\".tsv\",\".txt\")))\n",
    "    return hmmer_results"
   ]
  },
  {
   "cell_type": "markdown",
   "metadata": {},
   "source": [
    "## Parse pipeline stats from html"
   ]
  },
  {
   "cell_type": "code",
   "execution_count": 5,
   "metadata": {
    "collapsed": false
   },
   "outputs": [
    {
     "data": {
      "text/html": [
       "<div>\n",
       "<table border=\"1\" class=\"dataframe\">\n",
       "  <thead>\n",
       "    <tr style=\"text-align: right;\">\n",
       "      <th></th>\n",
       "      <th>ORF length (aa)</th>\n",
       "      <th>composite score</th>\n",
       "    </tr>\n",
       "    <tr>\n",
       "      <th>Cluster</th>\n",
       "      <th></th>\n",
       "      <th></th>\n",
       "    </tr>\n",
       "  </thead>\n",
       "  <tbody>\n",
       "    <tr>\n",
       "      <th>1217</th>\n",
       "      <td>91</td>\n",
       "      <td>7.57</td>\n",
       "    </tr>\n",
       "    <tr>\n",
       "      <th>339b</th>\n",
       "      <td>110</td>\n",
       "      <td>7.52</td>\n",
       "    </tr>\n",
       "    <tr>\n",
       "      <th>211b</th>\n",
       "      <td>80</td>\n",
       "      <td>7.49</td>\n",
       "    </tr>\n",
       "    <tr>\n",
       "      <th>562</th>\n",
       "      <td>61</td>\n",
       "      <td>7.39</td>\n",
       "    </tr>\n",
       "    <tr>\n",
       "      <th>297a</th>\n",
       "      <td>106</td>\n",
       "      <td>7.38</td>\n",
       "    </tr>\n",
       "  </tbody>\n",
       "</table>\n",
       "</div>"
      ],
      "text/plain": [
       "        ORF length (aa) composite score\n",
       "Cluster                                \n",
       "1217                 91            7.57\n",
       "339b                110            7.52\n",
       "211b                 80            7.49\n",
       "562                  61            7.39\n",
       "297a                106            7.38"
      ]
     },
     "execution_count": 5,
     "metadata": {},
     "output_type": "execute_result"
    }
   ],
   "source": [
    "soup = BeautifulSoup(open(\"orfan_metrics/summary_all_20111209.html\"), 'html.parser')\n",
    "#Extract header\n",
    "header = [str(x.string) for x in soup.findAll(\"thead\")[0].findAll(\"tr\")[1].findAll(\"th\")][:-4]\n",
    "#Extract values\n",
    "rows = [ tuple(str(element.contents[0]) for element in row.findAll(\"td\")[:-4]) for row in soup.findAll(\"tr\") ]\n",
    "#Summarize data in pandas dataframe\n",
    "df = pd.DataFrame.from_records(rows[2:], columns=header)\n",
    "df.index = df[\"Cluster\"]\n",
    "df = df.sort_values(by =\"composite score\",ascending=False)\n",
    "#Subset columns\n",
    "orfan_metrics = df[[\"ORF length (aa)\",\"composite score\"]]\n",
    "orfan_metrics.head()"
   ]
  },
  {
   "cell_type": "markdown",
   "metadata": {},
   "source": [
    "## Parse blast and hmmer results"
   ]
  },
  {
   "cell_type": "code",
   "execution_count": 6,
   "metadata": {
    "collapsed": false
   },
   "outputs": [
    {
     "name": "stdout",
     "output_type": "stream",
     "text": [
      "('blastn_vs_hmp_nuc', 32)\n",
      "('hmmer_vs_env_nr', 32)\n",
      "('hmmer_vs_metahit_2014_pep', 32)\n",
      "('blastn_vs_metahit_2014_cds', 32)\n",
      "('hmmer_vs_hmp_pep', 32)\n",
      "('blastn_vs_env_nt', 32)\n",
      "('hmmer_vs_nr', 32)\n",
      "('blastp_vs_metahit_2014_pep', 32)\n",
      "('blastn_vs_nt', 32)\n",
      "('blastp_vs_nr', 32)\n",
      "('blastp_vs_env_nr', 32)\n",
      "('blastp_vs_hmp_pep', 32)\n"
     ]
    }
   ],
   "source": [
    "blast_results = {\n",
    "    \"blastn_vs_nt\":parse_blast_results(\"../1_run_db_searches/blast_160427/blastn_vs_nt\"),\n",
    "    \"blastn_vs_env_nt\":parse_blast_results(\"../1_run_db_searches/blast_160427/blastn_vs_env_nt\"),\n",
    "    \"blastn_vs_hmp_nuc\":parse_blast_results(\"../1_run_db_searches/blast_160427/blastn_vs_hmp_nuc\"),\n",
    "#    \"blastn_vs_metahit_cds\":parse_blast_results(\"blast_160427/blastn_vs_metahit_cds\"),\n",
    "    \"blastn_vs_metahit_2014_cds\":parse_blast_results(\"../1_run_db_searches/metahit_2014_160620/blastn_vs_metahit_2014_cds/\"),\n",
    "    \"blastp_vs_nr\":parse_blast_results(\"../1_run_db_searches/blast_160427/blastp_vs_nr\"),\n",
    "    \"blastp_vs_env_nr\":parse_blast_results(\"../1_run_db_searches/blast_160427/blastp_vs_env_nr\"),\n",
    "    \"blastp_vs_hmp_pep\":parse_blast_results(\"../1_run_db_searches/blast_160427/blastp_vs_hmp_pep\"),\n",
    "#    \"blastp_vs_metahit_pep\":parse_blast_results(\"blast_160427/blastp_vs_metahit_pep\"),\n",
    "    \"blastp_vs_metahit_2014_pep\":parse_blast_results(\"../1_run_db_searches/metahit_2014_160620/blastp_vs_metahit_2014_pep/\"),\n",
    "    \"hmmer_vs_nr\":parse_hmmer_results(\"../1_run_db_searches/hmmer_160324/hmmer_vs_nr\"),\n",
    "    \"hmmer_vs_env_nr\":parse_hmmer_results(\"../1_run_db_searches/hmmer_160324/hmmer_vs_env_nr\"),\n",
    "    \"hmmer_vs_hmp_pep\":parse_hmmer_results(\"../1_run_db_searches/hmmer_160324/hmmer_vs_hmp_pep\"),\n",
    "#    \"hmmer_vs_metahit_pep\":parse_hmmer_results(\"hmmer_160324/hmmer_vs_metahit_pep\"),\n",
    "    \"hmmer_vs_metahit_2014_pep\":parse_hmmer_results(\"../1_run_db_searches/metahit_2014_160620/hmmer_vs_metahit_2014_pep/\")\n",
    "}\n",
    "\n",
    "#Verify all searches have the same number of clusters\n",
    "print(\"\\n\".join([str((x,len(blast_results[x]))) for x in blast_results]))\n",
    "\n",
    "#cluster_names = [x for x in blast_results[\"blastn_vs_nt\"]]\n",
    "cluster_names = [x for x in blast_results[\"blastn_vs_hmp_nuc\"]]"
   ]
  },
  {
   "cell_type": "code",
   "execution_count": 7,
   "metadata": {
    "collapsed": false
   },
   "outputs": [],
   "source": [
    "import yattag"
   ]
  },
  {
   "cell_type": "code",
   "execution_count": 8,
   "metadata": {
    "collapsed": false
   },
   "outputs": [],
   "source": [
    "doc, tag, text = yattag.Doc().tagtext()\n",
    "with tag(\"html\"):\n",
    "    with tag(\"head\"):\n",
    "        with tag(\"title\"):\n",
    "            text(\"Blast result summary\")\n",
    "        doc.stag(\"link\",rel=\"stylesheet\",href=\"summaryreport.css\")\n",
    "\n",
    "    with tag(\"body\"):\n",
    "        with tag(\"table\"):\n",
    "            with tag(\"thead\"):\n",
    "                with tag(\"tr\"):\n",
    "                    for header in [\"Cluster\",\"orf length(aa)\",\"composite score\"]+ sorted(blast_results):\n",
    "                        with tag(\"th\"):\n",
    "                            text(\" vs \".join(header.split(\"_vs_\")))\n",
    "            with tag(\"tbody\"):\n",
    "                for cluster,cluster_stats in orfan_metrics.iterrows():\n",
    "                    with tag(\"tr\"):\n",
    "                        with tag(\"td\"):\n",
    "                            text(cluster)\n",
    "                        for stat in cluster_stats:\n",
    "                            with tag(\"td\"):\n",
    "                                text(stat)\n",
    "                        for search in sorted(blast_results):\n",
    "                            with tag(\"td\"):\n",
    "                                with tag(\"a\",href=blast_results[search][cluster][1]):\n",
    "                                    text(blast_results[search][cluster][0])"
   ]
  },
  {
   "cell_type": "code",
   "execution_count": 9,
   "metadata": {
    "collapsed": false
   },
   "outputs": [],
   "source": [
    "!mkdir -p 2_out\n",
    "!cp summaryreport.css 2_out\n",
    "with open(\"2_out/db_search_summary.html\",\"w\") as out_fh:\n",
    "    out_fh.write(yattag.indent(doc.getvalue()))"
   ]
  },
  {
   "cell_type": "code",
   "execution_count": null,
   "metadata": {
    "collapsed": true
   },
   "outputs": [],
   "source": []
  }
 ],
 "metadata": {
  "kernelspec": {
   "display_name": "Python 3",
   "language": "python",
   "name": "python3"
  },
  "language_info": {
   "codemirror_mode": {
    "name": "ipython",
    "version": 3
   },
   "file_extension": ".py",
   "mimetype": "text/x-python",
   "name": "python",
   "nbconvert_exporter": "python",
   "pygments_lexer": "ipython3",
   "version": "3.5.1"
  }
 },
 "nbformat": 4,
 "nbformat_minor": 0
}

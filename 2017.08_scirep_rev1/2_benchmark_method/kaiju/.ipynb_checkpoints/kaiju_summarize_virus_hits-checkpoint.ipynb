{
 "cells": [
  {
   "cell_type": "code",
   "execution_count": 1,
   "metadata": {
    "collapsed": false
   },
   "outputs": [
    {
     "name": "stdout",
     "output_type": "stream",
     "text": [
      "C\tFTSPZO101CHNQ7\t196894\tViruses; Siphoviridae; NA; \r\n",
      "C\tDBA-SLE_c5570\t1341019\tViruses; Parvoviridae; Parvovirus NIH-CQV; \r\n",
      "C\tGB3LKKR01ED1RA\t1792245\tViruses; Myoviridae; Bacillus virus Deepblue; \r\n",
      "C\tGB3LKKR01DUZ77\t948870\tViruses; Myoviridae; Enterobacteria phage phi92; \r\n",
      "C\tFTSPZO101E24BN\t1608451\tViruses; NA; Phytophthora parasitica virus; \r\n",
      "C\tFTSPZO101CESZR\t1685734\tViruses; NA; Lake Sarah-associated circular molecule 9; \r\n",
      "C\tis_serum_s3990\t1608451\tViruses; NA; Phytophthora parasitica virus; \r\n",
      "C\tGB3LKKR01D8JD7\t1655645\tViruses; Microviridae; Parabacteroides phage YZ-2015b; \r\n",
      "C\tFS22EC101DGI0A\t1458716\tViruses; Podoviridae; Vibrio phage CHOED; \r\n",
      "C\tGB3LKKR01A2IV8\t1655645\tViruses; Microviridae; Parabacteroides phage YZ-2015b; \r\n"
     ]
    }
   ],
   "source": [
    "!head 454_seqs_kaiju.names.virus.txt"
   ]
  },
  {
   "cell_type": "code",
   "execution_count": 2,
   "metadata": {
    "collapsed": false
   },
   "outputs": [],
   "source": [
    "%matplotlib inline\n",
    "import pandas as pd\n",
    "import seaborn as sns\n",
    "import editdistance\n",
    "import itertools"
   ]
  },
  {
   "cell_type": "code",
   "execution_count": 3,
   "metadata": {
    "collapsed": false
   },
   "outputs": [
    {
     "data": {
      "text/html": [
       "<div>\n",
       "<table border=\"1\" class=\"dataframe\">\n",
       "  <thead>\n",
       "    <tr style=\"text-align: right;\">\n",
       "      <th></th>\n",
       "      <th>family</th>\n",
       "      <th>species</th>\n",
       "    </tr>\n",
       "  </thead>\n",
       "  <tbody>\n",
       "    <tr>\n",
       "      <th>0</th>\n",
       "      <td>Siphoviridae</td>\n",
       "      <td>NA</td>\n",
       "    </tr>\n",
       "    <tr>\n",
       "      <th>1</th>\n",
       "      <td>Parvoviridae</td>\n",
       "      <td>Parvovirus NIH-CQV</td>\n",
       "    </tr>\n",
       "    <tr>\n",
       "      <th>2</th>\n",
       "      <td>Myoviridae</td>\n",
       "      <td>Bacillus virus Deepblue</td>\n",
       "    </tr>\n",
       "    <tr>\n",
       "      <th>3</th>\n",
       "      <td>Myoviridae</td>\n",
       "      <td>Enterobacteria phage phi92</td>\n",
       "    </tr>\n",
       "    <tr>\n",
       "      <th>4</th>\n",
       "      <td>NA</td>\n",
       "      <td>Phytophthora parasitica virus</td>\n",
       "    </tr>\n",
       "  </tbody>\n",
       "</table>\n",
       "</div>"
      ],
      "text/plain": [
       "         family                        species\n",
       "0  Siphoviridae                             NA\n",
       "1  Parvoviridae             Parvovirus NIH-CQV\n",
       "2    Myoviridae        Bacillus virus Deepblue\n",
       "3    Myoviridae     Enterobacteria phage phi92\n",
       "4            NA  Phytophthora parasitica virus"
      ]
     },
     "execution_count": 3,
     "metadata": {},
     "output_type": "execute_result"
    }
   ],
   "source": [
    "#The file stores the annotation for each read with some Virus annotation\n",
    "viruses = []\n",
    "with open(\"454_seqs_kaiju.names.virus.txt\") as fh:\n",
    "    for line in fh:\n",
    "        viruses.append([x.rstrip(\" \\t\").lstrip(\" \\t\") for x in line.rstrip(\"\\n\").split(\";\")[1:-1]])\n",
    "        \n",
    "read_annot = pd.DataFrame.from_records(viruses,columns=[\"family\",\"species\"])\n",
    "read_annot.head()"
   ]
  },
  {
   "cell_type": "code",
   "execution_count": 4,
   "metadata": {
    "collapsed": false
   },
   "outputs": [
    {
     "data": {
      "text/html": [
       "<div>\n",
       "<table border=\"1\" class=\"dataframe\">\n",
       "  <thead>\n",
       "    <tr style=\"text-align: right;\">\n",
       "      <th></th>\n",
       "      <th>family</th>\n",
       "      <th>species</th>\n",
       "      <th>species_fillna</th>\n",
       "    </tr>\n",
       "  </thead>\n",
       "  <tbody>\n",
       "    <tr>\n",
       "      <th>0</th>\n",
       "      <td>Siphoviridae</td>\n",
       "      <td>NA</td>\n",
       "      <td>unclassified Siphoviridae</td>\n",
       "    </tr>\n",
       "    <tr>\n",
       "      <th>1</th>\n",
       "      <td>Parvoviridae</td>\n",
       "      <td>Parvovirus NIH-CQV</td>\n",
       "      <td>Parvovirus NIH-CQV</td>\n",
       "    </tr>\n",
       "    <tr>\n",
       "      <th>2</th>\n",
       "      <td>Myoviridae</td>\n",
       "      <td>Bacillus virus Deepblue</td>\n",
       "      <td>Bacillus virus Deepblue</td>\n",
       "    </tr>\n",
       "    <tr>\n",
       "      <th>3</th>\n",
       "      <td>Myoviridae</td>\n",
       "      <td>Enterobacteria phage phi92</td>\n",
       "      <td>Enterobacteria phage phi92</td>\n",
       "    </tr>\n",
       "    <tr>\n",
       "      <th>4</th>\n",
       "      <td>NA</td>\n",
       "      <td>Phytophthora parasitica virus</td>\n",
       "      <td>Phytophthora parasitica virus</td>\n",
       "    </tr>\n",
       "  </tbody>\n",
       "</table>\n",
       "</div>"
      ],
      "text/plain": [
       "         family                        species                 species_fillna\n",
       "0  Siphoviridae                             NA      unclassified Siphoviridae\n",
       "1  Parvoviridae             Parvovirus NIH-CQV             Parvovirus NIH-CQV\n",
       "2    Myoviridae        Bacillus virus Deepblue        Bacillus virus Deepblue\n",
       "3    Myoviridae     Enterobacteria phage phi92     Enterobacteria phage phi92\n",
       "4            NA  Phytophthora parasitica virus  Phytophthora parasitica virus"
      ]
     },
     "execution_count": 4,
     "metadata": {},
     "output_type": "execute_result"
    }
   ],
   "source": [
    "read_annot[\"species_fillna\"] = read_annot.apply(lambda r: \"unclassified {}\".format(r[\"family\"]) if r[\"species\"] == \"NA\" else r[\"species\"],axis=1)\n",
    "read_annot.head()"
   ]
  },
  {
   "cell_type": "markdown",
   "metadata": {},
   "source": [
    "# Combine similar annotations into a single 'clade'\n",
    "\n",
    "E.g Enterobacteria phage phi92 and phi91 should be grouped"
   ]
  },
  {
   "cell_type": "code",
   "execution_count": 5,
   "metadata": {
    "collapsed": false
   },
   "outputs": [
    {
     "data": {
      "text/html": [
       "<div>\n",
       "<table border=\"1\" class=\"dataframe\">\n",
       "  <thead>\n",
       "    <tr style=\"text-align: right;\">\n",
       "      <th></th>\n",
       "      <th>sp1</th>\n",
       "      <th>sp2</th>\n",
       "      <th>edit_distance</th>\n",
       "      <th>similarity</th>\n",
       "    </tr>\n",
       "  </thead>\n",
       "  <tbody>\n",
       "    <tr>\n",
       "      <th>0</th>\n",
       "      <td>unclassified Siphoviridae</td>\n",
       "      <td>Parvovirus NIH-CQV</td>\n",
       "      <td>23</td>\n",
       "      <td>0.080000</td>\n",
       "    </tr>\n",
       "    <tr>\n",
       "      <th>1</th>\n",
       "      <td>unclassified Siphoviridae</td>\n",
       "      <td>Bacillus virus Deepblue</td>\n",
       "      <td>21</td>\n",
       "      <td>0.160000</td>\n",
       "    </tr>\n",
       "    <tr>\n",
       "      <th>2</th>\n",
       "      <td>unclassified Siphoviridae</td>\n",
       "      <td>Enterobacteria phage phi92</td>\n",
       "      <td>22</td>\n",
       "      <td>0.153846</td>\n",
       "    </tr>\n",
       "    <tr>\n",
       "      <th>3</th>\n",
       "      <td>unclassified Siphoviridae</td>\n",
       "      <td>Phytophthora parasitica virus</td>\n",
       "      <td>26</td>\n",
       "      <td>0.103448</td>\n",
       "    </tr>\n",
       "    <tr>\n",
       "      <th>4</th>\n",
       "      <td>unclassified Siphoviridae</td>\n",
       "      <td>Lake Sarah-associated circular molecule 9</td>\n",
       "      <td>31</td>\n",
       "      <td>0.243902</td>\n",
       "    </tr>\n",
       "  </tbody>\n",
       "</table>\n",
       "</div>"
      ],
      "text/plain": [
       "                         sp1                                        sp2  \\\n",
       "0  unclassified Siphoviridae                         Parvovirus NIH-CQV   \n",
       "1  unclassified Siphoviridae                    Bacillus virus Deepblue   \n",
       "2  unclassified Siphoviridae                 Enterobacteria phage phi92   \n",
       "3  unclassified Siphoviridae              Phytophthora parasitica virus   \n",
       "4  unclassified Siphoviridae  Lake Sarah-associated circular molecule 9   \n",
       "\n",
       "   edit_distance  similarity  \n",
       "0             23    0.080000  \n",
       "1             21    0.160000  \n",
       "2             22    0.153846  \n",
       "3             26    0.103448  \n",
       "4             31    0.243902  "
      ]
     },
     "execution_count": 5,
     "metadata": {},
     "output_type": "execute_result"
    }
   ],
   "source": [
    "editdist_sp = [ (sp1,sp2,editdistance.eval(sp1,sp2)) for sp1,sp2 in itertools.combinations(read_annot[\"species_fillna\"].unique(),2) ]\n",
    "editdist_df = pd.DataFrame.from_records(editdist_sp,columns=[\"sp1\",\"sp2\",\"edit_distance\"])\n",
    "editdist_df[\"similarity\"] = editdist_df.apply(lambda r: (max(len(r[\"sp1\"]),len(r[\"sp2\"]))-r[\"edit_distance\"])/ max(len(r[\"sp1\"]),len(r[\"sp2\"])),axis=1)\n",
    "editdist_df.head()"
   ]
  },
  {
   "cell_type": "code",
   "execution_count": 6,
   "metadata": {
    "collapsed": false
   },
   "outputs": [],
   "source": [
    "cluster_membership = {}\n",
    "clusters = []\n",
    "\n",
    "#Single linkage clustering\n",
    "for _,row in editdist_df[editdist_df.similarity > 0.65 ].sort_values(\"similarity\",ascending=False).iterrows():\n",
    "    if row[\"sp1\"] not in cluster_membership and row[\"sp2\"] not in cluster_membership:\n",
    "        #Create new cluster and add them both\n",
    "        clusters.append([row[\"sp1\"],row[\"sp2\"]])\n",
    "        cluster_membership[row[\"sp1\"]] = len(clusters)-1\n",
    "        cluster_membership[row[\"sp2\"]] = len(clusters)-1\n",
    "    elif row[\"sp1\"] in cluster_membership:\n",
    "        if row[\"sp2\"] not in cluster_membership:\n",
    "            #Add sp2 to sp1 cluster\n",
    "            clusters[cluster_membership[row[\"sp1\"]]].append(row[\"sp2\"])\n",
    "            cluster_membership[row[\"sp2\"]] = cluster_membership[row[\"sp1\"]]\n",
    "        else:\n",
    "            if cluster_membership[row[\"sp1\"]] != cluster_membership[row[\"sp2\"]]:\n",
    "                #Combine clusters!\n",
    "                c1_pos = cluster_membership[row[\"sp1\"]]\n",
    "                c2_pos = cluster_membership[row[\"sp2\"]]\n",
    "                clusters[c1_pos] += clusters[c2_pos]\n",
    "                for c in clusters[c2_pos]:\n",
    "                    cluster_membership[c] = c1_pos\n",
    "                clusters[c2_pos] = None\n",
    "    else:\n",
    "        #Row 2 is in cluster and row1 is not\n",
    "        clusters[cluster_membership[row[\"sp2\"]]].append(row[\"sp1\"])\n",
    "        cluster_membership[row[\"sp1\"]] = cluster_membership[row[\"sp2\"]]"
   ]
  },
  {
   "cell_type": "code",
   "execution_count": 7,
   "metadata": {
    "collapsed": false
   },
   "outputs": [],
   "source": [
    "cluster_names = [\";\".join(c) if c else None for c in clusters]"
   ]
  },
  {
   "cell_type": "markdown",
   "metadata": {},
   "source": [
    "# Use new clade groups"
   ]
  },
  {
   "cell_type": "code",
   "execution_count": 8,
   "metadata": {
    "collapsed": false
   },
   "outputs": [
    {
     "data": {
      "text/html": [
       "<div>\n",
       "<table border=\"1\" class=\"dataframe\">\n",
       "  <thead>\n",
       "    <tr style=\"text-align: right;\">\n",
       "      <th></th>\n",
       "      <th>species</th>\n",
       "      <th>read_count</th>\n",
       "    </tr>\n",
       "  </thead>\n",
       "  <tbody>\n",
       "    <tr>\n",
       "      <th>71</th>\n",
       "      <td>Parabacteroides phage YZ-2015b</td>\n",
       "      <td>134</td>\n",
       "    </tr>\n",
       "    <tr>\n",
       "      <th>49</th>\n",
       "      <td>Gokushovirinae Bog5712_52;Gokushovirinae Bog89...</td>\n",
       "      <td>105</td>\n",
       "    </tr>\n",
       "    <tr>\n",
       "      <th>41</th>\n",
       "      <td>Enterobacteria phage phi92</td>\n",
       "      <td>56</td>\n",
       "    </tr>\n",
       "    <tr>\n",
       "      <th>80</th>\n",
       "      <td>Phytophthora parasitica virus</td>\n",
       "      <td>55</td>\n",
       "    </tr>\n",
       "    <tr>\n",
       "      <th>73</th>\n",
       "      <td>Parvovirus NIH-CQV</td>\n",
       "      <td>43</td>\n",
       "    </tr>\n",
       "    <tr>\n",
       "      <th>132</th>\n",
       "      <td>uncultured crAssphage</td>\n",
       "      <td>43</td>\n",
       "    </tr>\n",
       "    <tr>\n",
       "      <th>131</th>\n",
       "      <td>unclassified Siphoviridae</td>\n",
       "      <td>36</td>\n",
       "    </tr>\n",
       "    <tr>\n",
       "      <th>126</th>\n",
       "      <td>unclassified NA</td>\n",
       "      <td>31</td>\n",
       "    </tr>\n",
       "    <tr>\n",
       "      <th>32</th>\n",
       "      <td>Croceibacter phage P2559Y</td>\n",
       "      <td>28</td>\n",
       "    </tr>\n",
       "    <tr>\n",
       "      <th>84</th>\n",
       "      <td>Pseudomonas phage PMG1;Pseudomonas phage PS-1;...</td>\n",
       "      <td>27</td>\n",
       "    </tr>\n",
       "    <tr>\n",
       "      <th>125</th>\n",
       "      <td>unclassified Myoviridae</td>\n",
       "      <td>27</td>\n",
       "    </tr>\n",
       "    <tr>\n",
       "      <th>112</th>\n",
       "      <td>Vibrio phage CHOED;Vibrio phage SIO-2;Vibrio p...</td>\n",
       "      <td>27</td>\n",
       "    </tr>\n",
       "    <tr>\n",
       "      <th>20</th>\n",
       "      <td>Burkholderia virus BcepF1</td>\n",
       "      <td>20</td>\n",
       "    </tr>\n",
       "    <tr>\n",
       "      <th>123</th>\n",
       "      <td>unclassified Microviridae</td>\n",
       "      <td>20</td>\n",
       "    </tr>\n",
       "    <tr>\n",
       "      <th>26</th>\n",
       "      <td>Chimpanzee faeces associated microphage 2;Chim...</td>\n",
       "      <td>18</td>\n",
       "    </tr>\n",
       "    <tr>\n",
       "      <th>105</th>\n",
       "      <td>Synechococcus phage S-CAM8;Synechococcus phage...</td>\n",
       "      <td>18</td>\n",
       "    </tr>\n",
       "    <tr>\n",
       "      <th>96</th>\n",
       "      <td>Sewage-associated gemycircularvirus 1;Sewage-a...</td>\n",
       "      <td>18</td>\n",
       "    </tr>\n",
       "    <tr>\n",
       "      <th>94</th>\n",
       "      <td>Salmonella virus SP31;Salmonella virus SPN1S;S...</td>\n",
       "      <td>15</td>\n",
       "    </tr>\n",
       "    <tr>\n",
       "      <th>24</th>\n",
       "      <td>Cellulophaga phage phi19:1;Cellulophaga phage ...</td>\n",
       "      <td>13</td>\n",
       "    </tr>\n",
       "    <tr>\n",
       "      <th>64</th>\n",
       "      <td>Mycobacterium phage Sparky;Mycobacterium phage...</td>\n",
       "      <td>12</td>\n",
       "    </tr>\n",
       "    <tr>\n",
       "      <th>9</th>\n",
       "      <td>Bacillus virus G;Bacillus virus GA1;Bacillus v...</td>\n",
       "      <td>11</td>\n",
       "    </tr>\n",
       "    <tr>\n",
       "      <th>129</th>\n",
       "      <td>unclassified Podoviridae</td>\n",
       "      <td>10</td>\n",
       "    </tr>\n",
       "    <tr>\n",
       "      <th>25</th>\n",
       "      <td>Changjiang sobemo-like virus 1</td>\n",
       "      <td>9</td>\n",
       "    </tr>\n",
       "    <tr>\n",
       "      <th>89</th>\n",
       "      <td>Rhizobium phage 16-3;Rhizobium phage RHEph10;R...</td>\n",
       "      <td>9</td>\n",
       "    </tr>\n",
       "    <tr>\n",
       "      <th>128</th>\n",
       "      <td>unclassified Phycodnaviridae</td>\n",
       "      <td>8</td>\n",
       "    </tr>\n",
       "    <tr>\n",
       "      <th>88</th>\n",
       "      <td>Rhinovirus A;Rhinovirus C;Rotavirus A</td>\n",
       "      <td>7</td>\n",
       "    </tr>\n",
       "    <tr>\n",
       "      <th>63</th>\n",
       "      <td>Microviridae Fen7940_21;Microviridae Fen7918_21</td>\n",
       "      <td>6</td>\n",
       "    </tr>\n",
       "    <tr>\n",
       "      <th>70</th>\n",
       "      <td>Pandoravirus dulcis;Pandoravirus salinus;Pando...</td>\n",
       "      <td>6</td>\n",
       "    </tr>\n",
       "    <tr>\n",
       "      <th>34</th>\n",
       "      <td>Cronobacter phage S13;Caulobacter phage Cr30;C...</td>\n",
       "      <td>5</td>\n",
       "    </tr>\n",
       "    <tr>\n",
       "      <th>62</th>\n",
       "      <td>Marine gokushovirus</td>\n",
       "      <td>4</td>\n",
       "    </tr>\n",
       "    <tr>\n",
       "      <th>45</th>\n",
       "      <td>Escherichia virus Rtp;Escherichia virus EC6;Es...</td>\n",
       "      <td>4</td>\n",
       "    </tr>\n",
       "    <tr>\n",
       "      <th>16</th>\n",
       "      <td>Brevibacillus phage Sundance</td>\n",
       "      <td>4</td>\n",
       "    </tr>\n",
       "    <tr>\n",
       "      <th>50</th>\n",
       "      <td>Gordonia phage GMA4;Gordonia phage GMA6;Gordon...</td>\n",
       "      <td>4</td>\n",
       "    </tr>\n",
       "    <tr>\n",
       "      <th>1</th>\n",
       "      <td>Acinetobacter phage phiAC-1;Acinetobacter phag...</td>\n",
       "      <td>4</td>\n",
       "    </tr>\n",
       "    <tr>\n",
       "      <th>90</th>\n",
       "      <td>Rhodococcus phage REQ2;Rhodococcus phage RRH1;...</td>\n",
       "      <td>4</td>\n",
       "    </tr>\n",
       "    <tr>\n",
       "      <th>86</th>\n",
       "      <td>Ralstonia phage RSK1;Ralstonia phage RSP15;Ral...</td>\n",
       "      <td>4</td>\n",
       "    </tr>\n",
       "    <tr>\n",
       "      <th>81</th>\n",
       "      <td>Podovirus Lau218</td>\n",
       "      <td>4</td>\n",
       "    </tr>\n",
       "    <tr>\n",
       "      <th>8</th>\n",
       "      <td>Bacillus phage BCD7;Bacillus phage vB_BhaS-171...</td>\n",
       "      <td>4</td>\n",
       "    </tr>\n",
       "    <tr>\n",
       "      <th>102</th>\n",
       "      <td>Streptomyces phage phiHau3</td>\n",
       "      <td>3</td>\n",
       "    </tr>\n",
       "    <tr>\n",
       "      <th>97</th>\n",
       "      <td>Shewanella sp. phage 1/40;Shewanella sp. phage...</td>\n",
       "      <td>3</td>\n",
       "    </tr>\n",
       "    <tr>\n",
       "      <th>114</th>\n",
       "      <td>Vibrio virus VC8;Vibrio virus nt1</td>\n",
       "      <td>3</td>\n",
       "    </tr>\n",
       "    <tr>\n",
       "      <th>44</th>\n",
       "      <td>Escherichia phage N4;Escherichia phage phAPEC8</td>\n",
       "      <td>3</td>\n",
       "    </tr>\n",
       "    <tr>\n",
       "      <th>3</th>\n",
       "      <td>Aeromonas phage pAh6-C;Aeromonas phage vB_AsaM...</td>\n",
       "      <td>3</td>\n",
       "    </tr>\n",
       "    <tr>\n",
       "      <th>65</th>\n",
       "      <td>Nitrincola phage 1M3-16</td>\n",
       "      <td>3</td>\n",
       "    </tr>\n",
       "  </tbody>\n",
       "</table>\n",
       "</div>"
      ],
      "text/plain": [
       "                                               species  read_count\n",
       "71                      Parabacteroides phage YZ-2015b         134\n",
       "49   Gokushovirinae Bog5712_52;Gokushovirinae Bog89...         105\n",
       "41                          Enterobacteria phage phi92          56\n",
       "80                       Phytophthora parasitica virus          55\n",
       "73                                  Parvovirus NIH-CQV          43\n",
       "132                              uncultured crAssphage          43\n",
       "131                          unclassified Siphoviridae          36\n",
       "126                                    unclassified NA          31\n",
       "32                           Croceibacter phage P2559Y          28\n",
       "84   Pseudomonas phage PMG1;Pseudomonas phage PS-1;...          27\n",
       "125                            unclassified Myoviridae          27\n",
       "112  Vibrio phage CHOED;Vibrio phage SIO-2;Vibrio p...          27\n",
       "20                           Burkholderia virus BcepF1          20\n",
       "123                          unclassified Microviridae          20\n",
       "26   Chimpanzee faeces associated microphage 2;Chim...          18\n",
       "105  Synechococcus phage S-CAM8;Synechococcus phage...          18\n",
       "96   Sewage-associated gemycircularvirus 1;Sewage-a...          18\n",
       "94   Salmonella virus SP31;Salmonella virus SPN1S;S...          15\n",
       "24   Cellulophaga phage phi19:1;Cellulophaga phage ...          13\n",
       "64   Mycobacterium phage Sparky;Mycobacterium phage...          12\n",
       "9    Bacillus virus G;Bacillus virus GA1;Bacillus v...          11\n",
       "129                           unclassified Podoviridae          10\n",
       "25                      Changjiang sobemo-like virus 1           9\n",
       "89   Rhizobium phage 16-3;Rhizobium phage RHEph10;R...           9\n",
       "128                       unclassified Phycodnaviridae           8\n",
       "88               Rhinovirus A;Rhinovirus C;Rotavirus A           7\n",
       "63     Microviridae Fen7940_21;Microviridae Fen7918_21           6\n",
       "70   Pandoravirus dulcis;Pandoravirus salinus;Pando...           6\n",
       "34   Cronobacter phage S13;Caulobacter phage Cr30;C...           5\n",
       "62                                 Marine gokushovirus           4\n",
       "45   Escherichia virus Rtp;Escherichia virus EC6;Es...           4\n",
       "16                        Brevibacillus phage Sundance           4\n",
       "50   Gordonia phage GMA4;Gordonia phage GMA6;Gordon...           4\n",
       "1    Acinetobacter phage phiAC-1;Acinetobacter phag...           4\n",
       "90   Rhodococcus phage REQ2;Rhodococcus phage RRH1;...           4\n",
       "86   Ralstonia phage RSK1;Ralstonia phage RSP15;Ral...           4\n",
       "81                                    Podovirus Lau218           4\n",
       "8    Bacillus phage BCD7;Bacillus phage vB_BhaS-171...           4\n",
       "102                         Streptomyces phage phiHau3           3\n",
       "97   Shewanella sp. phage 1/40;Shewanella sp. phage...           3\n",
       "114                  Vibrio virus VC8;Vibrio virus nt1           3\n",
       "44      Escherichia phage N4;Escherichia phage phAPEC8           3\n",
       "3    Aeromonas phage pAh6-C;Aeromonas phage vB_AsaM...           3\n",
       "65                             Nitrincola phage 1M3-16           3"
      ]
     },
     "execution_count": 8,
     "metadata": {},
     "output_type": "execute_result"
    }
   ],
   "source": [
    "read_annot[\"sp_group\"] = read_annot[\"species_fillna\"].apply(lambda x: cluster_names[cluster_membership[x]] if x in cluster_membership and \"unclassified\" not in x else x)\n",
    "df_counts = read_annot.groupby(\"sp_group\").size().reset_index()\n",
    "df_counts.columns = [\"species\",\"read_count\"]\n",
    "df_counts[df_counts.read_count >= 3].sort_values(\"read_count\",ascending=False)"
   ]
  },
  {
   "cell_type": "code",
   "execution_count": 9,
   "metadata": {
    "collapsed": false
   },
   "outputs": [
    {
     "data": {
      "text/plain": [
       "<matplotlib.axes._subplots.AxesSubplot at 0x116723668>"
      ]
     },
     "execution_count": 9,
     "metadata": {},
     "output_type": "execute_result"
    },
    {
     "data": {
      "image/png": "[encoded data removed]",
      "text/plain": [
       "<matplotlib.figure.Figure at 0x116155c88>"
      ]
     },
     "metadata": {},
     "output_type": "display_data"
    }
   ],
   "source": [
    "virus_count_histogram = df_counts[df_counts.read_count >= 3].groupby(\"read_count\").size().reset_index()\n",
    "sns.barplot(x=virus_count_histogram[\"read_count\"],y=virus_count_histogram[0])"
   ]
  },
  {
   "cell_type": "code",
   "execution_count": 12,
   "metadata": {
    "collapsed": false
   },
   "outputs": [],
   "source": [
    "df_counts[df_counts.read_count >= 3].sort_values(\"read_count\",ascending=False).to_csv(\"454_seqs_kaiju.filt_species.tsv\",sep=\"\\t\",index=False)"
   ]
  },
  {
   "cell_type": "code",
   "execution_count": 14,
   "metadata": {
    "collapsed": false
   },
   "outputs": [
    {
     "name": "stdout",
     "output_type": "stream",
     "text": [
      "454_seqs_kaiju.filt_species.tsv  454_seqs_kaiju.species.report\r\n",
      "454_seqs_kaiju.genus.report      454_seqs_kaiju.txt\r\n",
      "454_seqs_kaiju.names.txt         kaiju_summarize_virus_hits.ipynb\r\n",
      "454_seqs_kaiju.names.virus.txt   poophage_in_kaiju.ipynb\r\n",
      "454_seqs_kaiju.report            run_kaiju.sh\r\n"
     ]
    }
   ],
   "source": [
    "!ls"
   ]
  },
  {
   "cell_type": "code",
   "execution_count": null,
   "metadata": {
    "collapsed": true
   },
   "outputs": [],
   "source": []
  }
 ],
 "metadata": {
  "kernelspec": {
   "display_name": "Python 3",
   "language": "python",
   "name": "python3"
  },
  "language_info": {
   "codemirror_mode": {
    "name": "ipython",
    "version": 3
   },
   "file_extension": ".py",
   "mimetype": "text/x-python",
   "name": "python",
   "nbconvert_exporter": "python",
   "pygments_lexer": "ipython3",
   "version": "3.5.1"
  }
 },
 "nbformat": 4,
 "nbformat_minor": 0
}

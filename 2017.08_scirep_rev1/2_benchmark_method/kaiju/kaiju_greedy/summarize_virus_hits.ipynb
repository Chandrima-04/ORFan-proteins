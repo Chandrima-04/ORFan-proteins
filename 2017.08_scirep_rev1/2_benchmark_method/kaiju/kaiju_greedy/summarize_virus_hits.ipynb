{
 "cells": [
  {
   "cell_type": "code",
   "execution_count": 5,
   "metadata": {
    "collapsed": false
   },
   "outputs": [
    {
     "name": "stdout",
     "output_type": "stream",
     "text": [
      "C\tGB3LKKR02G3NXF\t1676182\tViruses; Microviridae; Chimpanzee faeces associated microphage 2; \r\n",
      "C\tDBA-SLE_c7530\t1341019\tViruses; Parvoviridae; Parvovirus NIH-CQV; \r\n",
      "C\tGB3LKKR01EYB8B\t948870\tViruses; Myoviridae; Enterobacteria phage phi92; \r\n",
      "C\tGB3LKKR01APWEG\t948870\tViruses; Myoviridae; Enterobacteria phage phi92; \r\n",
      "C\tDBA-SLE_c8413\t1341019\tViruses; Parvoviridae; Parvovirus NIH-CQV; \r\n",
      "C\tGB3LKKR02FN2AT\t1655645\tViruses; Microviridae; Parabacteroides phage YZ-2015b; \r\n",
      "C\tFCPU0RF01C5T43\t1676181\tViruses; Microviridae; Chimpanzee faeces associated microphage 1; \r\n",
      "C\tFC8LRL301DWCPC\t1341019\tViruses; Parvoviridae; Parvovirus NIH-CQV; \r\n",
      "C\tGB3LKKR01B4GKH\t948870\tViruses; Myoviridae; Enterobacteria phage phi92; \r\n",
      "C\tGB3LKKR02IBFSM\t1676182\tViruses; Microviridae; Chimpanzee faeces associated microphage 2; \r\n"
     ]
    }
   ],
   "source": [
    "!head 454_seqs_kaiju_greedy.names.virus.txt"
   ]
  },
  {
   "cell_type": "code",
   "execution_count": 6,
   "metadata": {
    "collapsed": false
   },
   "outputs": [
    {
     "name": "stderr",
     "output_type": "stream",
     "text": [
      "/home/maubar/anaconda/lib/python2.7/site-packages/matplotlib/font_manager.py:273: UserWarning: Matplotlib is building the font cache using fc-list. This may take a moment.\n",
      "  warnings.warn('Matplotlib is building the font cache using fc-list. This may take a moment.')\n"
     ]
    }
   ],
   "source": [
    "%matplotlib inline\n",
    "import pandas as pd\n",
    "import seaborn as sns"
   ]
  },
  {
   "cell_type": "code",
   "execution_count": 8,
   "metadata": {
    "collapsed": false
   },
   "outputs": [],
   "source": [
    "viruses = []\n",
    "with open(\"454_seqs_kaiju_greedy.names.virus.txt\") as fh:\n",
    "    for line in fh:\n",
    "        viruses.append(line.rstrip(\"\\n\").split(\";\")[1:-1])"
   ]
  },
  {
   "cell_type": "code",
   "execution_count": 9,
   "metadata": {
    "collapsed": false
   },
   "outputs": [
    {
     "data": {
      "text/html": [
       "<div>\n",
       "<table border=\"1\" class=\"dataframe\">\n",
       "  <thead>\n",
       "    <tr style=\"text-align: right;\">\n",
       "      <th></th>\n",
       "      <th>family</th>\n",
       "      <th>species</th>\n",
       "      <th>generic_sp</th>\n",
       "    </tr>\n",
       "  </thead>\n",
       "  <tbody>\n",
       "    <tr>\n",
       "      <th>0</th>\n",
       "      <td>Microviridae</td>\n",
       "      <td>Chimpanzee faeces associated microphage 2</td>\n",
       "      <td>Chimpanzee faeces associated microphage</td>\n",
       "    </tr>\n",
       "    <tr>\n",
       "      <th>1</th>\n",
       "      <td>Parvoviridae</td>\n",
       "      <td>Parvovirus NIH-CQV</td>\n",
       "      <td>Parvovirus</td>\n",
       "    </tr>\n",
       "    <tr>\n",
       "      <th>2</th>\n",
       "      <td>Myoviridae</td>\n",
       "      <td>Enterobacteria phage phi92</td>\n",
       "      <td>Enterobacteria phage</td>\n",
       "    </tr>\n",
       "    <tr>\n",
       "      <th>3</th>\n",
       "      <td>Myoviridae</td>\n",
       "      <td>Enterobacteria phage phi92</td>\n",
       "      <td>Enterobacteria phage</td>\n",
       "    </tr>\n",
       "    <tr>\n",
       "      <th>4</th>\n",
       "      <td>Parvoviridae</td>\n",
       "      <td>Parvovirus NIH-CQV</td>\n",
       "      <td>Parvovirus</td>\n",
       "    </tr>\n",
       "  </tbody>\n",
       "</table>\n",
       "</div>"
      ],
      "text/plain": [
       "          family                                     species  \\\n",
       "0   Microviridae   Chimpanzee faeces associated microphage 2   \n",
       "1   Parvoviridae                          Parvovirus NIH-CQV   \n",
       "2     Myoviridae                  Enterobacteria phage phi92   \n",
       "3     Myoviridae                  Enterobacteria phage phi92   \n",
       "4   Parvoviridae                          Parvovirus NIH-CQV   \n",
       "\n",
       "                                 generic_sp  \n",
       "0   Chimpanzee faeces associated microphage  \n",
       "1                                Parvovirus  \n",
       "2                      Enterobacteria phage  \n",
       "3                      Enterobacteria phage  \n",
       "4                                Parvovirus  "
      ]
     },
     "execution_count": 9,
     "metadata": {},
     "output_type": "execute_result"
    }
   ],
   "source": [
    "df = pd.DataFrame.from_records(viruses,columns=[\"family\",\"species\"])\n",
    "df[\"generic_sp\"] = df[\"species\"].apply(lambda x: x.rsplit(\" \",1)[0])\n",
    "df.head()"
   ]
  },
  {
   "cell_type": "code",
   "execution_count": 10,
   "metadata": {
    "collapsed": false
   },
   "outputs": [
    {
     "data": {
      "text/html": [
       "<div>\n",
       "<table border=\"1\" class=\"dataframe\">\n",
       "  <thead>\n",
       "    <tr style=\"text-align: right;\">\n",
       "      <th></th>\n",
       "      <th>family</th>\n",
       "      <th>species</th>\n",
       "      <th>read_count</th>\n",
       "    </tr>\n",
       "  </thead>\n",
       "  <tbody>\n",
       "    <tr>\n",
       "      <th>13</th>\n",
       "      <td>Myoviridae</td>\n",
       "      <td>Enterobacteria phage</td>\n",
       "      <td>52</td>\n",
       "    </tr>\n",
       "    <tr>\n",
       "      <th>26</th>\n",
       "      <td>NA</td>\n",
       "      <td>uncultured</td>\n",
       "      <td>34</td>\n",
       "    </tr>\n",
       "    <tr>\n",
       "      <th>8</th>\n",
       "      <td>Microviridae</td>\n",
       "      <td>Parabacteroides phage</td>\n",
       "      <td>24</td>\n",
       "    </tr>\n",
       "    <tr>\n",
       "      <th>22</th>\n",
       "      <td>NA</td>\n",
       "      <td>Phytophthora parasitica</td>\n",
       "      <td>18</td>\n",
       "    </tr>\n",
       "    <tr>\n",
       "      <th>27</th>\n",
       "      <td>Parvoviridae</td>\n",
       "      <td>Parvovirus</td>\n",
       "      <td>18</td>\n",
       "    </tr>\n",
       "    <tr>\n",
       "      <th>5</th>\n",
       "      <td>Microviridae</td>\n",
       "      <td>Gokushovirinae</td>\n",
       "      <td>10</td>\n",
       "    </tr>\n",
       "    <tr>\n",
       "      <th>3</th>\n",
       "      <td>Genomoviridae</td>\n",
       "      <td>Sewage-associated gemycircularvirus</td>\n",
       "      <td>4</td>\n",
       "    </tr>\n",
       "    <tr>\n",
       "      <th>4</th>\n",
       "      <td>Microviridae</td>\n",
       "      <td>Chimpanzee faeces associated microphage</td>\n",
       "      <td>4</td>\n",
       "    </tr>\n",
       "    <tr>\n",
       "      <th>19</th>\n",
       "      <td>NA</td>\n",
       "      <td></td>\n",
       "      <td>4</td>\n",
       "    </tr>\n",
       "    <tr>\n",
       "      <th>34</th>\n",
       "      <td>Siphoviridae</td>\n",
       "      <td>Salmonella virus</td>\n",
       "      <td>4</td>\n",
       "    </tr>\n",
       "    <tr>\n",
       "      <th>32</th>\n",
       "      <td>Siphoviridae</td>\n",
       "      <td>Pseudomonas virus</td>\n",
       "      <td>3</td>\n",
       "    </tr>\n",
       "    <tr>\n",
       "      <th>0</th>\n",
       "      <td>Anelloviridae</td>\n",
       "      <td>TTV-like mini</td>\n",
       "      <td>2</td>\n",
       "    </tr>\n",
       "    <tr>\n",
       "      <th>28</th>\n",
       "      <td>Siphoviridae</td>\n",
       "      <td></td>\n",
       "      <td>2</td>\n",
       "    </tr>\n",
       "    <tr>\n",
       "      <th>29</th>\n",
       "      <td>Siphoviridae</td>\n",
       "      <td>Croceibacter phage</td>\n",
       "      <td>2</td>\n",
       "    </tr>\n",
       "    <tr>\n",
       "      <th>33</th>\n",
       "      <td>Siphoviridae</td>\n",
       "      <td>Rhizobium phage</td>\n",
       "      <td>2</td>\n",
       "    </tr>\n",
       "  </tbody>\n",
       "</table>\n",
       "</div>"
      ],
      "text/plain": [
       "            family                                   species  read_count\n",
       "13      Myoviridae                      Enterobacteria phage          52\n",
       "26              NA                                uncultured          34\n",
       "8     Microviridae                     Parabacteroides phage          24\n",
       "22              NA                   Phytophthora parasitica          18\n",
       "27    Parvoviridae                                Parvovirus          18\n",
       "5     Microviridae                            Gokushovirinae          10\n",
       "3    Genomoviridae       Sewage-associated gemycircularvirus           4\n",
       "4     Microviridae   Chimpanzee faeces associated microphage           4\n",
       "19              NA                                                     4\n",
       "34    Siphoviridae                          Salmonella virus           4\n",
       "32    Siphoviridae                         Pseudomonas virus           3\n",
       "0    Anelloviridae                             TTV-like mini           2\n",
       "28    Siphoviridae                                                     2\n",
       "29    Siphoviridae                        Croceibacter phage           2\n",
       "33    Siphoviridae                           Rhizobium phage           2"
      ]
     },
     "execution_count": 10,
     "metadata": {},
     "output_type": "execute_result"
    }
   ],
   "source": [
    "df_counts = df.groupby([\"family\",\"generic_sp\"]).size().reset_index()\n",
    "df_counts.columns = [\"family\",\"species\",\"read_count\"]\n",
    "df_counts[df_counts.read_count > 1].sort_values(\"read_count\",ascending=False)\n",
    "#df_counts.reset_index()"
   ]
  },
  {
   "cell_type": "code",
   "execution_count": 48,
   "metadata": {
    "collapsed": false
   },
   "outputs": [],
   "source": [
    "virus_count_histogram = df_counts[df_counts.read_count > 1].groupby(\"read_count\").size().reset_index()"
   ]
  },
  {
   "cell_type": "code",
   "execution_count": 49,
   "metadata": {
    "collapsed": false
   },
   "outputs": [
    {
     "data": {
      "text/plain": [
       "<matplotlib.axes._subplots.AxesSubplot at 0x7f0cc77a9450>"
      ]
     },
     "execution_count": 49,
     "metadata": {},
     "output_type": "execute_result"
    },
    {
     "data": {
      "image/png": "[encoded data removed]",
      "text/plain": [
       "<matplotlib.figure.Figure at 0x7f0cc79d7650>"
      ]
     },
     "metadata": {},
     "output_type": "display_data"
    }
   ],
   "source": [
    "sns.barplot(x=virus_count_histogram[\"read_count\"],y=virus_count_histogram[0])"
   ]
  },
  {
   "cell_type": "code",
   "execution_count": null,
   "metadata": {
    "collapsed": true
   },
   "outputs": [],
   "source": []
  }
 ],
 "metadata": {
  "kernelspec": {
   "display_name": "Python 2",
   "language": "python",
   "name": "python2"
  },
  "language_info": {
   "codemirror_mode": {
    "name": "ipython",
    "version": 2
   },
   "file_extension": ".py",
   "mimetype": "text/x-python",
   "name": "python",
   "nbconvert_exporter": "python",
   "pygments_lexer": "ipython2",
   "version": "2.7.11"
  }
 },
 "nbformat": 4,
 "nbformat_minor": 0
}

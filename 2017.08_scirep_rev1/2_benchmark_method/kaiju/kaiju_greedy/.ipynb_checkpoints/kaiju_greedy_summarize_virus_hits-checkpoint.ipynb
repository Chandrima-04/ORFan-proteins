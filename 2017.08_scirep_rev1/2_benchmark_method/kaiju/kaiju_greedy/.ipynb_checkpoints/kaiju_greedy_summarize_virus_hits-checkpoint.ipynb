{
 "cells": [
  {
   "cell_type": "code",
   "execution_count": 2,
   "metadata": {
    "collapsed": false
   },
   "outputs": [
    {
     "name": "stdout",
     "output_type": "stream",
     "text": [
      "C\tGB3LKKR02G3NXF\t1676182\tViruses; Microviridae; Chimpanzee faeces associated microphage 2; \r\n",
      "C\tDBA-SLE_c7530\t1341019\tViruses; Parvoviridae; Parvovirus NIH-CQV; \r\n",
      "C\tGB3LKKR01EYB8B\t948870\tViruses; Myoviridae; Enterobacteria phage phi92; \r\n",
      "C\tGB3LKKR01APWEG\t948870\tViruses; Myoviridae; Enterobacteria phage phi92; \r\n",
      "C\tDBA-SLE_c8413\t1341019\tViruses; Parvoviridae; Parvovirus NIH-CQV; \r\n",
      "C\tGB3LKKR02FN2AT\t1655645\tViruses; Microviridae; Parabacteroides phage YZ-2015b; \r\n",
      "C\tFCPU0RF01C5T43\t1676181\tViruses; Microviridae; Chimpanzee faeces associated microphage 1; \r\n",
      "C\tFC8LRL301DWCPC\t1341019\tViruses; Parvoviridae; Parvovirus NIH-CQV; \r\n",
      "C\tGB3LKKR01B4GKH\t948870\tViruses; Myoviridae; Enterobacteria phage phi92; \r\n",
      "C\tGB3LKKR02IBFSM\t1676182\tViruses; Microviridae; Chimpanzee faeces associated microphage 2; \r\n"
     ]
    }
   ],
   "source": [
    "!head 454_seqs_kaiju_greedy.names.virus.txt"
   ]
  },
  {
   "cell_type": "code",
   "execution_count": 3,
   "metadata": {
    "collapsed": false
   },
   "outputs": [],
   "source": [
    "%matplotlib inline\n",
    "import pandas as pd\n",
    "import seaborn as sns\n",
    "import editdistance\n",
    "import itertools"
   ]
  },
  {
   "cell_type": "code",
   "execution_count": 4,
   "metadata": {
    "collapsed": false
   },
   "outputs": [
    {
     "data": {
      "text/html": [
       "<div>\n",
       "<table border=\"1\" class=\"dataframe\">\n",
       "  <thead>\n",
       "    <tr style=\"text-align: right;\">\n",
       "      <th></th>\n",
       "      <th>family</th>\n",
       "      <th>species</th>\n",
       "    </tr>\n",
       "  </thead>\n",
       "  <tbody>\n",
       "    <tr>\n",
       "      <th>0</th>\n",
       "      <td>Microviridae</td>\n",
       "      <td>Chimpanzee faeces associated microphage 2</td>\n",
       "    </tr>\n",
       "    <tr>\n",
       "      <th>1</th>\n",
       "      <td>Parvoviridae</td>\n",
       "      <td>Parvovirus NIH-CQV</td>\n",
       "    </tr>\n",
       "    <tr>\n",
       "      <th>2</th>\n",
       "      <td>Myoviridae</td>\n",
       "      <td>Enterobacteria phage phi92</td>\n",
       "    </tr>\n",
       "    <tr>\n",
       "      <th>3</th>\n",
       "      <td>Myoviridae</td>\n",
       "      <td>Enterobacteria phage phi92</td>\n",
       "    </tr>\n",
       "    <tr>\n",
       "      <th>4</th>\n",
       "      <td>Parvoviridae</td>\n",
       "      <td>Parvovirus NIH-CQV</td>\n",
       "    </tr>\n",
       "  </tbody>\n",
       "</table>\n",
       "</div>"
      ],
      "text/plain": [
       "         family                                    species\n",
       "0  Microviridae  Chimpanzee faeces associated microphage 2\n",
       "1  Parvoviridae                         Parvovirus NIH-CQV\n",
       "2    Myoviridae                 Enterobacteria phage phi92\n",
       "3    Myoviridae                 Enterobacteria phage phi92\n",
       "4  Parvoviridae                         Parvovirus NIH-CQV"
      ]
     },
     "execution_count": 4,
     "metadata": {},
     "output_type": "execute_result"
    }
   ],
   "source": [
    "#The file stores the annotation for each read with some Virus annotation\n",
    "viruses = []\n",
    "with open(\"454_seqs_kaiju_greedy.names.virus.txt\") as fh:\n",
    "    for line in fh:\n",
    "        viruses.append([x.rstrip(\" \\t\").lstrip(\" \\t\") for x in line.rstrip(\"\\n\").split(\";\")[1:-1]])\n",
    "        \n",
    "read_annot = pd.DataFrame.from_records(viruses,columns=[\"family\",\"species\"])\n",
    "read_annot.head()"
   ]
  },
  {
   "cell_type": "code",
   "execution_count": 5,
   "metadata": {
    "collapsed": false
   },
   "outputs": [
    {
     "data": {
      "text/html": [
       "<div>\n",
       "<table border=\"1\" class=\"dataframe\">\n",
       "  <thead>\n",
       "    <tr style=\"text-align: right;\">\n",
       "      <th></th>\n",
       "      <th>family</th>\n",
       "      <th>species</th>\n",
       "      <th>species_fillna</th>\n",
       "    </tr>\n",
       "  </thead>\n",
       "  <tbody>\n",
       "    <tr>\n",
       "      <th>0</th>\n",
       "      <td>Microviridae</td>\n",
       "      <td>Chimpanzee faeces associated microphage 2</td>\n",
       "      <td>Chimpanzee faeces associated microphage 2</td>\n",
       "    </tr>\n",
       "    <tr>\n",
       "      <th>1</th>\n",
       "      <td>Parvoviridae</td>\n",
       "      <td>Parvovirus NIH-CQV</td>\n",
       "      <td>Parvovirus NIH-CQV</td>\n",
       "    </tr>\n",
       "    <tr>\n",
       "      <th>2</th>\n",
       "      <td>Myoviridae</td>\n",
       "      <td>Enterobacteria phage phi92</td>\n",
       "      <td>Enterobacteria phage phi92</td>\n",
       "    </tr>\n",
       "    <tr>\n",
       "      <th>3</th>\n",
       "      <td>Myoviridae</td>\n",
       "      <td>Enterobacteria phage phi92</td>\n",
       "      <td>Enterobacteria phage phi92</td>\n",
       "    </tr>\n",
       "    <tr>\n",
       "      <th>4</th>\n",
       "      <td>Parvoviridae</td>\n",
       "      <td>Parvovirus NIH-CQV</td>\n",
       "      <td>Parvovirus NIH-CQV</td>\n",
       "    </tr>\n",
       "  </tbody>\n",
       "</table>\n",
       "</div>"
      ],
      "text/plain": [
       "         family                                    species  \\\n",
       "0  Microviridae  Chimpanzee faeces associated microphage 2   \n",
       "1  Parvoviridae                         Parvovirus NIH-CQV   \n",
       "2    Myoviridae                 Enterobacteria phage phi92   \n",
       "3    Myoviridae                 Enterobacteria phage phi92   \n",
       "4  Parvoviridae                         Parvovirus NIH-CQV   \n",
       "\n",
       "                              species_fillna  \n",
       "0  Chimpanzee faeces associated microphage 2  \n",
       "1                         Parvovirus NIH-CQV  \n",
       "2                 Enterobacteria phage phi92  \n",
       "3                 Enterobacteria phage phi92  \n",
       "4                         Parvovirus NIH-CQV  "
      ]
     },
     "execution_count": 5,
     "metadata": {},
     "output_type": "execute_result"
    }
   ],
   "source": [
    "read_annot[\"species_fillna\"] = read_annot.apply(lambda r: \"unclassified {}\".format(r[\"family\"]) if r[\"species\"] == \"NA\" else r[\"species\"],axis=1)\n",
    "read_annot.head()"
   ]
  },
  {
   "cell_type": "markdown",
   "metadata": {},
   "source": [
    "# Combine similar annotations into a single 'clade'\n",
    "\n",
    "E.g Enterobacteria phage phi92 and phi91 should be grouped"
   ]
  },
  {
   "cell_type": "code",
   "execution_count": 6,
   "metadata": {
    "collapsed": false
   },
   "outputs": [
    {
     "data": {
      "text/html": [
       "<div>\n",
       "<table border=\"1\" class=\"dataframe\">\n",
       "  <thead>\n",
       "    <tr style=\"text-align: right;\">\n",
       "      <th></th>\n",
       "      <th>sp1</th>\n",
       "      <th>sp2</th>\n",
       "      <th>edit_distance</th>\n",
       "      <th>similarity</th>\n",
       "    </tr>\n",
       "  </thead>\n",
       "  <tbody>\n",
       "    <tr>\n",
       "      <th>0</th>\n",
       "      <td>Chimpanzee faeces associated microphage 2</td>\n",
       "      <td>Parvovirus NIH-CQV</td>\n",
       "      <td>37</td>\n",
       "      <td>0.097561</td>\n",
       "    </tr>\n",
       "    <tr>\n",
       "      <th>1</th>\n",
       "      <td>Chimpanzee faeces associated microphage 2</td>\n",
       "      <td>Enterobacteria phage phi92</td>\n",
       "      <td>30</td>\n",
       "      <td>0.268293</td>\n",
       "    </tr>\n",
       "    <tr>\n",
       "      <th>2</th>\n",
       "      <td>Chimpanzee faeces associated microphage 2</td>\n",
       "      <td>Parabacteroides phage YZ-2015b</td>\n",
       "      <td>33</td>\n",
       "      <td>0.195122</td>\n",
       "    </tr>\n",
       "    <tr>\n",
       "      <th>3</th>\n",
       "      <td>Chimpanzee faeces associated microphage 2</td>\n",
       "      <td>Chimpanzee faeces associated microphage 1</td>\n",
       "      <td>1</td>\n",
       "      <td>0.975610</td>\n",
       "    </tr>\n",
       "    <tr>\n",
       "      <th>4</th>\n",
       "      <td>Chimpanzee faeces associated microphage 2</td>\n",
       "      <td>Vibrio phage helene 12B3</td>\n",
       "      <td>35</td>\n",
       "      <td>0.146341</td>\n",
       "    </tr>\n",
       "  </tbody>\n",
       "</table>\n",
       "</div>"
      ],
      "text/plain": [
       "                                         sp1  \\\n",
       "0  Chimpanzee faeces associated microphage 2   \n",
       "1  Chimpanzee faeces associated microphage 2   \n",
       "2  Chimpanzee faeces associated microphage 2   \n",
       "3  Chimpanzee faeces associated microphage 2   \n",
       "4  Chimpanzee faeces associated microphage 2   \n",
       "\n",
       "                                         sp2  edit_distance  similarity  \n",
       "0                         Parvovirus NIH-CQV             37    0.097561  \n",
       "1                 Enterobacteria phage phi92             30    0.268293  \n",
       "2             Parabacteroides phage YZ-2015b             33    0.195122  \n",
       "3  Chimpanzee faeces associated microphage 1              1    0.975610  \n",
       "4                   Vibrio phage helene 12B3             35    0.146341  "
      ]
     },
     "execution_count": 6,
     "metadata": {},
     "output_type": "execute_result"
    }
   ],
   "source": [
    "editdist_sp = [ (sp1,sp2,editdistance.eval(sp1,sp2)) for sp1,sp2 in itertools.combinations(read_annot[\"species_fillna\"].unique(),2) ]\n",
    "editdist_df = pd.DataFrame.from_records(editdist_sp,columns=[\"sp1\",\"sp2\",\"edit_distance\"])\n",
    "editdist_df[\"similarity\"] = editdist_df.apply(lambda r: (max(len(r[\"sp1\"]),len(r[\"sp2\"]))-r[\"edit_distance\"])/ max(len(r[\"sp1\"]),len(r[\"sp2\"])),axis=1)\n",
    "editdist_df.head()"
   ]
  },
  {
   "cell_type": "code",
   "execution_count": 7,
   "metadata": {
    "collapsed": false
   },
   "outputs": [],
   "source": [
    "cluster_membership = {}\n",
    "clusters = []\n",
    "\n",
    "#Single linkage clustering\n",
    "for _,row in editdist_df[editdist_df.similarity > 0.65 ].sort_values(\"similarity\",ascending=False).iterrows():\n",
    "    if row[\"sp1\"] not in cluster_membership and row[\"sp2\"] not in cluster_membership:\n",
    "        #Create new cluster and add them both\n",
    "        clusters.append([row[\"sp1\"],row[\"sp2\"]])\n",
    "        cluster_membership[row[\"sp1\"]] = len(clusters)-1\n",
    "        cluster_membership[row[\"sp2\"]] = len(clusters)-1\n",
    "    elif row[\"sp1\"] in cluster_membership:\n",
    "        if row[\"sp2\"] not in cluster_membership:\n",
    "            #Add sp2 to sp1 cluster\n",
    "            clusters[cluster_membership[row[\"sp1\"]]].append(row[\"sp2\"])\n",
    "            cluster_membership[row[\"sp2\"]] = cluster_membership[row[\"sp1\"]]\n",
    "        else:\n",
    "            if cluster_membership[row[\"sp1\"]] != cluster_membership[row[\"sp2\"]]:\n",
    "                #Combine clusters!\n",
    "                c1_pos = cluster_membership[row[\"sp1\"]]\n",
    "                c2_pos = cluster_membership[row[\"sp2\"]]\n",
    "                clusters[c1_pos] += clusters[c2_pos]\n",
    "                for c in clusters[c2_pos]:\n",
    "                    cluster_membership[c] = c1_pos\n",
    "                clusters[c2_pos] = None\n",
    "    else:\n",
    "        #Row 2 is in cluster and row1 is not\n",
    "        clusters[cluster_membership[row[\"sp2\"]]].append(row[\"sp1\"])\n",
    "        cluster_membership[row[\"sp1\"]] = cluster_membership[row[\"sp2\"]]"
   ]
  },
  {
   "cell_type": "code",
   "execution_count": 8,
   "metadata": {
    "collapsed": false
   },
   "outputs": [],
   "source": [
    "cluster_names = [\";\".join(c) if c else None for c in clusters]"
   ]
  },
  {
   "cell_type": "markdown",
   "metadata": {},
   "source": [
    "# Use new clade groups"
   ]
  },
  {
   "cell_type": "code",
   "execution_count": 22,
   "metadata": {
    "collapsed": false
   },
   "outputs": [
    {
     "name": "stdout",
     "output_type": "stream",
     "text": [
      "(16, 2)\n"
     ]
    },
    {
     "data": {
      "text/html": [
       "<div>\n",
       "<table border=\"1\" class=\"dataframe\">\n",
       "  <thead>\n",
       "    <tr style=\"text-align: right;\">\n",
       "      <th></th>\n",
       "      <th>species</th>\n",
       "      <th>read_count</th>\n",
       "    </tr>\n",
       "  </thead>\n",
       "  <tbody>\n",
       "    <tr>\n",
       "      <th>5</th>\n",
       "      <td>Enterobacteria phage phi92</td>\n",
       "      <td>52</td>\n",
       "    </tr>\n",
       "    <tr>\n",
       "      <th>31</th>\n",
       "      <td>uncultured crAssphage</td>\n",
       "      <td>34</td>\n",
       "    </tr>\n",
       "    <tr>\n",
       "      <th>13</th>\n",
       "      <td>Parabacteroides phage YZ-2015b;Parabacteroides...</td>\n",
       "      <td>24</td>\n",
       "    </tr>\n",
       "    <tr>\n",
       "      <th>14</th>\n",
       "      <td>Parvovirus NIH-CQV</td>\n",
       "      <td>18</td>\n",
       "    </tr>\n",
       "    <tr>\n",
       "      <th>16</th>\n",
       "      <td>Phytophthora parasitica virus</td>\n",
       "      <td>18</td>\n",
       "    </tr>\n",
       "    <tr>\n",
       "      <th>7</th>\n",
       "      <td>Gokushovirinae Fen672_31;Gokushovirinae Fen787...</td>\n",
       "      <td>10</td>\n",
       "    </tr>\n",
       "    <tr>\n",
       "      <th>21</th>\n",
       "      <td>Sewage-associated gemycircularvirus 11;Sewage-...</td>\n",
       "      <td>5</td>\n",
       "    </tr>\n",
       "    <tr>\n",
       "      <th>1</th>\n",
       "      <td>Chimpanzee faeces associated microphage 2;Chim...</td>\n",
       "      <td>4</td>\n",
       "    </tr>\n",
       "    <tr>\n",
       "      <th>20</th>\n",
       "      <td>Salmonella virus SP31</td>\n",
       "      <td>4</td>\n",
       "    </tr>\n",
       "    <tr>\n",
       "      <th>29</th>\n",
       "      <td>unclassified NA</td>\n",
       "      <td>4</td>\n",
       "    </tr>\n",
       "    <tr>\n",
       "      <th>18</th>\n",
       "      <td>Pseudomonas virus NP1</td>\n",
       "      <td>3</td>\n",
       "    </tr>\n",
       "    <tr>\n",
       "      <th>19</th>\n",
       "      <td>Rhizobium phage RHEph10;Rhizobium phage vB_Rgl...</td>\n",
       "      <td>3</td>\n",
       "    </tr>\n",
       "    <tr>\n",
       "      <th>2</th>\n",
       "      <td>Croceibacter phage P2559Y</td>\n",
       "      <td>2</td>\n",
       "    </tr>\n",
       "    <tr>\n",
       "      <th>17</th>\n",
       "      <td>Pseudomonas phage PAJU2;Pseudomonas phage phiP...</td>\n",
       "      <td>2</td>\n",
       "    </tr>\n",
       "    <tr>\n",
       "      <th>23</th>\n",
       "      <td>TTV-like mini virus</td>\n",
       "      <td>2</td>\n",
       "    </tr>\n",
       "    <tr>\n",
       "      <th>30</th>\n",
       "      <td>unclassified Siphoviridae</td>\n",
       "      <td>2</td>\n",
       "    </tr>\n",
       "  </tbody>\n",
       "</table>\n",
       "</div>"
      ],
      "text/plain": [
       "                                              species  read_count\n",
       "5                          Enterobacteria phage phi92          52\n",
       "31                              uncultured crAssphage          34\n",
       "13  Parabacteroides phage YZ-2015b;Parabacteroides...          24\n",
       "14                                 Parvovirus NIH-CQV          18\n",
       "16                      Phytophthora parasitica virus          18\n",
       "7   Gokushovirinae Fen672_31;Gokushovirinae Fen787...          10\n",
       "21  Sewage-associated gemycircularvirus 11;Sewage-...           5\n",
       "1   Chimpanzee faeces associated microphage 2;Chim...           4\n",
       "20                              Salmonella virus SP31           4\n",
       "29                                    unclassified NA           4\n",
       "18                              Pseudomonas virus NP1           3\n",
       "19  Rhizobium phage RHEph10;Rhizobium phage vB_Rgl...           3\n",
       "2                           Croceibacter phage P2559Y           2\n",
       "17  Pseudomonas phage PAJU2;Pseudomonas phage phiP...           2\n",
       "23                                TTV-like mini virus           2\n",
       "30                          unclassified Siphoviridae           2"
      ]
     },
     "execution_count": 22,
     "metadata": {},
     "output_type": "execute_result"
    }
   ],
   "source": [
    "read_annot[\"sp_group\"] = read_annot[\"species_fillna\"].apply(lambda x: cluster_names[cluster_membership[x]] if x in cluster_membership and \"unclassified\" not in x else x)\n",
    "df_counts = read_annot.groupby(\"sp_group\").size().reset_index()\n",
    "df_counts.columns = [\"species\",\"read_count\"]\n",
    "print(df_counts[df_counts.read_count >= 2].shape)\n",
    "df_counts[df_counts.read_count >= 2].sort_values(\"read_count\",ascending=False)"
   ]
  },
  {
   "cell_type": "code",
   "execution_count": 18,
   "metadata": {
    "collapsed": false
   },
   "outputs": [
    {
     "data": {
      "text/plain": [
       "<matplotlib.axes._subplots.AxesSubplot at 0x119307a20>"
      ]
     },
     "execution_count": 18,
     "metadata": {},
     "output_type": "execute_result"
    },
    {
     "data": {
      "image/png": "[encoded data removed]",
      "text/plain": [
       "<matplotlib.figure.Figure at 0x105fc9160>"
      ]
     },
     "metadata": {},
     "output_type": "display_data"
    }
   ],
   "source": [
    "virus_count_histogram = df_counts[df_counts.read_count >= 3].groupby(\"read_count\").size().reset_index()\n",
    "sns.barplot(x=virus_count_histogram[\"read_count\"],y=virus_count_histogram[0])"
   ]
  },
  {
   "cell_type": "code",
   "execution_count": 21,
   "metadata": {
    "collapsed": false
   },
   "outputs": [],
   "source": [
    "df_counts[df_counts.read_count >= 2].sort_values(\"read_count\",ascending=False).to_csv(\"454_seqs_kaiju_greedy.filt_species.tsv\",sep=\"\\t\",index=False)"
   ]
  },
  {
   "cell_type": "code",
   "execution_count": 20,
   "metadata": {
    "collapsed": false
   },
   "outputs": [
    {
     "name": "stdout",
     "output_type": "stream",
     "text": [
      "454_seqs_kaiju_greedy.family.report     454_seqs_kaiju_greedy.species.report\r\n",
      "454_seqs_kaiju_greedy.filt_species.tsv  454_seqs_kaiju_greedy.txt\r\n",
      "454_seqs_kaiju_greedy.genus.report      kaiju_greedy_summarize_virus_hits.ipynb\r\n",
      "454_seqs_kaiju_greedy.names.txt         summarize_virus_hits.ipynb\r\n",
      "454_seqs_kaiju_greedy.names.virus.txt\r\n"
     ]
    }
   ],
   "source": [
    "!ls"
   ]
  }
 ],
 "metadata": {
  "kernelspec": {
   "display_name": "Python 3",
   "language": "python",
   "name": "python3"
  },
  "language_info": {
   "codemirror_mode": {
    "name": "ipython",
    "version": 3
   },
   "file_extension": ".py",
   "mimetype": "text/x-python",
   "name": "python",
   "nbconvert_exporter": "python",
   "pygments_lexer": "ipython3",
   "version": "3.5.1"
  }
 },
 "nbformat": 4,
 "nbformat_minor": 0
}

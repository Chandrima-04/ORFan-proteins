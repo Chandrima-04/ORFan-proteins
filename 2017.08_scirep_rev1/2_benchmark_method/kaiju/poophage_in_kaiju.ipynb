{
 "cells": [
  {
   "cell_type": "code",
   "execution_count": 2,
   "metadata": {
    "collapsed": false
   },
   "outputs": [
    {
     "name": "stdout",
     "output_type": "stream",
     "text": [
      "1_extract_poophage_reads.sh\t454_seqs_poophage_PfamA.tbl\r\n",
      "2_hmmscan_to_pfam.sh\t\t454_seqs_poophage_pVOG.domtbl\r\n",
      "2_hmmscan_to_pvog.sh\t\t454_seqs_poophage_pVOG.out\r\n",
      "2_hmmscan_to_vogdb.sh\t\t454_seqs_poophage_pVOG.tbl\r\n",
      "454_seqs_poophage.fa\t\t454_seqs_poophage_vogdb.domtbl\r\n",
      "454_seqs_poophage_PfamA.domtbl\t454_seqs_poophage_vogdb.out\r\n",
      "454_seqs_poophage_PfamA.out\t454_seqs_poophage_vogdb.tbl\r\n"
     ]
    }
   ],
   "source": [
    "!ls ../../1_find_poophage/2_hmmer/"
   ]
  },
  {
   "cell_type": "code",
   "execution_count": 9,
   "metadata": {
    "collapsed": false
   },
   "outputs": [],
   "source": [
    "import pandas as pd"
   ]
  },
  {
   "cell_type": "markdown",
   "metadata": {},
   "source": [
    "# Aim:\n",
    "\n",
    "See how many poophage sequences are classified as viral by kaiju\n"
   ]
  },
  {
   "cell_type": "code",
   "execution_count": 26,
   "metadata": {
    "collapsed": false
   },
   "outputs": [
    {
     "name": "stdout",
     "output_type": "stream",
     "text": [
      "1147\n"
     ]
    }
   ],
   "source": [
    "#1. Load poophage seqids\n",
    "poophage_seqs = []\n",
    "with open(\"../../1_find_poophage/2_hmmer/454_seqs_poophage.fa\") as fh:\n",
    "    for line in fh:\n",
    "        if line.startswith(\">\"):\n",
    "            poophage_seqs.append(line.rstrip(\"\\n\").lstrip(\">\"))\n",
    "            \n",
    "print(len(poophage_seqs))\n",
    "poophage_seqs = frozenset(poophage_seqs)"
   ]
  },
  {
   "cell_type": "code",
   "execution_count": 23,
   "metadata": {
    "collapsed": false
   },
   "outputs": [
    {
     "data": {
      "text/html": [
       "<div>\n",
       "<table border=\"1\" class=\"dataframe\">\n",
       "  <thead>\n",
       "    <tr style=\"text-align: right;\">\n",
       "      <th></th>\n",
       "      <th>classified</th>\n",
       "      <th>seqid</th>\n",
       "      <th>taxid</th>\n",
       "      <th>tax</th>\n",
       "    </tr>\n",
       "  </thead>\n",
       "  <tbody>\n",
       "    <tr>\n",
       "      <th>0</th>\n",
       "      <td>C</td>\n",
       "      <td>FTSPZO101CHNQ7</td>\n",
       "      <td>196894</td>\n",
       "      <td>Viruses; Siphoviridae; NA;</td>\n",
       "    </tr>\n",
       "    <tr>\n",
       "      <th>1</th>\n",
       "      <td>C</td>\n",
       "      <td>DBA-SLE_c5570</td>\n",
       "      <td>1341019</td>\n",
       "      <td>Viruses; Parvoviridae; Parvovirus NIH-CQV;</td>\n",
       "    </tr>\n",
       "    <tr>\n",
       "      <th>2</th>\n",
       "      <td>C</td>\n",
       "      <td>GB3LKKR01ED1RA</td>\n",
       "      <td>1792245</td>\n",
       "      <td>Viruses; Myoviridae; Bacillus virus Deepblue;</td>\n",
       "    </tr>\n",
       "    <tr>\n",
       "      <th>3</th>\n",
       "      <td>C</td>\n",
       "      <td>GB3LKKR01DUZ77</td>\n",
       "      <td>948870</td>\n",
       "      <td>Viruses; Myoviridae; Enterobacteria phage phi92;</td>\n",
       "    </tr>\n",
       "    <tr>\n",
       "      <th>4</th>\n",
       "      <td>C</td>\n",
       "      <td>FTSPZO101E24BN</td>\n",
       "      <td>1608451</td>\n",
       "      <td>Viruses; NA; Phytophthora parasitica virus;</td>\n",
       "    </tr>\n",
       "  </tbody>\n",
       "</table>\n",
       "</div>"
      ],
      "text/plain": [
       "  classified           seqid    taxid  \\\n",
       "0          C  FTSPZO101CHNQ7   196894   \n",
       "1          C   DBA-SLE_c5570  1341019   \n",
       "2          C  GB3LKKR01ED1RA  1792245   \n",
       "3          C  GB3LKKR01DUZ77   948870   \n",
       "4          C  FTSPZO101E24BN  1608451   \n",
       "\n",
       "                                                 tax  \n",
       "0                        Viruses; Siphoviridae; NA;   \n",
       "1        Viruses; Parvoviridae; Parvovirus NIH-CQV;   \n",
       "2     Viruses; Myoviridae; Bacillus virus Deepblue;   \n",
       "3  Viruses; Myoviridae; Enterobacteria phage phi92;   \n",
       "4       Viruses; NA; Phytophthora parasitica virus;   "
      ]
     },
     "execution_count": 23,
     "metadata": {},
     "output_type": "execute_result"
    }
   ],
   "source": [
    "kaiju_virus_df = pd.read_csv(\"./454_seqs_kaiju.names.virus.txt\",sep=\"\\t\",header=None,names=[\"classified\",\"seqid\",\"taxid\",\"tax\"])\n",
    "kaiju_virus_df.head()"
   ]
  },
  {
   "cell_type": "code",
   "execution_count": 31,
   "metadata": {
    "collapsed": false
   },
   "outputs": [
    {
     "data": {
      "text/plain": [
       "(0, 4)"
      ]
     },
     "execution_count": 31,
     "metadata": {},
     "output_type": "execute_result"
    }
   ],
   "source": [
    "#It's empty !\n",
    "kaiju_virus_df[kaiju_virus_df[\"seqid\"].apply(lambda x: x in poophage_seqs)].shape"
   ]
  },
  {
   "cell_type": "code",
   "execution_count": null,
   "metadata": {
    "collapsed": true
   },
   "outputs": [],
   "source": []
  }
 ],
 "metadata": {
  "kernelspec": {
   "display_name": "Python 2",
   "language": "python",
   "name": "python2"
  },
  "language_info": {
   "codemirror_mode": {
    "name": "ipython",
    "version": 2
   },
   "file_extension": ".py",
   "mimetype": "text/x-python",
   "name": "python",
   "nbconvert_exporter": "python",
   "pygments_lexer": "ipython2",
   "version": "2.7.11"
  }
 },
 "nbformat": 4,
 "nbformat_minor": 0
}

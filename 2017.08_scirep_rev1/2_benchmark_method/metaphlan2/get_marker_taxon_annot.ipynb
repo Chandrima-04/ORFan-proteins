{
 "cells": [
  {
   "cell_type": "code",
   "execution_count": 1,
   "metadata": {
    "collapsed": true
   },
   "outputs": [],
   "source": [
    "import cPickle as pickle\n",
    "import bz2\n",
    "import pandas as pd"
   ]
  },
  {
   "cell_type": "code",
   "execution_count": 2,
   "metadata": {
    "collapsed": false
   },
   "outputs": [],
   "source": [
    "#Import mpa2 marker metadata\n",
    "with open(\"/labcommon/tools/metaphlan2/2.6.0/db_v20/mpa_v20_m200.pkl\",\"rb\") as fh:\n",
    "    mpa2 = pickle.loads( bz2.decompress( fh.read()) ) "
   ]
  },
  {
   "cell_type": "code",
   "execution_count": 3,
   "metadata": {
    "collapsed": false
   },
   "outputs": [],
   "source": [
    "#load Marker hits from sam\n",
    "marker_hits = []\n",
    "with open(\"454_reads_mpa2.sam\") as sam_fh:\n",
    "    for line in sam_fh:\n",
    "        if not line.startswith(\"@\"):\n",
    "            marker_hits.append(line.split(\"\\t\",3)[2])"
   ]
  },
  {
   "cell_type": "code",
   "execution_count": 4,
   "metadata": {
    "collapsed": false
   },
   "outputs": [],
   "source": [
    "#Get taxon annotation for each marker\n",
    "taxons = [ mpa2[\"markers\"][x][\"taxon\"] for x in marker_hits ]"
   ]
  },
  {
   "cell_type": "code",
   "execution_count": 13,
   "metadata": {
    "collapsed": false
   },
   "outputs": [],
   "source": [
    "df = pd.DataFrame({\"marker\":marker_hits,\"taxon\":taxons}).groupby([\"marker\",\"taxon\"]).size().reset_index()\n",
    "df.columns = [\"marker\",\"taxon\",\"count\"]\n",
    "df = df.sort_values(\"count\",ascending=False)\n",
    "df.head()\n",
    "df.to_csv(\"markers_to_taxons.csv\",index=False)"
   ]
  }
 ],
 "metadata": {
  "kernelspec": {
   "display_name": "Python 2",
   "language": "python",
   "name": "python2"
  },
  "language_info": {
   "codemirror_mode": {
    "name": "ipython",
    "version": 2
   },
   "file_extension": ".py",
   "mimetype": "text/x-python",
   "name": "python",
   "nbconvert_exporter": "python",
   "pygments_lexer": "ipython2",
   "version": "2.7.11"
  }
 },
 "nbformat": 4,
 "nbformat_minor": 0
}
